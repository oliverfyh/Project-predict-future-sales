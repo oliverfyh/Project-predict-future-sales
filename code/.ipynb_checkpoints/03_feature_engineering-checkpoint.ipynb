{
 "cells": [
  {
   "cell_type": "code",
   "execution_count": 65,
   "id": "7de4d523",
   "metadata": {},
   "outputs": [],
   "source": [
    "import numpy as np\n",
    "import pandas as pd\n",
    "import seaborn as sns\n",
    "\n",
    "\n",
    "import matplotlib\n",
    "from matplotlib import pyplot as plt\n",
    "from textwrap import wrap\n",
    "\n",
    "\n",
    "pd.options.display.float_format = '{:,.2f}'.format\n",
    "pd.options.display.max_columns = None\n",
    "pd.options.display.max_rows = None\n",
    "pd.set_option('display.max_colwidth', None)\n",
    "\n",
    "import pickle\n",
    "import time\n",
    "\n",
    "import lightgbm as lgb\n",
    "import xgboost as xgb\n",
    "\n",
    "from itertools import product\n",
    "\n",
    "#import googletrans\n",
    "#from googletrans import Translator\n",
    "#to avoid instantiate too many translator, we created one instance for the whole notebook\n",
    "#translator = Translator()\n",
    "\n",
    "random_key=42\n",
    "\n",
    "import lightgbm as lgb\n",
    "\n",
    "from sklearn import metrics\n",
    "from sklearn.metrics import mean_squared_error\n",
    "from sklearn.metrics import confusion_matrix, plot_confusion_matrix, ConfusionMatrixDisplay, RocCurveDisplay, PrecisionRecallDisplay\n",
    "from sklearn.feature_extraction.text import TfidfVectorizer\n",
    "from sklearn.model_selection import TimeSeriesSplit\n",
    "\n",
    "#from sklearn.ensemble import RandomForestClassifier, GradientBoostingClassifier\n",
    "\n",
    "from sklearn.model_selection import GridSearchCV\n",
    "#from sklearn.dummy import DummyClassifier\n",
    "\n",
    "from imblearn.pipeline import Pipeline \n",
    "\n",
    "from sklearn.ensemble import RandomForestClassifier\n",
    "\n",
    "import shap"
   ]
  },
  {
   "cell_type": "code",
   "execution_count": null,
   "id": "31f3525f",
   "metadata": {},
   "outputs": [],
   "source": []
  },
  {
   "cell_type": "code",
   "execution_count": null,
   "id": "221b7ab6",
   "metadata": {},
   "outputs": [],
   "source": []
  },
  {
   "cell_type": "code",
   "execution_count": null,
   "id": "40eef1eb",
   "metadata": {},
   "outputs": [],
   "source": []
  },
  {
   "cell_type": "code",
   "execution_count": null,
   "id": "18a0a726",
   "metadata": {},
   "outputs": [],
   "source": []
  },
  {
   "cell_type": "code",
   "execution_count": 82,
   "id": "71cb752a",
   "metadata": {},
   "outputs": [],
   "source": [
    "# The function will:\n",
    "# 1. run the input GridSearchCV\n",
    "# 2. compute and compare the roc_auc_score, F1 score for training data and testing data\n",
    "# 3. get and print the confusion matrix\n",
    "# 4. plot the confusion matrix and P-R curve\n",
    "# 5. plot feature importance list\n",
    "\n",
    "def run_model(gs, model_name, X_train, y_train, X_validation, y_validation):\n",
    "    \n",
    "    # run the input GridSearchCV\n",
    "    gs.fit(X_train, y_train)\n",
    "    \n",
    "    # print(gs.best_params_)\n",
    "    if isinstance(gs, GridSearchCV):\n",
    "        print(\"best_params: \")\n",
    "        print(best_lgb.best_params_, best_lgb.best_score_)\n",
    "       # for (item, value) in gs.best_params_.items():\n",
    "       #     print('   ',item, ' : ', value)\n",
    "    \n",
    "    #compute and compare the auc_score for training data and testing data\n",
    "    train_rmse_score = gs.score(X_train, y_train) * (-1)\n",
    "    validation_rmse_score = gs.score(X_validation, y_validation) * (-1)\n",
    "    rmse_perc_diff = np.abs(validation_rmse_score/train_rmse_score*100-100)\n",
    "    \n",
    "    print(f'\\nrmse_score on training set: {train_rmse_score:.3f}')\n",
    "    print(f'rmse_score on testing set: {validation_rmse_score:.3f}')\n",
    "    print(f'perc_diff: {rmse_perc_diff:.1f} %\\n')\n",
    "    \n",
    "    # Get predictions\n",
    "    y_train_preds = gs.predict(X_train) \n",
    "    y_validation_preds = gs.predict(X_validation)\n",
    "    \n",
    "    \n",
    "    \n",
    "\n",
    "    return pd.DataFrame({'rmse_score on training set': train_rmse_score,\n",
    "                         'rmse_score on testing set': validation_rmse_score,\n",
    "                         'Generalization %': rmse_perc_diff,\n",
    "                        }, index=[model_name])"
   ]
  },
  {
   "cell_type": "markdown",
   "id": "8ff70443",
   "metadata": {},
   "source": [
    "# import data from pickle file"
   ]
  },
  {
   "cell_type": "code",
   "execution_count": 3,
   "id": "7047642f",
   "metadata": {},
   "outputs": [],
   "source": [
    "#read pickle_dict, which store everything\n",
    "\n",
    "pickle_dict1 = pickle.load(open('../temp/data1.pkl', 'rb'))\n",
    "df_all = pickle_dict1['df_all']   #concat df_train_m and df_test\n",
    "df_train = pickle_dict1['df_train']\n",
    "df_test = pickle_dict1['df_test']\n",
    "df_items = pickle_dict1['df_items']\n",
    "df_shops = pickle_dict1['df_shops']\n",
    "df_cat = pickle_dict1['df_cat']\n",
    "new_arrival_item_list = pickle_dict1['new_arrival_item_list']\n",
    "\n",
    "\n",
    "pickle_dict2 = pickle.load(open('../temp/data2.pkl', 'rb'))\n",
    "df_basegrid = pickle_dict2['df_basegrid']   #concat df_train_m and df_test\n"
   ]
  },
  {
   "cell_type": "code",
   "execution_count": null,
   "id": "25316011",
   "metadata": {},
   "outputs": [],
   "source": []
  },
  {
   "cell_type": "code",
   "execution_count": 4,
   "id": "055a6e17",
   "metadata": {},
   "outputs": [
    {
     "data": {
      "text/plain": [
       "(2946018, 10)"
      ]
     },
     "execution_count": 4,
     "metadata": {},
     "output_type": "execute_result"
    }
   ],
   "source": [
    "df_basegrid.shape"
   ]
  },
  {
   "cell_type": "code",
   "execution_count": 5,
   "id": "3bbf3f90",
   "metadata": {},
   "outputs": [
    {
     "data": {
      "text/html": [
       "<div>\n",
       "<style scoped>\n",
       "    .dataframe tbody tr th:only-of-type {\n",
       "        vertical-align: middle;\n",
       "    }\n",
       "\n",
       "    .dataframe tbody tr th {\n",
       "        vertical-align: top;\n",
       "    }\n",
       "\n",
       "    .dataframe thead th {\n",
       "        text-align: right;\n",
       "    }\n",
       "</style>\n",
       "<table border=\"1\" class=\"dataframe\">\n",
       "  <thead>\n",
       "    <tr style=\"text-align: right;\">\n",
       "      <th></th>\n",
       "      <th>shop_id</th>\n",
       "      <th>item_id</th>\n",
       "      <th>date_block_num</th>\n",
       "      <th>item_price</th>\n",
       "      <th>item_cnt_month</th>\n",
       "      <th>is_new_arrival</th>\n",
       "      <th>month</th>\n",
       "      <th>year</th>\n",
       "      <th>year_month</th>\n",
       "      <th>item_category_id</th>\n",
       "    </tr>\n",
       "  </thead>\n",
       "  <tbody>\n",
       "    <tr>\n",
       "      <th>0</th>\n",
       "      <td>2</td>\n",
       "      <td>5572</td>\n",
       "      <td>0</td>\n",
       "      <td>1,533.00</td>\n",
       "      <td>9</td>\n",
       "      <td>0</td>\n",
       "      <td>1</td>\n",
       "      <td>2013</td>\n",
       "      <td>2013-01-01</td>\n",
       "      <td>2</td>\n",
       "    </tr>\n",
       "    <tr>\n",
       "      <th>1</th>\n",
       "      <td>2</td>\n",
       "      <td>5643</td>\n",
       "      <td>0</td>\n",
       "      <td>2,388.00</td>\n",
       "      <td>0</td>\n",
       "      <td>0</td>\n",
       "      <td>1</td>\n",
       "      <td>2013</td>\n",
       "      <td>2013-01-01</td>\n",
       "      <td>2</td>\n",
       "    </tr>\n",
       "    <tr>\n",
       "      <th>2</th>\n",
       "      <td>2</td>\n",
       "      <td>5583</td>\n",
       "      <td>0</td>\n",
       "      <td>594.00</td>\n",
       "      <td>2</td>\n",
       "      <td>0</td>\n",
       "      <td>1</td>\n",
       "      <td>2013</td>\n",
       "      <td>2013-01-01</td>\n",
       "      <td>5</td>\n",
       "    </tr>\n",
       "    <tr>\n",
       "      <th>3</th>\n",
       "      <td>2</td>\n",
       "      <td>7893</td>\n",
       "      <td>0</td>\n",
       "      <td>1,990.00</td>\n",
       "      <td>3</td>\n",
       "      <td>0</td>\n",
       "      <td>1</td>\n",
       "      <td>2013</td>\n",
       "      <td>2013-01-01</td>\n",
       "      <td>6</td>\n",
       "    </tr>\n",
       "    <tr>\n",
       "      <th>4</th>\n",
       "      <td>2</td>\n",
       "      <td>7894</td>\n",
       "      <td>0</td>\n",
       "      <td>1,490.00</td>\n",
       "      <td>1</td>\n",
       "      <td>0</td>\n",
       "      <td>1</td>\n",
       "      <td>2013</td>\n",
       "      <td>2013-01-01</td>\n",
       "      <td>6</td>\n",
       "    </tr>\n",
       "  </tbody>\n",
       "</table>\n",
       "</div>"
      ],
      "text/plain": [
       "   shop_id  item_id  date_block_num  item_price  item_cnt_month  \\\n",
       "0        2     5572               0    1,533.00               9   \n",
       "1        2     5643               0    2,388.00               0   \n",
       "2        2     5583               0      594.00               2   \n",
       "3        2     7893               0    1,990.00               3   \n",
       "4        2     7894               0    1,490.00               1   \n",
       "\n",
       "   is_new_arrival  month  year year_month  item_category_id  \n",
       "0               0      1  2013 2013-01-01                 2  \n",
       "1               0      1  2013 2013-01-01                 2  \n",
       "2               0      1  2013 2013-01-01                 5  \n",
       "3               0      1  2013 2013-01-01                 6  \n",
       "4               0      1  2013 2013-01-01                 6  "
      ]
     },
     "execution_count": 5,
     "metadata": {},
     "output_type": "execute_result"
    }
   ],
   "source": [
    "df_basegrid.head()"
   ]
  },
  {
   "cell_type": "code",
   "execution_count": 6,
   "id": "be94f4d7",
   "metadata": {},
   "outputs": [
    {
     "data": {
      "text/html": [
       "<div>\n",
       "<style scoped>\n",
       "    .dataframe tbody tr th:only-of-type {\n",
       "        vertical-align: middle;\n",
       "    }\n",
       "\n",
       "    .dataframe tbody tr th {\n",
       "        vertical-align: top;\n",
       "    }\n",
       "\n",
       "    .dataframe thead th {\n",
       "        text-align: right;\n",
       "    }\n",
       "</style>\n",
       "<table border=\"1\" class=\"dataframe\">\n",
       "  <thead>\n",
       "    <tr style=\"text-align: right;\">\n",
       "      <th></th>\n",
       "      <th>item_name</th>\n",
       "      <th>item_id</th>\n",
       "      <th>item_category_id</th>\n",
       "    </tr>\n",
       "  </thead>\n",
       "  <tbody>\n",
       "    <tr>\n",
       "      <th>0</th>\n",
       "      <td>! IN THE POWER OF GLAMOR (PLAST.) D</td>\n",
       "      <td>0</td>\n",
       "      <td>40</td>\n",
       "    </tr>\n",
       "    <tr>\n",
       "      <th>1</th>\n",
       "      <td>!ABBYY FineReader 12 Professional Edition Full [PC Digital]</td>\n",
       "      <td>1</td>\n",
       "      <td>76</td>\n",
       "    </tr>\n",
       "    <tr>\n",
       "      <th>2</th>\n",
       "      <td>*** IN THE RAYS OF GLORY (UNV) D</td>\n",
       "      <td>2</td>\n",
       "      <td>40</td>\n",
       "    </tr>\n",
       "    <tr>\n",
       "      <th>3</th>\n",
       "      <td>***BLUE WAVE (Univ) D</td>\n",
       "      <td>3</td>\n",
       "      <td>40</td>\n",
       "    </tr>\n",
       "    <tr>\n",
       "      <th>4</th>\n",
       "      <td>***BOX (GLASS) D</td>\n",
       "      <td>4</td>\n",
       "      <td>40</td>\n",
       "    </tr>\n",
       "  </tbody>\n",
       "</table>\n",
       "</div>"
      ],
      "text/plain": [
       "                                                     item_name  item_id  \\\n",
       "0                          ! IN THE POWER OF GLAMOR (PLAST.) D        0   \n",
       "1  !ABBYY FineReader 12 Professional Edition Full [PC Digital]        1   \n",
       "2                             *** IN THE RAYS OF GLORY (UNV) D        2   \n",
       "3                                        ***BLUE WAVE (Univ) D        3   \n",
       "4                                             ***BOX (GLASS) D        4   \n",
       "\n",
       "   item_category_id  \n",
       "0                40  \n",
       "1                76  \n",
       "2                40  \n",
       "3                40  \n",
       "4                40  "
      ]
     },
     "execution_count": 6,
     "metadata": {},
     "output_type": "execute_result"
    }
   ],
   "source": [
    "df_items.head()"
   ]
  },
  {
   "cell_type": "markdown",
   "id": "6861d11d",
   "metadata": {},
   "source": [
    "# Feature Engineering"
   ]
  },
  {
   "cell_type": "code",
   "execution_count": 43,
   "id": "250a22b7",
   "metadata": {},
   "outputs": [],
   "source": []
  },
  {
   "cell_type": "code",
   "execution_count": 114,
   "id": "4d7ab5d4",
   "metadata": {},
   "outputs": [],
   "source": [
    "df_temp = df_basegrid\n",
    "\n",
    "\n",
    "#feature engineerinf flag, it controls which featurs to be added to final feature list\n",
    "fe_flag=[ 0, #0, item name\n",
    "          1, #1, item category name\n",
    "          0, #2, shop name\n",
    "          0, #3, release month of item in the shop\n",
    "          0, #4, lagged item_cnt_month\n",
    "          0, #5, price, and lagged price\n",
    "          \n",
    "]\n",
    "\n",
    "#hold the features to be added to final selection\n",
    "#dict_final_selected_features={}\n",
    "list_new_features = []"
   ]
  },
  {
   "cell_type": "code",
   "execution_count": 85,
   "id": "ac4b70db",
   "metadata": {},
   "outputs": [],
   "source": [
    "############################ 0 item name feature engineering\n",
    "##################################################################\n",
    "if fe_flag[0] == 1:\n",
    "    #list_feature_item_name =[]\n",
    "    #df_temp = df_basegrid.merge(df_items, on=['item_id', 'item_category_id'])\n",
    "    #list_feature_item_name.append('item_name')\n",
    "    #print(list_feature_item_name)\n",
    "\n",
    "    #dict_final_selected_features[0]=list_feature_item_name\n",
    "    \n",
    "    items_subset = df_items[['item_id', 'item_name']]\n",
    "    feature_count = 10\n",
    "    tfidf = TfidfVectorizer(max_features=feature_count)\n",
    "    items_df_item_name_text_features = pd.DataFrame(tfidf.fit_transform(items_subset['item_name']).toarray())\n",
    "\n",
    "    cols = items_df_item_name_text_features.columns\n",
    "    for i in range(feature_count):\n",
    "        feature_name = 'item_name_tfidf_' + str(i)\n",
    "        items_subset[feature_name] = items_df_item_name_text_features[cols[i]]\n",
    "        list_new_features.append(feature_name)\n",
    "\n",
    "    items_subset.drop('item_name', axis = 1, inplace = True)\n",
    "    df_temp = df_temp.merge(items_subset, on = 'item_id', how = 'left')\n",
    "    df_temp.head()\n"
   ]
  },
  {
   "cell_type": "code",
   "execution_count": 34,
   "id": "53ea3435",
   "metadata": {},
   "outputs": [
    {
     "name": "stdout",
     "output_type": "stream",
     "text": [
      "<class 'pandas.core.frame.DataFrame'>\n",
      "RangeIndex: 84 entries, 0 to 83\n",
      "Data columns (total 3 columns):\n",
      " #   Column              Non-Null Count  Dtype \n",
      "---  ------              --------------  ----- \n",
      " 0   item_category_name  84 non-null     object\n",
      " 1   item_category_id    84 non-null     int64 \n",
      " 2   unique_item_num     84 non-null     int64 \n",
      "dtypes: int64(2), object(1)\n",
      "memory usage: 2.1+ KB\n"
     ]
    }
   ],
   "source": [
    "df_cat.info()"
   ]
  },
  {
   "cell_type": "code",
   "execution_count": null,
   "id": "b69b51f8",
   "metadata": {},
   "outputs": [],
   "source": []
  },
  {
   "cell_type": "code",
   "execution_count": 115,
   "id": "237be398",
   "metadata": {},
   "outputs": [],
   "source": [
    "############################## 1 item category feature engineering\n",
    "#####################################################################\n",
    "if fe_flag[1] == 1: \n",
    "    cat_subset = df_cat[['item_category_id', 'item_category_name']]\n",
    "    feature_count = 15\n",
    "    tfidf = TfidfVectorizer(max_features=feature_count)\n",
    "    df_cat_name_text_features = pd.DataFrame(tfidf.fit_transform(cat_subset['item_category_name']).toarray())\n",
    "\n",
    "    cols = df_cat_name_text_features.columns\n",
    "    for i in range(feature_count):\n",
    "        feature_name = 'cat_name_tfidf_' + str(i)\n",
    "        cat_subset[feature_name] = df_cat_name_text_features[cols[i]]\n",
    "        list_new_features.append(feature_name)\n",
    "\n",
    "    cat_subset.drop('item_category_name', axis = 1, inplace = True)\n",
    "    df_temp = df_temp.merge(cat_subset, on = 'item_category_id', how = 'left')\n",
    "    df_temp.head()"
   ]
  },
  {
   "cell_type": "code",
   "execution_count": null,
   "id": "398f2bfa",
   "metadata": {},
   "outputs": [],
   "source": []
  },
  {
   "cell_type": "code",
   "execution_count": null,
   "id": "5d386850",
   "metadata": {},
   "outputs": [],
   "source": []
  },
  {
   "cell_type": "code",
   "execution_count": null,
   "id": "f8b93010",
   "metadata": {},
   "outputs": [],
   "source": []
  },
  {
   "cell_type": "code",
   "execution_count": 11,
   "id": "dffb8de1",
   "metadata": {},
   "outputs": [],
   "source": [
    "########################## 2 shop feature engineering\n",
    "###################################################################\n",
    "if fe_flag[2] == 1:\n",
    "    list_feature_shop_name=[]\n",
    "    df_temp =df_temp.merge(df_shops, on='shop_id')\n",
    "    list_feature_shop_name=['shop_name']\n",
    "    dict_final_selected_features[2]=list_feature_shop_name"
   ]
  },
  {
   "cell_type": "code",
   "execution_count": null,
   "id": "5c03e13a",
   "metadata": {},
   "outputs": [],
   "source": []
  },
  {
   "cell_type": "code",
   "execution_count": null,
   "id": "6ea36516",
   "metadata": {},
   "outputs": [],
   "source": []
  },
  {
   "cell_type": "code",
   "execution_count": 12,
   "id": "80abb210",
   "metadata": {},
   "outputs": [],
   "source": [
    "############################# 3 lagged item_cnt_month\n",
    "#####################################################################\n",
    "if fe_flag[3] == 1:\n",
    "    list_feature_shop_name=[]\n",
    "    df_temp =df_temp.merge(df_shops, on='shop_id')\n",
    "    list_feature_shop_name=['shop_name']\n",
    "    dict_final_selected_features[2]=list_feature_shop_name\n",
    "\n"
   ]
  },
  {
   "cell_type": "markdown",
   "id": "bb94ee3d",
   "metadata": {},
   "source": []
  },
  {
   "cell_type": "code",
   "execution_count": 13,
   "id": "feea7501",
   "metadata": {},
   "outputs": [],
   "source": [
    "############################### 4 price feature engineering\n",
    "######################################################################\n",
    "list_feature_item_price=[]\n"
   ]
  },
  {
   "cell_type": "code",
   "execution_count": null,
   "id": "03748cb5",
   "metadata": {},
   "outputs": [],
   "source": []
  },
  {
   "cell_type": "code",
   "execution_count": 14,
   "id": "0382a1cc",
   "metadata": {},
   "outputs": [],
   "source": [
    "############################# time feature engineering\n",
    "######################################################################\n",
    "list_feature_time=[]\n",
    "\n",
    "#month?"
   ]
  },
  {
   "cell_type": "markdown",
   "id": "da696da9",
   "metadata": {},
   "source": [
    "# data pre-preparation"
   ]
  },
  {
   "cell_type": "code",
   "execution_count": 116,
   "id": "cd3e57a6",
   "metadata": {},
   "outputs": [
    {
     "name": "stdout",
     "output_type": "stream",
     "text": [
      "<class 'pandas.core.frame.DataFrame'>\n",
      "Int64Index: 2946018 entries, 0 to 2946017\n",
      "Data columns (total 25 columns):\n",
      " #   Column             Dtype         \n",
      "---  ------             -----         \n",
      " 0   shop_id            int8          \n",
      " 1   item_id            int16         \n",
      " 2   date_block_num     int8          \n",
      " 3   item_price         float16       \n",
      " 4   item_cnt_month     int16         \n",
      " 5   is_new_arrival     int8          \n",
      " 6   month              int8          \n",
      " 7   year               int16         \n",
      " 8   year_month         datetime64[ns]\n",
      " 9   item_category_id   int8          \n",
      " 10  cat_name_tfidf_0   float64       \n",
      " 11  cat_name_tfidf_1   float64       \n",
      " 12  cat_name_tfidf_2   float64       \n",
      " 13  cat_name_tfidf_3   float64       \n",
      " 14  cat_name_tfidf_4   float64       \n",
      " 15  cat_name_tfidf_5   float64       \n",
      " 16  cat_name_tfidf_6   float64       \n",
      " 17  cat_name_tfidf_7   float64       \n",
      " 18  cat_name_tfidf_8   float64       \n",
      " 19  cat_name_tfidf_9   float64       \n",
      " 20  cat_name_tfidf_10  float64       \n",
      " 21  cat_name_tfidf_11  float64       \n",
      " 22  cat_name_tfidf_12  float64       \n",
      " 23  cat_name_tfidf_13  float64       \n",
      " 24  cat_name_tfidf_14  float64       \n",
      "dtypes: datetime64[ns](1), float16(1), float64(15), int16(3), int8(5)\n",
      "memory usage: 418.6 MB\n"
     ]
    }
   ],
   "source": [
    "df_temp.info()"
   ]
  },
  {
   "cell_type": "code",
   "execution_count": 117,
   "id": "ce7e863d",
   "metadata": {},
   "outputs": [
    {
     "name": "stdout",
     "output_type": "stream",
     "text": [
      "['cat_name_tfidf_0', 'cat_name_tfidf_1', 'cat_name_tfidf_2', 'cat_name_tfidf_3', 'cat_name_tfidf_4', 'cat_name_tfidf_5', 'cat_name_tfidf_6', 'cat_name_tfidf_7', 'cat_name_tfidf_8', 'cat_name_tfidf_9', 'cat_name_tfidf_10', 'cat_name_tfidf_11', 'cat_name_tfidf_12', 'cat_name_tfidf_13', 'cat_name_tfidf_14', 'shop_id', 'item_id', 'item_category_id', 'date_block_num', 'item_cnt_month']\n"
     ]
    }
   ],
   "source": [
    "\n",
    "list_feature_base = ['shop_id','item_id', 'item_category_id','date_block_num',\n",
    "                     #'month','year','is_new_arrival', \n",
    "                     'item_cnt_month'\n",
    "                 ]\n",
    "\n",
    "list_feature_final =   list_new_features + list_feature_base\n",
    "print(list_feature_final)"
   ]
  },
  {
   "cell_type": "code",
   "execution_count": null,
   "id": "a4adf29d",
   "metadata": {},
   "outputs": [],
   "source": []
  },
  {
   "cell_type": "code",
   "execution_count": 123,
   "id": "996bef3e",
   "metadata": {},
   "outputs": [
    {
     "name": "stdout",
     "output_type": "stream",
     "text": [
      "['cat_name_tfidf_0', 'cat_name_tfidf_1', 'cat_name_tfidf_2', 'cat_name_tfidf_3', 'cat_name_tfidf_4', 'cat_name_tfidf_5', 'cat_name_tfidf_6', 'cat_name_tfidf_7', 'cat_name_tfidf_8', 'cat_name_tfidf_9', 'cat_name_tfidf_10', 'cat_name_tfidf_11', 'cat_name_tfidf_12', 'cat_name_tfidf_13', 'cat_name_tfidf_14', 'shop_id', 'item_id', 'item_category_id', 'date_block_num', 'item_cnt_month']\n",
      "\n",
      "printing X_train.columns\n",
      "Index(['cat_name_tfidf_0', 'cat_name_tfidf_1', 'cat_name_tfidf_2',\n",
      "       'cat_name_tfidf_3', 'cat_name_tfidf_4', 'cat_name_tfidf_5',\n",
      "       'cat_name_tfidf_6', 'cat_name_tfidf_7', 'cat_name_tfidf_8',\n",
      "       'cat_name_tfidf_9', 'cat_name_tfidf_10', 'cat_name_tfidf_11',\n",
      "       'cat_name_tfidf_12', 'cat_name_tfidf_13', 'cat_name_tfidf_14',\n",
      "       'shop_id', 'item_id', 'item_category_id', 'date_block_num'],\n",
      "      dtype='object')\n",
      "\n",
      "printing y_train.info()\n",
      "<class 'pandas.core.series.Series'>\n",
      "Int64Index: 2565708 entries, 0 to 2565707\n",
      "Series name: item_cnt_month\n",
      "Non-Null Count    Dtype\n",
      "--------------    -----\n",
      "2565708 non-null  int16\n",
      "dtypes: int16(1)\n",
      "memory usage: 24.5 MB\n",
      "None\n"
     ]
    }
   ],
   "source": [
    "\n",
    "list_feature_base = ['shop_id','item_id', 'item_category_id','date_block_num',\n",
    "                     #'month','year','is_new_arrival', \n",
    "                     'item_cnt_month'\n",
    "                 ]\n",
    "\n",
    "list_feature_final =   list_new_features + list_feature_base\n",
    "print(list_feature_final)\n",
    "\n",
    "\n",
    "df_final = df_temp[list_feature_final]\n",
    "#df_y_final = df_temp['item_cnt_month']\n",
    "#y_final = df_temp['item_cnt_month']\n",
    "\n",
    "\n",
    "validation_date_block_num= 33   #'1-10-2015'\n",
    "test_date_block_num = 34        #'1-11-2015'\n",
    "\n",
    "\n",
    "index_train = (df_final['date_block_num'] < validation_date_block_num)\n",
    "df_train_final = df_final[index_train]\n",
    "\n",
    "index_validation = (df_final['date_block_num'] == validation_date_block_num)\n",
    "df_validation_final = df_final[index_validation]\n",
    "\n",
    "\n",
    "index_test = (df_final['date_block_num'] == test_date_block_num)\n",
    "df_test_final = df_final[index_test]\n",
    "\n",
    "\n",
    "\n",
    "X_train =  df_train_final.iloc[:, 0:-1]\n",
    "y_train =  df_train_final.iloc[:, -1]\n",
    "print('\\nprinting X_train.columns')\n",
    "print(X_train.columns)\n",
    "\n",
    "print('\\nprinting y_train.info()')\n",
    "print(y_train.info())\n",
    "\n",
    "X_validation = df_validation_final.iloc[:, 0:-1]\n",
    "y_validation =  df_validation_final.iloc[:, -1]\n",
    "\n",
    "X_test =  df_test_final.iloc[:, 0:-1]\n",
    "y_test =  df_test_final.iloc[:, -1]\n",
    "\n",
    "\n",
    "####TimeSeriesSplit\n",
    "tscv = TimeSeriesSplit(n_splits=3, test_size=2)"
   ]
  },
  {
   "cell_type": "markdown",
   "id": "f4acf259",
   "metadata": {},
   "source": [
    "list_final_selected_features = []\n",
    "\n",
    "for i in range(len(fe_flag)):\n",
    "    if fe_flag[i]==1:\n",
    "        list_final_selected_features +=  dict_final_selected_features[i]\n",
    "        \n",
    "\n",
    "print(list_final_selected_features)\n"
   ]
  },
  {
   "cell_type": "code",
   "execution_count": 74,
   "id": "375edfe2",
   "metadata": {},
   "outputs": [
    {
     "name": "stdout",
     "output_type": "stream",
     "text": [
      "['shop_id', 'item_id', 'item_category_id', 'date_block_num', 'item_cnt_month', 'item_name_tfidf_0', 'item_name_tfidf_1', 'item_name_tfidf_2', 'item_name_tfidf_3', 'item_name_tfidf_4', 'item_name_tfidf_5', 'item_name_tfidf_6', 'item_name_tfidf_7', 'item_name_tfidf_8', 'item_name_tfidf_9', 'cat_name_tfidf_0', 'cat_name_tfidf_1', 'cat_name_tfidf_2', 'cat_name_tfidf_3', 'cat_name_tfidf_4', 'cat_name_tfidf_5', 'cat_name_tfidf_6', 'cat_name_tfidf_7', 'cat_name_tfidf_8', 'cat_name_tfidf_9']\n"
     ]
    }
   ],
   "source": [
    "print(list_feature_final)"
   ]
  },
  {
   "cell_type": "code",
   "execution_count": 27,
   "id": "7f3eed5e",
   "metadata": {},
   "outputs": [],
   "source": []
  },
  {
   "cell_type": "code",
   "execution_count": 28,
   "id": "8fcff404",
   "metadata": {},
   "outputs": [],
   "source": []
  },
  {
   "cell_type": "markdown",
   "id": "968226be",
   "metadata": {},
   "source": [
    "### Baseline Model : Previous Month Sale\n",
    "- score: 1.16777"
   ]
  },
  {
   "cell_type": "code",
   "execution_count": 47,
   "id": "407f34ab",
   "metadata": {},
   "outputs": [],
   "source": [
    "################# Baseline benchmark: Previous Value \n",
    "####################################################\n",
    "\n",
    "df_valid_test = df_test.merge(df_validation_final,on=[\"shop_id\", \"item_id\"], how=\"left\")[[\"ID\", \"item_cnt_month\"]]\n",
    "\n",
    "#score: 1.16777\n",
    "df_valid_test['item_cnt_month'] = df_valid_test.item_cnt_month.fillna(0).clip(0,20)\n",
    "submission = df_valid_test.set_index('ID')\n",
    "submission.to_csv('benchmark.csv')\n"
   ]
  },
  {
   "cell_type": "markdown",
   "id": "f4b5db2e",
   "metadata": {},
   "source": [
    "#### Model: XGB + ['shop_id', 'item_id', 'item_category_id', 'date_block_num', 'item_cnt_month']\n",
    "\n",
    "- score: 1.16655"
   ]
  },
  {
   "cell_type": "code",
   "execution_count": 48,
   "id": "0a6c9f26",
   "metadata": {
    "scrolled": true
   },
   "outputs": [
    {
     "name": "stdout",
     "output_type": "stream",
     "text": [
      "rmse =  2.056363\n",
      "Wall time: 2min 8s\n"
     ]
    }
   ],
   "source": [
    "%%time\n",
    "model_xgb = xgb.XGBRegressor(max_depth = 10, min_child_weight=0.5, \n",
    "                         subsample = 1, eta = 0.3, seed = 1,eval_metric='rmse')\n",
    "model_xgb.fit(X_train, y_train)\n",
    "\n",
    "\n",
    "y_validation_preds = model_xgb.predict(X_validation)\n",
    "rmse = mean_squared_error(y_validation, y_validation_preds, squared=False)\n",
    "print(\"rmse = \", rmse)\n",
    "\n"
   ]
  },
  {
   "cell_type": "code",
   "execution_count": null,
   "id": "d7e1b1b0",
   "metadata": {},
   "outputs": [],
   "source": []
  },
  {
   "cell_type": "code",
   "execution_count": null,
   "id": "88595036",
   "metadata": {},
   "outputs": [],
   "source": []
  },
  {
   "cell_type": "markdown",
   "id": "929eaef9",
   "metadata": {},
   "source": [
    "#### Model: LGBM + ['shop_id', 'item_id', 'item_category_id', 'date_block_num', 'item_cnt_month']\n",
    "\n",
    "- Score: 1.12633\n",
    "- add item name: Score: 1.24876\n",
    "- add item name,cat name: Score: 1.24859"
   ]
  },
  {
   "cell_type": "code",
   "execution_count": 124,
   "id": "c4f04708",
   "metadata": {
    "scrolled": true
   },
   "outputs": [
    {
     "name": "stdout",
     "output_type": "stream",
     "text": [
      "best_params: \n",
      "{'reg_alpha': 0.1} -5.781386033786355e-06\n",
      "\n",
      "rmse_score on training set: -2.883\n",
      "rmse_score on testing set: -2.091\n",
      "perc_diff: 27.5 %\n",
      "\n",
      "Wall time: 39.7 s\n"
     ]
    },
    {
     "data": {
      "text/html": [
       "<div>\n",
       "<style scoped>\n",
       "    .dataframe tbody tr th:only-of-type {\n",
       "        vertical-align: middle;\n",
       "    }\n",
       "\n",
       "    .dataframe tbody tr th {\n",
       "        vertical-align: top;\n",
       "    }\n",
       "\n",
       "    .dataframe thead th {\n",
       "        text-align: right;\n",
       "    }\n",
       "</style>\n",
       "<table border=\"1\" class=\"dataframe\">\n",
       "  <thead>\n",
       "    <tr style=\"text-align: right;\">\n",
       "      <th></th>\n",
       "      <th>rmse_score on training set</th>\n",
       "      <th>rmse_score on testing set</th>\n",
       "      <th>Generalization %</th>\n",
       "    </tr>\n",
       "  </thead>\n",
       "  <tbody>\n",
       "    <tr>\n",
       "      <th>LightGBM</th>\n",
       "      <td>-2.88</td>\n",
       "      <td>-2.09</td>\n",
       "      <td>27.48</td>\n",
       "    </tr>\n",
       "  </tbody>\n",
       "</table>\n",
       "</div>"
      ],
      "text/plain": [
       "          rmse_score on training set  rmse_score on testing set  \\\n",
       "LightGBM                       -2.88                      -2.09   \n",
       "\n",
       "          Generalization %  \n",
       "LightGBM             27.48  "
      ]
     },
     "execution_count": 124,
     "metadata": {},
     "output_type": "execute_result"
    }
   ],
   "source": [
    "%%time\n",
    "model =lgb.LGBMRegressor(random_state=random_key)\n",
    "\n",
    "param_grid = {\n",
    "    #'num_leaves': [31, 127],\n",
    "    'reg_alpha': [0.1, 0.5],\n",
    "    #'min_data_in_leaf': [30, 50, 100, 300, 400],\n",
    "    #'lambda_l1': [0, 1, 1.5],\n",
    "    #'lambda_l2': [0, 1]\n",
    "    }\n",
    "\n",
    "gs_lgb = GridSearchCV(estimator=model, \n",
    "                      param_grid=param_grid,\n",
    "                      scoring = 'neg_root_mean_squared_error',\n",
    "                      cv=tscv,\n",
    "                      n_jobs = -1\n",
    "                     )\n",
    "\n",
    "run_model(gs_lgb, 'LightGBM', X_train, y_train, X_validation, y_validation)\n",
    "\n",
    "#best_lgb = gs_lgb.fit(X=X_train, y=y_train)\n",
    "#print(best_lgb.best_params_, best_lgb.best_score_)\n",
    "#y_validation_preds = best_lgb.predict(X_validation)\n",
    "#rmse = mean_squared_error(y_validation, y_validation_preds, squared=False)\n",
    "#print(\"rmse = \", rmse)\n",
    "\n"
   ]
  },
  {
   "cell_type": "markdown",
   "id": "d6c04bd5",
   "metadata": {},
   "source": [
    "# production model and make predictions"
   ]
  },
  {
   "cell_type": "code",
   "execution_count": 125,
   "id": "32c90229",
   "metadata": {},
   "outputs": [],
   "source": [
    "production_model = gs_lgb.best_estimator_\n",
    "\n",
    "\n"
   ]
  },
  {
   "cell_type": "markdown",
   "id": "86c613e3",
   "metadata": {},
   "source": [
    "#### Shap"
   ]
  },
  {
   "cell_type": "code",
   "execution_count": null,
   "id": "3cfa6ba2",
   "metadata": {},
   "outputs": [
    {
     "name": "stderr",
     "output_type": "stream",
     "text": [
      "No data for colormapping provided via 'c'. Parameters 'vmin', 'vmax' will be ignored\n"
     ]
    },
    {
     "ename": "ValueError",
     "evalue": "Unable to determine Axes to steal space for Colorbar. Either provide the *cax* argument to use as the Axes for the Colorbar, provide the *ax* argument to steal space from it, or add *mappable* to an Axes.",
     "output_type": "error",
     "traceback": [
      "\u001b[1;31m---------------------------------------------------------------------------\u001b[0m",
      "\u001b[1;31mValueError\u001b[0m                                Traceback (most recent call last)",
      "\u001b[1;32m~\\AppData\\Local\\Temp\\ipykernel_14016\\3067682912.py\u001b[0m in \u001b[0;36m<cell line: 2>\u001b[1;34m()\u001b[0m\n\u001b[0;32m      1\u001b[0m \u001b[0mshap_values\u001b[0m \u001b[1;33m=\u001b[0m \u001b[0mshap\u001b[0m\u001b[1;33m.\u001b[0m\u001b[0mTreeExplainer\u001b[0m\u001b[1;33m(\u001b[0m\u001b[0mproduction_model\u001b[0m\u001b[1;33m)\u001b[0m\u001b[1;33m.\u001b[0m\u001b[0mshap_values\u001b[0m\u001b[1;33m(\u001b[0m\u001b[0mX_train\u001b[0m\u001b[1;33m)\u001b[0m\u001b[1;33m\u001b[0m\u001b[1;33m\u001b[0m\u001b[0m\n\u001b[1;32m----> 2\u001b[1;33m \u001b[0mshap\u001b[0m\u001b[1;33m.\u001b[0m\u001b[0msummary_plot\u001b[0m\u001b[1;33m(\u001b[0m\u001b[0mshap_values\u001b[0m\u001b[1;33m,\u001b[0m \u001b[0mX_train\u001b[0m\u001b[1;33m)\u001b[0m\u001b[1;33m\u001b[0m\u001b[1;33m\u001b[0m\u001b[0m\n\u001b[0m",
      "\u001b[1;32m~\\anaconda3\\lib\\site-packages\\shap\\plots\\_beeswarm.py\u001b[0m in \u001b[0;36msummary_legacy\u001b[1;34m(shap_values, features, feature_names, max_display, plot_type, color, axis_color, title, alpha, show, sort, color_bar, plot_size, layered_violin_max_num_bins, class_names, class_inds, color_bar_label, cmap, auto_size_plot, use_log_scale)\u001b[0m\n\u001b[0;32m    863\u001b[0m         \u001b[0mm\u001b[0m \u001b[1;33m=\u001b[0m \u001b[0mcm\u001b[0m\u001b[1;33m.\u001b[0m\u001b[0mScalarMappable\u001b[0m\u001b[1;33m(\u001b[0m\u001b[0mcmap\u001b[0m\u001b[1;33m=\u001b[0m\u001b[0mcmap\u001b[0m \u001b[1;32mif\u001b[0m \u001b[0mplot_type\u001b[0m \u001b[1;33m!=\u001b[0m \u001b[1;34m\"layered_violin\"\u001b[0m \u001b[1;32melse\u001b[0m \u001b[0mpl\u001b[0m\u001b[1;33m.\u001b[0m\u001b[0mget_cmap\u001b[0m\u001b[1;33m(\u001b[0m\u001b[0mcolor\u001b[0m\u001b[1;33m)\u001b[0m\u001b[1;33m)\u001b[0m\u001b[1;33m\u001b[0m\u001b[1;33m\u001b[0m\u001b[0m\n\u001b[0;32m    864\u001b[0m         \u001b[0mm\u001b[0m\u001b[1;33m.\u001b[0m\u001b[0mset_array\u001b[0m\u001b[1;33m(\u001b[0m\u001b[1;33m[\u001b[0m\u001b[1;36m0\u001b[0m\u001b[1;33m,\u001b[0m \u001b[1;36m1\u001b[0m\u001b[1;33m]\u001b[0m\u001b[1;33m)\u001b[0m\u001b[1;33m\u001b[0m\u001b[1;33m\u001b[0m\u001b[0m\n\u001b[1;32m--> 865\u001b[1;33m         \u001b[0mcb\u001b[0m \u001b[1;33m=\u001b[0m \u001b[0mpl\u001b[0m\u001b[1;33m.\u001b[0m\u001b[0mcolorbar\u001b[0m\u001b[1;33m(\u001b[0m\u001b[0mm\u001b[0m\u001b[1;33m,\u001b[0m \u001b[0mticks\u001b[0m\u001b[1;33m=\u001b[0m\u001b[1;33m[\u001b[0m\u001b[1;36m0\u001b[0m\u001b[1;33m,\u001b[0m \u001b[1;36m1\u001b[0m\u001b[1;33m]\u001b[0m\u001b[1;33m,\u001b[0m \u001b[0maspect\u001b[0m\u001b[1;33m=\u001b[0m\u001b[1;36m80\u001b[0m\u001b[1;33m)\u001b[0m\u001b[1;33m\u001b[0m\u001b[1;33m\u001b[0m\u001b[0m\n\u001b[0m\u001b[0;32m    866\u001b[0m         \u001b[0mcb\u001b[0m\u001b[1;33m.\u001b[0m\u001b[0mset_ticklabels\u001b[0m\u001b[1;33m(\u001b[0m\u001b[1;33m[\u001b[0m\u001b[0mlabels\u001b[0m\u001b[1;33m[\u001b[0m\u001b[1;34m'FEATURE_VALUE_LOW'\u001b[0m\u001b[1;33m]\u001b[0m\u001b[1;33m,\u001b[0m \u001b[0mlabels\u001b[0m\u001b[1;33m[\u001b[0m\u001b[1;34m'FEATURE_VALUE_HIGH'\u001b[0m\u001b[1;33m]\u001b[0m\u001b[1;33m]\u001b[0m\u001b[1;33m)\u001b[0m\u001b[1;33m\u001b[0m\u001b[1;33m\u001b[0m\u001b[0m\n\u001b[0;32m    867\u001b[0m         \u001b[0mcb\u001b[0m\u001b[1;33m.\u001b[0m\u001b[0mset_label\u001b[0m\u001b[1;33m(\u001b[0m\u001b[0mcolor_bar_label\u001b[0m\u001b[1;33m,\u001b[0m \u001b[0msize\u001b[0m\u001b[1;33m=\u001b[0m\u001b[1;36m12\u001b[0m\u001b[1;33m,\u001b[0m \u001b[0mlabelpad\u001b[0m\u001b[1;33m=\u001b[0m\u001b[1;36m0\u001b[0m\u001b[1;33m)\u001b[0m\u001b[1;33m\u001b[0m\u001b[1;33m\u001b[0m\u001b[0m\n",
      "\u001b[1;32m~\\anaconda3\\lib\\site-packages\\matplotlib\\pyplot.py\u001b[0m in \u001b[0;36mcolorbar\u001b[1;34m(mappable, cax, ax, **kwargs)\u001b[0m\n\u001b[0;32m   2051\u001b[0m                                \u001b[1;34m'an image (with imshow) or a contour set ('\u001b[0m\u001b[1;33m\u001b[0m\u001b[1;33m\u001b[0m\u001b[0m\n\u001b[0;32m   2052\u001b[0m                                'with contourf).')\n\u001b[1;32m-> 2053\u001b[1;33m     \u001b[0mret\u001b[0m \u001b[1;33m=\u001b[0m \u001b[0mgcf\u001b[0m\u001b[1;33m(\u001b[0m\u001b[1;33m)\u001b[0m\u001b[1;33m.\u001b[0m\u001b[0mcolorbar\u001b[0m\u001b[1;33m(\u001b[0m\u001b[0mmappable\u001b[0m\u001b[1;33m,\u001b[0m \u001b[0mcax\u001b[0m\u001b[1;33m=\u001b[0m\u001b[0mcax\u001b[0m\u001b[1;33m,\u001b[0m \u001b[0max\u001b[0m\u001b[1;33m=\u001b[0m\u001b[0max\u001b[0m\u001b[1;33m,\u001b[0m \u001b[1;33m**\u001b[0m\u001b[0mkwargs\u001b[0m\u001b[1;33m)\u001b[0m\u001b[1;33m\u001b[0m\u001b[1;33m\u001b[0m\u001b[0m\n\u001b[0m\u001b[0;32m   2054\u001b[0m     \u001b[1;32mreturn\u001b[0m \u001b[0mret\u001b[0m\u001b[1;33m\u001b[0m\u001b[1;33m\u001b[0m\u001b[0m\n\u001b[0;32m   2055\u001b[0m \u001b[1;33m\u001b[0m\u001b[0m\n",
      "\u001b[1;32m~\\anaconda3\\lib\\site-packages\\matplotlib\\figure.py\u001b[0m in \u001b[0;36mcolorbar\u001b[1;34m(self, mappable, cax, ax, use_gridspec, **kwargs)\u001b[0m\n\u001b[0;32m   1254\u001b[0m         \u001b[1;32mif\u001b[0m \u001b[0mcax\u001b[0m \u001b[1;32mis\u001b[0m \u001b[1;32mNone\u001b[0m\u001b[1;33m:\u001b[0m\u001b[1;33m\u001b[0m\u001b[1;33m\u001b[0m\u001b[0m\n\u001b[0;32m   1255\u001b[0m             \u001b[1;32mif\u001b[0m \u001b[0max\u001b[0m \u001b[1;32mis\u001b[0m \u001b[1;32mNone\u001b[0m\u001b[1;33m:\u001b[0m\u001b[1;33m\u001b[0m\u001b[1;33m\u001b[0m\u001b[0m\n\u001b[1;32m-> 1256\u001b[1;33m                 raise ValueError(\n\u001b[0m\u001b[0;32m   1257\u001b[0m                     \u001b[1;34m'Unable to determine Axes to steal space for Colorbar. '\u001b[0m\u001b[1;33m\u001b[0m\u001b[1;33m\u001b[0m\u001b[0m\n\u001b[0;32m   1258\u001b[0m                     \u001b[1;34m'Either provide the *cax* argument to use as the Axes for '\u001b[0m\u001b[1;33m\u001b[0m\u001b[1;33m\u001b[0m\u001b[0m\n",
      "\u001b[1;31mValueError\u001b[0m: Unable to determine Axes to steal space for Colorbar. Either provide the *cax* argument to use as the Axes for the Colorbar, provide the *ax* argument to steal space from it, or add *mappable* to an Axes."
     ]
    }
   ],
   "source": [
    "\n",
    "shap_values = shap.TreeExplainer(production_model).shap_values(X_train)\n",
    "shap.summary_plot(shap_values, X_train)"
   ]
  },
  {
   "cell_type": "code",
   "execution_count": null,
   "id": "614f605c",
   "metadata": {},
   "outputs": [],
   "source": []
  },
  {
   "cell_type": "markdown",
   "id": "5ab85257",
   "metadata": {},
   "source": [
    "# pickle test_preds for model reconciliation"
   ]
  },
  {
   "cell_type": "code",
   "execution_count": 63,
   "id": "24dffa65",
   "metadata": {},
   "outputs": [
    {
     "name": "stderr",
     "output_type": "stream",
     "text": [
      "\n",
      "A value is trying to be set on a copy of a slice from a DataFrame.\n",
      "Try using .loc[row_indexer,col_indexer] = value instead\n",
      "\n",
      "See the caveats in the documentation: https://pandas.pydata.org/pandas-docs/stable/user_guide/indexing.html#returning-a-view-versus-a-copy\n"
     ]
    },
    {
     "data": {
      "text/html": [
       "<div>\n",
       "<style scoped>\n",
       "    .dataframe tbody tr th:only-of-type {\n",
       "        vertical-align: middle;\n",
       "    }\n",
       "\n",
       "    .dataframe tbody tr th {\n",
       "        vertical-align: top;\n",
       "    }\n",
       "\n",
       "    .dataframe thead th {\n",
       "        text-align: right;\n",
       "    }\n",
       "</style>\n",
       "<table border=\"1\" class=\"dataframe\">\n",
       "  <thead>\n",
       "    <tr style=\"text-align: right;\">\n",
       "      <th></th>\n",
       "      <th>shop_id</th>\n",
       "      <th>item_id</th>\n",
       "      <th>item_category_id</th>\n",
       "      <th>date_block_num</th>\n",
       "      <th>item_cnt_month</th>\n",
       "      <th>item_name_tfidf_0</th>\n",
       "      <th>item_name_tfidf_1</th>\n",
       "      <th>item_name_tfidf_2</th>\n",
       "      <th>item_name_tfidf_3</th>\n",
       "      <th>item_name_tfidf_4</th>\n",
       "      <th>item_name_tfidf_5</th>\n",
       "      <th>item_name_tfidf_6</th>\n",
       "      <th>item_name_tfidf_7</th>\n",
       "      <th>item_name_tfidf_8</th>\n",
       "      <th>item_name_tfidf_9</th>\n",
       "      <th>cat_name_tfidf_0</th>\n",
       "      <th>cat_name_tfidf_1</th>\n",
       "      <th>cat_name_tfidf_2</th>\n",
       "      <th>cat_name_tfidf_3</th>\n",
       "      <th>cat_name_tfidf_4</th>\n",
       "      <th>cat_name_tfidf_5</th>\n",
       "      <th>cat_name_tfidf_6</th>\n",
       "      <th>cat_name_tfidf_7</th>\n",
       "      <th>cat_name_tfidf_8</th>\n",
       "      <th>cat_name_tfidf_9</th>\n",
       "    </tr>\n",
       "  </thead>\n",
       "  <tbody>\n",
       "    <tr>\n",
       "      <th>2731818</th>\n",
       "      <td>2</td>\n",
       "      <td>5441</td>\n",
       "      <td>0</td>\n",
       "      <td>34</td>\n",
       "      <td>0.00</td>\n",
       "      <td>0.00</td>\n",
       "      <td>0.00</td>\n",
       "      <td>0.00</td>\n",
       "      <td>0.00</td>\n",
       "      <td>0.00</td>\n",
       "      <td>1.00</td>\n",
       "      <td>0.00</td>\n",
       "      <td>0.00</td>\n",
       "      <td>0.00</td>\n",
       "      <td>0.00</td>\n",
       "      <td>0.00</td>\n",
       "      <td>0.00</td>\n",
       "      <td>0.00</td>\n",
       "      <td>0.00</td>\n",
       "      <td>0.00</td>\n",
       "      <td>0.00</td>\n",
       "      <td>0.00</td>\n",
       "      <td>0.00</td>\n",
       "      <td>0.00</td>\n",
       "      <td>0.00</td>\n",
       "    </tr>\n",
       "    <tr>\n",
       "      <th>2731819</th>\n",
       "      <td>2</td>\n",
       "      <td>5643</td>\n",
       "      <td>2</td>\n",
       "      <td>34</td>\n",
       "      <td>0.00</td>\n",
       "      <td>0.00</td>\n",
       "      <td>0.00</td>\n",
       "      <td>0.00</td>\n",
       "      <td>0.00</td>\n",
       "      <td>0.00</td>\n",
       "      <td>0.00</td>\n",
       "      <td>0.00</td>\n",
       "      <td>0.00</td>\n",
       "      <td>0.00</td>\n",
       "      <td>0.00</td>\n",
       "      <td>1.00</td>\n",
       "      <td>0.00</td>\n",
       "      <td>0.00</td>\n",
       "      <td>0.00</td>\n",
       "      <td>0.00</td>\n",
       "      <td>0.00</td>\n",
       "      <td>0.00</td>\n",
       "      <td>0.00</td>\n",
       "      <td>0.00</td>\n",
       "      <td>0.00</td>\n",
       "    </tr>\n",
       "    <tr>\n",
       "      <th>2731820</th>\n",
       "      <td>2</td>\n",
       "      <td>13411</td>\n",
       "      <td>2</td>\n",
       "      <td>34</td>\n",
       "      <td>0.00</td>\n",
       "      <td>0.00</td>\n",
       "      <td>0.00</td>\n",
       "      <td>0.00</td>\n",
       "      <td>0.00</td>\n",
       "      <td>0.00</td>\n",
       "      <td>0.00</td>\n",
       "      <td>0.00</td>\n",
       "      <td>0.69</td>\n",
       "      <td>0.00</td>\n",
       "      <td>0.73</td>\n",
       "      <td>1.00</td>\n",
       "      <td>0.00</td>\n",
       "      <td>0.00</td>\n",
       "      <td>0.00</td>\n",
       "      <td>0.00</td>\n",
       "      <td>0.00</td>\n",
       "      <td>0.00</td>\n",
       "      <td>0.00</td>\n",
       "      <td>0.00</td>\n",
       "      <td>0.00</td>\n",
       "    </tr>\n",
       "    <tr>\n",
       "      <th>2731821</th>\n",
       "      <td>2</td>\n",
       "      <td>5634</td>\n",
       "      <td>2</td>\n",
       "      <td>34</td>\n",
       "      <td>0.00</td>\n",
       "      <td>0.00</td>\n",
       "      <td>0.00</td>\n",
       "      <td>0.00</td>\n",
       "      <td>0.00</td>\n",
       "      <td>0.00</td>\n",
       "      <td>0.00</td>\n",
       "      <td>0.00</td>\n",
       "      <td>0.00</td>\n",
       "      <td>0.00</td>\n",
       "      <td>0.00</td>\n",
       "      <td>1.00</td>\n",
       "      <td>0.00</td>\n",
       "      <td>0.00</td>\n",
       "      <td>0.00</td>\n",
       "      <td>0.00</td>\n",
       "      <td>0.00</td>\n",
       "      <td>0.00</td>\n",
       "      <td>0.00</td>\n",
       "      <td>0.00</td>\n",
       "      <td>0.00</td>\n",
       "    </tr>\n",
       "    <tr>\n",
       "      <th>2731822</th>\n",
       "      <td>2</td>\n",
       "      <td>5638</td>\n",
       "      <td>2</td>\n",
       "      <td>34</td>\n",
       "      <td>0.00</td>\n",
       "      <td>0.00</td>\n",
       "      <td>0.00</td>\n",
       "      <td>0.00</td>\n",
       "      <td>0.00</td>\n",
       "      <td>0.00</td>\n",
       "      <td>0.00</td>\n",
       "      <td>0.00</td>\n",
       "      <td>0.00</td>\n",
       "      <td>0.00</td>\n",
       "      <td>0.00</td>\n",
       "      <td>1.00</td>\n",
       "      <td>0.00</td>\n",
       "      <td>0.00</td>\n",
       "      <td>0.00</td>\n",
       "      <td>0.00</td>\n",
       "      <td>0.00</td>\n",
       "      <td>0.00</td>\n",
       "      <td>0.00</td>\n",
       "      <td>0.00</td>\n",
       "      <td>0.00</td>\n",
       "    </tr>\n",
       "  </tbody>\n",
       "</table>\n",
       "</div>"
      ],
      "text/plain": [
       "         shop_id  item_id  item_category_id  date_block_num  item_cnt_month  \\\n",
       "2731818        2     5441                 0              34            0.00   \n",
       "2731819        2     5643                 2              34            0.00   \n",
       "2731820        2    13411                 2              34            0.00   \n",
       "2731821        2     5634                 2              34            0.00   \n",
       "2731822        2     5638                 2              34            0.00   \n",
       "\n",
       "         item_name_tfidf_0  item_name_tfidf_1  item_name_tfidf_2  \\\n",
       "2731818               0.00               0.00               0.00   \n",
       "2731819               0.00               0.00               0.00   \n",
       "2731820               0.00               0.00               0.00   \n",
       "2731821               0.00               0.00               0.00   \n",
       "2731822               0.00               0.00               0.00   \n",
       "\n",
       "         item_name_tfidf_3  item_name_tfidf_4  item_name_tfidf_5  \\\n",
       "2731818               0.00               0.00               1.00   \n",
       "2731819               0.00               0.00               0.00   \n",
       "2731820               0.00               0.00               0.00   \n",
       "2731821               0.00               0.00               0.00   \n",
       "2731822               0.00               0.00               0.00   \n",
       "\n",
       "         item_name_tfidf_6  item_name_tfidf_7  item_name_tfidf_8  \\\n",
       "2731818               0.00               0.00               0.00   \n",
       "2731819               0.00               0.00               0.00   \n",
       "2731820               0.00               0.69               0.00   \n",
       "2731821               0.00               0.00               0.00   \n",
       "2731822               0.00               0.00               0.00   \n",
       "\n",
       "         item_name_tfidf_9  cat_name_tfidf_0  cat_name_tfidf_1  \\\n",
       "2731818               0.00              0.00              0.00   \n",
       "2731819               0.00              1.00              0.00   \n",
       "2731820               0.73              1.00              0.00   \n",
       "2731821               0.00              1.00              0.00   \n",
       "2731822               0.00              1.00              0.00   \n",
       "\n",
       "         cat_name_tfidf_2  cat_name_tfidf_3  cat_name_tfidf_4  \\\n",
       "2731818              0.00              0.00              0.00   \n",
       "2731819              0.00              0.00              0.00   \n",
       "2731820              0.00              0.00              0.00   \n",
       "2731821              0.00              0.00              0.00   \n",
       "2731822              0.00              0.00              0.00   \n",
       "\n",
       "         cat_name_tfidf_5  cat_name_tfidf_6  cat_name_tfidf_7  \\\n",
       "2731818              0.00              0.00              0.00   \n",
       "2731819              0.00              0.00              0.00   \n",
       "2731820              0.00              0.00              0.00   \n",
       "2731821              0.00              0.00              0.00   \n",
       "2731822              0.00              0.00              0.00   \n",
       "\n",
       "         cat_name_tfidf_8  cat_name_tfidf_9  \n",
       "2731818              0.00              0.00  \n",
       "2731819              0.00              0.00  \n",
       "2731820              0.00              0.00  \n",
       "2731821              0.00              0.00  \n",
       "2731822              0.00              0.00  "
      ]
     },
     "execution_count": 63,
     "metadata": {},
     "output_type": "execute_result"
    }
   ],
   "source": [
    "df_test_preds = df_test_final\n",
    "df_test_preds['item_cnt_month'] = production_model.predict(X_test)\n",
    "\n",
    "pickle_dict_preds = dict()\n",
    "pickle_dict_preds['df_test_preds']=df_test_preds\n",
    "pickle.dump(pickle_dict_preds, open(f'../temp/df_test_preds.pkl', 'wb'))\n",
    "\n",
    "pickle_dict_preds['df_test_preds'].head()"
   ]
  },
  {
   "cell_type": "code",
   "execution_count": null,
   "id": "76f98d76",
   "metadata": {},
   "outputs": [],
   "source": [
    "\n",
    "\n"
   ]
  },
  {
   "cell_type": "code",
   "execution_count": null,
   "id": "9e34f005",
   "metadata": {},
   "outputs": [],
   "source": []
  },
  {
   "cell_type": "markdown",
   "id": "046fe77e",
   "metadata": {},
   "source": [
    "# Submission"
   ]
  },
  {
   "cell_type": "code",
   "execution_count": 64,
   "id": "57ecd9e5",
   "metadata": {},
   "outputs": [
    {
     "name": "stderr",
     "output_type": "stream",
     "text": [
      "\n",
      "A value is trying to be set on a copy of a slice from a DataFrame.\n",
      "Try using .loc[row_indexer,col_indexer] = value instead\n",
      "\n",
      "See the caveats in the documentation: https://pandas.pydata.org/pandas-docs/stable/user_guide/indexing.html#returning-a-view-versus-a-copy\n"
     ]
    },
    {
     "data": {
      "text/html": [
       "<div>\n",
       "<style scoped>\n",
       "    .dataframe tbody tr th:only-of-type {\n",
       "        vertical-align: middle;\n",
       "    }\n",
       "\n",
       "    .dataframe tbody tr th {\n",
       "        vertical-align: top;\n",
       "    }\n",
       "\n",
       "    .dataframe thead th {\n",
       "        text-align: right;\n",
       "    }\n",
       "</style>\n",
       "<table border=\"1\" class=\"dataframe\">\n",
       "  <thead>\n",
       "    <tr style=\"text-align: right;\">\n",
       "      <th></th>\n",
       "      <th>ID</th>\n",
       "      <th>item_cnt_month</th>\n",
       "    </tr>\n",
       "    <tr>\n",
       "      <th>ID</th>\n",
       "      <th></th>\n",
       "      <th></th>\n",
       "    </tr>\n",
       "  </thead>\n",
       "  <tbody>\n",
       "    <tr>\n",
       "      <th>0</th>\n",
       "      <td>0</td>\n",
       "      <td>0.00</td>\n",
       "    </tr>\n",
       "    <tr>\n",
       "      <th>1</th>\n",
       "      <td>1</td>\n",
       "      <td>0.00</td>\n",
       "    </tr>\n",
       "    <tr>\n",
       "      <th>2</th>\n",
       "      <td>2</td>\n",
       "      <td>0.00</td>\n",
       "    </tr>\n",
       "    <tr>\n",
       "      <th>3</th>\n",
       "      <td>3</td>\n",
       "      <td>0.81</td>\n",
       "    </tr>\n",
       "    <tr>\n",
       "      <th>4</th>\n",
       "      <td>4</td>\n",
       "      <td>0.00</td>\n",
       "    </tr>\n",
       "  </tbody>\n",
       "</table>\n",
       "</div>"
      ],
      "text/plain": [
       "    ID  item_cnt_month\n",
       "ID                    \n",
       "0    0            0.00\n",
       "1    1            0.00\n",
       "2    2            0.00\n",
       "3    3            0.81\n",
       "4    4            0.00"
      ]
     },
     "execution_count": 64,
     "metadata": {},
     "output_type": "execute_result"
    }
   ],
   "source": [
    "\n",
    "#calculate y_test and submit\n",
    "df_test_final['item_cnt_month'] = model_lgb.predict(X_test).clip(0,20)\n",
    "\n",
    "\n",
    "\n",
    "\n",
    "\n",
    "\n",
    "df_submission = df_test_final.merge(df_test, on=['shop_id', 'item_id'])[[\"ID\", \"item_cnt_month\"]]\n",
    "df_submission.set_index('ID',drop=False, inplace=True)\n",
    "df_submission.sort_index(inplace=True)\n",
    "\n",
    "df_submission.to_csv(\"../datasets/submission.csv\", index=False)\n",
    "df_submission.head()"
   ]
  },
  {
   "cell_type": "code",
   "execution_count": null,
   "id": "a213eda9",
   "metadata": {},
   "outputs": [],
   "source": [
    "\n"
   ]
  },
  {
   "cell_type": "code",
   "execution_count": null,
   "id": "c04a0d10",
   "metadata": {},
   "outputs": [],
   "source": []
  },
  {
   "cell_type": "code",
   "execution_count": null,
   "id": "af963ace",
   "metadata": {},
   "outputs": [],
   "source": []
  },
  {
   "cell_type": "markdown",
   "id": "7196475b",
   "metadata": {},
   "source": [
    "# define pipeline\n",
    "model = RandomForestClassifier(random_state=random_key)\n",
    "\n",
    "\n",
    "\n",
    "steps = [('classifier', model)]\n",
    "pipe = Pipeline(steps=steps)\n",
    "\n",
    "\n",
    "# pipeline parameters\n",
    "pipe_params = { 'classifier__num_leaves' : [40],   # The number of trees in the forest.\n",
    "                'classifier__learning_rate' : [.01],   # The number of trees in the forest.\n",
    "                'classifier__max_depth' : [4],              # The maximum depth of the tree.\n",
    "               # 'classifier__is_unbalance': ['True','False'],\n",
    "               # 'classifier__metric' : ['auc', 'binary_logloss','average_precision'] # Different metrics\n",
    "                }\n",
    "\n",
    "# Instantiate GridSearchCV.\n",
    "# tscv = TimeSeriesSplit(n_splits=3)\n",
    "gs_smlgb = GridSearchCV(pipe, # what object are we optimizing?\n",
    "                    param_grid = pipe_params, # what parameters values are we searching?\n",
    "                    cv=1, # 3-fold cross-validation.\n",
    "                    n_jobs=-1, \n",
    "                    scoring='neg_root_mean_squared_error'\n",
    "                    )\n",
    "\n",
    "#finding the best hypermeter list for the model\n",
    "result = run_model(gs_smlgb, \"LightGBM\",  X_train, y_train, X_validation, y_validation\n",
    "                  )\n",
    "#result_list.append(result)"
   ]
  },
  {
   "cell_type": "code",
   "execution_count": null,
   "id": "603402f2",
   "metadata": {},
   "outputs": [],
   "source": [
    "# define pipeline\n",
    "model = lgb.LGBMClassifier(objective='regression', random_state=random_key)\n",
    "\n",
    "\n",
    "\n",
    "steps = [('classifier', model)]\n",
    "pipe = Pipeline(steps=steps)\n",
    "\n",
    "\n",
    "# pipeline parameters\n",
    "pipe_params = { 'classifier__num_leaves' : [40],   # The number of trees in the forest.\n",
    "                'classifier__learning_rate' : [.01],   # The number of trees in the forest.\n",
    "                'classifier__max_depth' : [4],              # The maximum depth of the tree.\n",
    "               # 'classifier__is_unbalance': ['True','False'],\n",
    "               # 'classifier__metric' : ['auc', 'binary_logloss','average_precision'] # Different metrics\n",
    "                }\n",
    "\n",
    "# Instantiate GridSearchCV.\n",
    "# tscv = TimeSeriesSplit(n_splits=3)\n",
    "gs_smlgb = GridSearchCV(pipe, # what object are we optimizing?\n",
    "                    param_grid = pipe_params, # what parameters values are we searching?\n",
    "                    cv=2, # 3-fold cross-validation.\n",
    "                    n_jobs=-1, \n",
    "                    scoring='neg_root_mean_squared_error'\n",
    "                    )\n",
    "\n",
    "#finding the best hypermeter list for the model\n",
    "result = run_model(gs_smlgb, \"LightGBM\",  X_train, y_train, X_validation, y_validation\n",
    "                  )\n",
    "#result_list.append(result)"
   ]
  },
  {
   "cell_type": "markdown",
   "id": "7d04442a",
   "metadata": {},
   "source": [
    "print('Fitting...')\n",
    "model = xgb.XGBRegressor(max_depth = 11, min_child_weight=0.5, subsample = 1, eta = 0.3, num_round = 1000, seed = 1, nthread = 16)\n",
    "model.fit( X_train, y_train, eval_metric='rmse')\n"
   ]
  },
  {
   "cell_type": "code",
   "execution_count": null,
   "id": "801fc1bd",
   "metadata": {},
   "outputs": [],
   "source": []
  },
  {
   "cell_type": "code",
   "execution_count": null,
   "id": "e7f197c1",
   "metadata": {},
   "outputs": [],
   "source": [
    "\n",
    "\n"
   ]
  },
  {
   "cell_type": "code",
   "execution_count": null,
   "id": "86c9e6eb",
   "metadata": {},
   "outputs": [],
   "source": []
  }
 ],
 "metadata": {
  "kernelspec": {
   "display_name": "Python 3 (ipykernel)",
   "language": "python",
   "name": "python3"
  },
  "language_info": {
   "codemirror_mode": {
    "name": "ipython",
    "version": 3
   },
   "file_extension": ".py",
   "mimetype": "text/x-python",
   "name": "python",
   "nbconvert_exporter": "python",
   "pygments_lexer": "ipython3",
   "version": "3.9.13"
  }
 },
 "nbformat": 4,
 "nbformat_minor": 5
}
