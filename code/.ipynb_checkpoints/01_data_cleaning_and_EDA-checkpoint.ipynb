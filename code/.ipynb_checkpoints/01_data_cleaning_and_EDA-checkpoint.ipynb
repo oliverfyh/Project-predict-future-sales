{
 "cells": [
  {
   "cell_type": "markdown",
   "id": "7301c3eb",
   "metadata": {},
   "source": [
    "# Project: Predict Future Sales\n",
    "#### Notebook 1 of 4: Data Cleaning and EDA"
   ]
  },
  {
   "cell_type": "markdown",
   "id": "c18b42b9",
   "metadata": {},
   "source": [
    "In this notebook, we mainly did the following:\n",
    "- Import data:\n",
    "    - \"items_en.csv\"\n",
    "    - \"shops_en.csv\"\n",
    "    - \"item_categories_en.csv\"\n",
    "    - \"sales_train.csv\"\n",
    "    - \"test.csv\"\n",
    "    \n",
    "- Data Cleaning:\n",
    "    - check and handle outliers\n",
    "    - check and handle null values\n",
    "    \n",
    "- EDA and found:\n",
    "    - many shops seemed closed after running some months\n",
    "    - stable monthly sales in some shops\n",
    "    - downtrend monthly sales in many shops\n",
    "    - uptrend monthly sales in 2 online shops\n",
    "    - not all shops in test data\n",
    "    - shop_id: 0 and 57 seem of the same shop\n",
    "    - shop_id: 1 and 58 seem of the same shop\n",
    "    - shop_id: 10 and 11 seem of the same shop\n",
    "    - Different trends occur in different categories.\n",
    "    - Seasonality are observed in some categories\n",
    "    - Many categories are no longer for sale, which will be not considered in modelling\n",
    "    - not every category was available in every shop\n",
    "    - the sales of each category varid dramatically\n",
    "\n",
    "\n",
    "- We also built a grid from all shops/items combinations from each month\n",
    "    - all our coming modelling is based on this grid \n",
    "\n",
    "    \n",
    "    "
   ]
  },
  {
   "cell_type": "code",
   "execution_count": 116,
   "id": "39b44c24",
   "metadata": {},
   "outputs": [],
   "source": [
    "import numpy as np\n",
    "import pandas as pd\n",
    "import seaborn as sns\n",
    "\n",
    "\n",
    "\n",
    "import matplotlib\n",
    "from matplotlib import pyplot as plt\n",
    "plt.rcParams.update({'figure.max_open_warning': 0})\n",
    "\n",
    "from textwrap import wrap\n",
    "\n",
    "pd.options.display.float_format = '{:,.2f}'.format\n",
    "pd.options.display.max_columns = None\n",
    "pd.options.display.max_rows = None\n",
    "pd.set_option('display.max_colwidth', None)\n",
    "\n",
    "import pickle\n",
    "import time\n",
    "import datetime\n",
    "\n",
    "from itertools import product\n"
   ]
  },
  {
   "cell_type": "markdown",
   "id": "c38f74d6",
   "metadata": {},
   "source": [
    "# define functions"
   ]
  },
  {
   "cell_type": "code",
   "execution_count": 118,
   "id": "4e540cde",
   "metadata": {},
   "outputs": [],
   "source": [
    "#import data and do basic EDA\n",
    "def import_data(path):\n",
    "    df = pd.read_csv(path)\n",
    "    \n",
    "    print(\"printing dataframe shape\")\n",
    "    print(df.shape)\n",
    "    \n",
    "    print(\"\\n\\nprinting dataframe info\")\n",
    "    df.info()\n",
    "    \n",
    "    print(\"\\n\\nprinting first 5 rows\")\n",
    "    print(df.head())\n",
    "    \n",
    "    print(\"\\n\\nprinting descriptive statistics\")\n",
    "    print(df.describe())\n",
    "    \n",
    "    print(\"\\n\\nprinting null value summary\")\n",
    "    print(df.isnull().sum())\n",
    "    return df"
   ]
  },
  {
   "cell_type": "code",
   "execution_count": 119,
   "id": "3492f67b",
   "metadata": {},
   "outputs": [],
   "source": [
    "#https://github.com/matthiasanderer/m5-accuracy-competition/blob/main/m5-simple-fe-evaluation.ipynb\n",
    "\n",
    "## Memory Reducer\n",
    "# :df pandas dataframe to reduce size             # type: pd.DataFrame()\n",
    "# :verbose                                        # type: bool\n",
    "def reduce_mem_usage(df, verbose=True):\n",
    "    numerics = ['int16', 'int32', 'int64', 'float16', 'float32', 'float64']\n",
    "    start_mem = df.memory_usage().sum() / 1024**2    \n",
    "    for col in df.columns:\n",
    "        col_type = df[col].dtypes\n",
    "        if col_type in numerics:\n",
    "            c_min = df[col].min()\n",
    "            c_max = df[col].max()\n",
    "            if str(col_type)[:3] == 'int':\n",
    "                if c_min > np.iinfo(np.int8).min and c_max < np.iinfo(np.int8).max:\n",
    "                    df[col] = df[col].astype(np.int8)\n",
    "                elif c_min > np.iinfo(np.int16).min and c_max < np.iinfo(np.int16).max:\n",
    "                       df[col] = df[col].astype(np.int16)\n",
    "                elif c_min > np.iinfo(np.int32).min and c_max < np.iinfo(np.int32).max:\n",
    "                    df[col] = df[col].astype(np.int32)\n",
    "                elif c_min > np.iinfo(np.int64).min and c_max < np.iinfo(np.int64).max:\n",
    "                    df[col] = df[col].astype(np.int64)  \n",
    "            else:\n",
    "                if c_min > np.finfo(np.float16).min and c_max < np.finfo(np.float16).max:\n",
    "                    df[col] = df[col].astype(np.float16)\n",
    "                elif c_min > np.finfo(np.float32).min and c_max < np.finfo(np.float32).max:\n",
    "                    df[col] = df[col].astype(np.float32)\n",
    "                else:\n",
    "                    df[col] = df[col].astype(np.float64)    \n",
    "    end_mem = df.memory_usage().sum() / 1024**2\n",
    "    if verbose: print('Mem. usage decreased to {:5.2f} Mb ({:.1f}% reduction)'.format(end_mem, 100 * (start_mem - end_mem) / start_mem))\n",
    "    return df"
   ]
  },
  {
   "cell_type": "markdown",
   "id": "02bca270",
   "metadata": {},
   "source": [
    "# Data Import and basic clean"
   ]
  },
  {
   "cell_type": "markdown",
   "id": "3a496d10",
   "metadata": {},
   "source": [
    "### df_items"
   ]
  },
  {
   "cell_type": "code",
   "execution_count": 120,
   "id": "5d8309c5",
   "metadata": {},
   "outputs": [
    {
     "name": "stdout",
     "output_type": "stream",
     "text": [
      "printing dataframe shape\n",
      "(22170, 3)\n",
      "\n",
      "\n",
      "printing dataframe info\n",
      "<class 'pandas.core.frame.DataFrame'>\n",
      "RangeIndex: 22170 entries, 0 to 22169\n",
      "Data columns (total 3 columns):\n",
      " #   Column            Non-Null Count  Dtype \n",
      "---  ------            --------------  ----- \n",
      " 0   item_name         22170 non-null  object\n",
      " 1   item_id           22170 non-null  int64 \n",
      " 2   item_category_id  22170 non-null  int64 \n",
      "dtypes: int64(2), object(1)\n",
      "memory usage: 519.7+ KB\n",
      "\n",
      "\n",
      "printing first 5 rows\n",
      "                                                     item_name  item_id  \\\n",
      "0                          ! IN THE POWER OF GLAMOR (PLAST.) D        0   \n",
      "1  !ABBYY FineReader 12 Professional Edition Full [PC Digital]        1   \n",
      "2                             *** IN THE RAYS OF GLORY (UNV) D        2   \n",
      "3                                        ***BLUE WAVE (Univ) D        3   \n",
      "4                                             ***BOX (GLASS) D        4   \n",
      "\n",
      "   item_category_id  \n",
      "0                40  \n",
      "1                76  \n",
      "2                40  \n",
      "3                40  \n",
      "4                40  \n",
      "\n",
      "\n",
      "printing descriptive statistics\n",
      "        item_id  item_category_id\n",
      "count 22,170.00         22,170.00\n",
      "mean  11,084.50             46.29\n",
      "std    6,400.07             15.94\n",
      "min        0.00              0.00\n",
      "25%    5,542.25             37.00\n",
      "50%   11,084.50             40.00\n",
      "75%   16,626.75             58.00\n",
      "max   22,169.00             83.00\n",
      "\n",
      "\n",
      "printing null value summary\n",
      "item_name           0\n",
      "item_id             0\n",
      "item_category_id    0\n",
      "dtype: int64\n"
     ]
    }
   ],
   "source": [
    "path = \"../datasets/items_en.csv\"\n",
    "df_items = import_data(path)"
   ]
  },
  {
   "cell_type": "markdown",
   "id": "06facb22",
   "metadata": {},
   "source": [
    "### df_shops"
   ]
  },
  {
   "cell_type": "code",
   "execution_count": 122,
   "id": "99883974",
   "metadata": {},
   "outputs": [
    {
     "name": "stdout",
     "output_type": "stream",
     "text": [
      "printing dataframe shape\n",
      "(60, 2)\n",
      "\n",
      "\n",
      "printing dataframe info\n",
      "<class 'pandas.core.frame.DataFrame'>\n",
      "RangeIndex: 60 entries, 0 to 59\n",
      "Data columns (total 2 columns):\n",
      " #   Column     Non-Null Count  Dtype \n",
      "---  ------     --------------  ----- \n",
      " 0   shop_name  60 non-null     object\n",
      " 1   shop_id    60 non-null     int64 \n",
      "dtypes: int64(1), object(1)\n",
      "memory usage: 1.1+ KB\n",
      "\n",
      "\n",
      "printing first 5 rows\n",
      "                                  shop_name  shop_id\n",
      "0         !Yakutsk Ordzhonikidze, 56 francs        0\n",
      "1  !Yakutsk shopping center \"Central\" franc        1\n",
      "2             Adygea shopping center \"Mega\"        2\n",
      "3          Balashikha SEC \"October-Kinomir\"        3\n",
      "4     Volzhsky shopping center \"Volga Mall\"        4\n",
      "\n",
      "\n",
      "printing descriptive statistics\n",
      "       shop_id\n",
      "count    60.00\n",
      "mean     29.50\n",
      "std      17.46\n",
      "min       0.00\n",
      "25%      14.75\n",
      "50%      29.50\n",
      "75%      44.25\n",
      "max      59.00\n",
      "\n",
      "\n",
      "printing null value summary\n",
      "shop_name    0\n",
      "shop_id      0\n",
      "dtype: int64\n"
     ]
    }
   ],
   "source": [
    "path = \"../datasets/shops_en.csv\"\n",
    "df_shops = import_data(path)"
   ]
  },
  {
   "cell_type": "markdown",
   "id": "0e082ee8",
   "metadata": {},
   "source": [
    "\n",
    "### df_cat"
   ]
  },
  {
   "cell_type": "code",
   "execution_count": 124,
   "id": "8faf78e6",
   "metadata": {},
   "outputs": [
    {
     "name": "stdout",
     "output_type": "stream",
     "text": [
      "printing dataframe shape\n",
      "(84, 2)\n",
      "\n",
      "\n",
      "printing dataframe info\n",
      "<class 'pandas.core.frame.DataFrame'>\n",
      "RangeIndex: 84 entries, 0 to 83\n",
      "Data columns (total 2 columns):\n",
      " #   Column              Non-Null Count  Dtype \n",
      "---  ------              --------------  ----- \n",
      " 0   item_category_name  84 non-null     object\n",
      " 1   item_category_id    84 non-null     int64 \n",
      "dtypes: int64(1), object(1)\n",
      "memory usage: 1.4+ KB\n",
      "\n",
      "\n",
      "printing first 5 rows\n",
      "         item_category_name  item_category_id\n",
      "0  PC - Headsets/Headphones                 0\n",
      "1         Accessories - PS2                 1\n",
      "2         Accessories - PS3                 2\n",
      "3         Accessories - PS4                 3\n",
      "4         Accessories - PSP                 4\n",
      "\n",
      "\n",
      "printing descriptive statistics\n",
      "       item_category_id\n",
      "count             84.00\n",
      "mean              41.50\n",
      "std               24.39\n",
      "min                0.00\n",
      "25%               20.75\n",
      "50%               41.50\n",
      "75%               62.25\n",
      "max               83.00\n",
      "\n",
      "\n",
      "printing null value summary\n",
      "item_category_name    0\n",
      "item_category_id      0\n",
      "dtype: int64\n"
     ]
    }
   ],
   "source": [
    "path = \"../datasets/item_categories_en.csv\"\n",
    "df_cat = import_data(path)"
   ]
  },
  {
   "cell_type": "code",
   "execution_count": 126,
   "id": "2e5c0dd5",
   "metadata": {},
   "outputs": [],
   "source": [
    "cat_item_list=df_items.groupby('item_category_id')['item_id'].unique().tolist()\n",
    "df_cat['unique_item_num']=[len(cat_item_list[i].tolist()) for i in range(len(cat_item_list))]"
   ]
  },
  {
   "cell_type": "markdown",
   "id": "f398156b",
   "metadata": {},
   "source": [
    "### df_train"
   ]
  },
  {
   "cell_type": "code",
   "execution_count": 128,
   "id": "a66c8f09",
   "metadata": {},
   "outputs": [
    {
     "name": "stdout",
     "output_type": "stream",
     "text": [
      "printing dataframe shape\n",
      "(2935849, 6)\n",
      "\n",
      "\n",
      "printing dataframe info\n",
      "<class 'pandas.core.frame.DataFrame'>\n",
      "RangeIndex: 2935849 entries, 0 to 2935848\n",
      "Data columns (total 6 columns):\n",
      " #   Column          Dtype  \n",
      "---  ------          -----  \n",
      " 0   date            object \n",
      " 1   date_block_num  int64  \n",
      " 2   shop_id         int64  \n",
      " 3   item_id         int64  \n",
      " 4   item_price      float64\n",
      " 5   item_cnt_day    float64\n",
      "dtypes: float64(2), int64(3), object(1)\n",
      "memory usage: 134.4+ MB\n",
      "\n",
      "\n",
      "printing first 5 rows\n",
      "         date  date_block_num  shop_id  item_id  item_price  item_cnt_day\n",
      "0  02.01.2013               0       59    22154      999.00          1.00\n",
      "1  03.01.2013               0       25     2552      899.00          1.00\n",
      "2  05.01.2013               0       25     2552      899.00         -1.00\n",
      "3  06.01.2013               0       25     2554    1,709.05          1.00\n",
      "4  15.01.2013               0       25     2555    1,099.00          1.00\n",
      "\n",
      "\n",
      "printing descriptive statistics\n",
      "       date_block_num      shop_id      item_id   item_price  item_cnt_day\n",
      "count    2,935,849.00 2,935,849.00 2,935,849.00 2,935,849.00  2,935,849.00\n",
      "mean            14.57        33.00    10,197.23       890.85          1.24\n",
      "std              9.42        16.23     6,324.30     1,729.80          2.62\n",
      "min              0.00         0.00         0.00        -1.00        -22.00\n",
      "25%              7.00        22.00     4,476.00       249.00          1.00\n",
      "50%             14.00        31.00     9,343.00       399.00          1.00\n",
      "75%             23.00        47.00    15,684.00       999.00          1.00\n",
      "max             33.00        59.00    22,169.00   307,980.00      2,169.00\n",
      "\n",
      "\n",
      "printing null value summary\n",
      "date              0\n",
      "date_block_num    0\n",
      "shop_id           0\n",
      "item_id           0\n",
      "item_price        0\n",
      "item_cnt_day      0\n",
      "dtype: int64\n"
     ]
    }
   ],
   "source": [
    "path = \"../datasets/sales_train.csv\"\n",
    "df_train = import_data(path)"
   ]
  },
  {
   "cell_type": "code",
   "execution_count": 129,
   "id": "fcf12035",
   "metadata": {},
   "outputs": [],
   "source": [
    "#action\n",
    "df_train['date']=pd.to_datetime(df_train['date'],format=\"%d.%m.%Y\")\n",
    "#df_train['year_month'] = df_train['date'].dt.to_period('M')\n",
    "#df_train['month'] = df_train['date'].dt.month\n",
    "#df_train = df_train.drop(columns=['date'])"
   ]
  },
  {
   "cell_type": "code",
   "execution_count": 133,
   "id": "2c4c8fae",
   "metadata": {},
   "outputs": [
    {
     "data": {
      "text/plain": [
       "(2935849, 7)"
      ]
     },
     "execution_count": 133,
     "metadata": {},
     "output_type": "execute_result"
    }
   ],
   "source": [
    "# merge df_train and df_items\n",
    "df_train = df_train.merge(df_items, left_on='item_id', right_on='item_id', how='left' )\n",
    "df_train = df_train.drop(columns=['item_name'])\n",
    "print(df_train.shape)\n",
    "df_train.head()"
   ]
  },
  {
   "cell_type": "markdown",
   "id": "f9d4e224",
   "metadata": {},
   "source": [
    "### df_test"
   ]
  },
  {
   "cell_type": "code",
   "execution_count": 136,
   "id": "8d6c59ce",
   "metadata": {},
   "outputs": [
    {
     "name": "stdout",
     "output_type": "stream",
     "text": [
      "printing dataframe shape\n",
      "(214200, 3)\n",
      "\n",
      "\n",
      "printing dataframe info\n",
      "<class 'pandas.core.frame.DataFrame'>\n",
      "RangeIndex: 214200 entries, 0 to 214199\n",
      "Data columns (total 3 columns):\n",
      " #   Column   Non-Null Count   Dtype\n",
      "---  ------   --------------   -----\n",
      " 0   ID       214200 non-null  int64\n",
      " 1   shop_id  214200 non-null  int64\n",
      " 2   item_id  214200 non-null  int64\n",
      "dtypes: int64(3)\n",
      "memory usage: 4.9 MB\n",
      "\n",
      "\n",
      "printing first 5 rows\n",
      "   ID  shop_id  item_id\n",
      "0   0        5     5037\n",
      "1   1        5     5320\n",
      "2   2        5     5233\n",
      "3   3        5     5232\n",
      "4   4        5     5268\n",
      "\n",
      "\n",
      "printing descriptive statistics\n",
      "              ID    shop_id    item_id\n",
      "count 214,200.00 214,200.00 214,200.00\n",
      "mean  107,099.50      31.64  11,019.40\n",
      "std    61,834.36      17.56   6,252.64\n",
      "min         0.00       2.00      30.00\n",
      "25%    53,549.75      16.00   5,381.50\n",
      "50%   107,099.50      34.50  11,203.00\n",
      "75%   160,649.25      47.00  16,071.50\n",
      "max   214,199.00      59.00  22,167.00\n",
      "\n",
      "\n",
      "printing null value summary\n",
      "ID         0\n",
      "shop_id    0\n",
      "item_id    0\n",
      "dtype: int64\n"
     ]
    }
   ],
   "source": [
    "path = \"../datasets/test.csv\"\n",
    "df_test = import_data(path)"
   ]
  },
  {
   "cell_type": "code",
   "execution_count": 137,
   "id": "33dc04ef",
   "metadata": {},
   "outputs": [],
   "source": [
    "#action\n",
    "#df_test['date'] = datetime.date(2015, 11, 30)\n",
    "#df_test['date']=pd.to_datetime(df_test['date'])\n",
    "#df_test['year_month'] = df_test['date'].dt.to_period('M')\n",
    "#df_test['month'] = df_test['date'].dt.month\n",
    "df_test['date_block_num'] = 34\n",
    "#df_test = df_test.drop(columns=['date'])"
   ]
  },
  {
   "cell_type": "code",
   "execution_count": 138,
   "id": "6760304e",
   "metadata": {},
   "outputs": [
    {
     "name": "stdout",
     "output_type": "stream",
     "text": [
      "<class 'pandas.core.frame.DataFrame'>\n",
      "RangeIndex: 214200 entries, 0 to 214199\n",
      "Data columns (total 4 columns):\n",
      " #   Column          Non-Null Count   Dtype\n",
      "---  ------          --------------   -----\n",
      " 0   ID              214200 non-null  int64\n",
      " 1   shop_id         214200 non-null  int64\n",
      " 2   item_id         214200 non-null  int64\n",
      " 3   date_block_num  214200 non-null  int64\n",
      "dtypes: int64(4)\n",
      "memory usage: 6.5 MB\n"
     ]
    }
   ],
   "source": [
    "df_test.info()"
   ]
  },
  {
   "cell_type": "code",
   "execution_count": 140,
   "id": "5efe4589",
   "metadata": {},
   "outputs": [
    {
     "data": {
      "text/plain": [
       "(214200, 5)"
      ]
     },
     "execution_count": 140,
     "metadata": {},
     "output_type": "execute_result"
    }
   ],
   "source": [
    "# merge df_test and df_items\n",
    "df_test = df_test.merge(df_items, left_on='item_id', right_on='item_id', how='left' )\n",
    "df_test = df_test.set_index('ID',drop=False)\n",
    "df_test = df_test.drop(columns=['item_name'])\n",
    "df_test.shape"
   ]
  },
  {
   "cell_type": "code",
   "execution_count": 141,
   "id": "b7f5aec5",
   "metadata": {},
   "outputs": [
    {
     "name": "stdout",
     "output_type": "stream",
     "text": [
      "[0, 2, 3, 5, 6, 7, 9, 11, 12, 15, 16, 19, 20, 21, 22, 23, 24, 25, 26, 27, 28, 29, 30, 31, 33, 34, 35, 36, 37, 38, 40, 41, 42, 43, 44, 45, 47, 49, 54, 55, 56, 57, 58, 60, 61, 62, 63, 64, 65, 67, 69, 70, 71, 72, 73, 74, 75, 76, 77, 78, 79, 83]\n"
     ]
    }
   ],
   "source": [
    "# produce lists of shops, items and item_categories in df_test for future filtering\n",
    "test_shop_list = sorted(df_test['shop_id'].unique().tolist())\n",
    "#print(test_shop_list)\n",
    "test_item_list = sorted(df_test['item_id'].unique().tolist())\n",
    "#print(test_item_list)\n",
    "test_cat_list = sorted(df_test['item_category_id'].unique().tolist())\n",
    "print(test_cat_list)"
   ]
  },
  {
   "cell_type": "code",
   "execution_count": null,
   "id": "1eadb62d",
   "metadata": {
    "scrolled": false
   },
   "outputs": [],
   "source": []
  },
  {
   "cell_type": "markdown",
   "id": "c040631c",
   "metadata": {},
   "source": [
    "# EDA and further data clean"
   ]
  },
  {
   "cell_type": "markdown",
   "id": "fcebad29",
   "metadata": {},
   "source": [
    "### df_train"
   ]
  },
  {
   "cell_type": "code",
   "execution_count": 142,
   "id": "0b5f492d",
   "metadata": {},
   "outputs": [
    {
     "name": "stdout",
     "output_type": "stream",
     "text": [
      "<class 'pandas.core.frame.DataFrame'>\n",
      "Int64Index: 2935849 entries, 0 to 2935848\n",
      "Data columns (total 7 columns):\n",
      " #   Column            Dtype         \n",
      "---  ------            -----         \n",
      " 0   date              datetime64[ns]\n",
      " 1   date_block_num    int64         \n",
      " 2   shop_id           int64         \n",
      " 3   item_id           int64         \n",
      " 4   item_price        float64       \n",
      " 5   item_cnt_day      float64       \n",
      " 6   item_category_id  int64         \n",
      "dtypes: datetime64[ns](1), float64(2), int64(4)\n",
      "memory usage: 179.2 MB\n"
     ]
    }
   ],
   "source": [
    "df_train.info()"
   ]
  },
  {
   "cell_type": "markdown",
   "id": "9f6316fd",
   "metadata": {},
   "source": [
    "### handle outliers\n"
   ]
  },
  {
   "cell_type": "markdown",
   "id": "6c37a4d2",
   "metadata": {},
   "source": [
    "**'item_price'**"
   ]
  },
  {
   "cell_type": "code",
   "execution_count": 145,
   "id": "8d116368",
   "metadata": {},
   "outputs": [
    {
     "data": {
      "text/plain": [
       "<AxesSubplot: xlabel='item_price'>"
      ]
     },
     "execution_count": 145,
     "metadata": {},
     "output_type": "execute_result"
    },
    {
     "data": {
      "image/png": "[encoded data removed]",
      "text/plain": [
       "<Figure size 640x480 with 1 Axes>"
      ]
     },
     "metadata": {},
     "output_type": "display_data"
    }
   ],
   "source": [
    "sns.boxplot(data=df_train, x=\"item_price\")"
   ]
  },
  {
   "cell_type": "code",
   "execution_count": 146,
   "id": "f302cc69",
   "metadata": {},
   "outputs": [
    {
     "data": {
      "text/html": [
       "<div>\n",
       "<style scoped>\n",
       "    .dataframe tbody tr th:only-of-type {\n",
       "        vertical-align: middle;\n",
       "    }\n",
       "\n",
       "    .dataframe tbody tr th {\n",
       "        vertical-align: top;\n",
       "    }\n",
       "\n",
       "    .dataframe thead th {\n",
       "        text-align: right;\n",
       "    }\n",
       "</style>\n",
       "<table border=\"1\" class=\"dataframe\">\n",
       "  <thead>\n",
       "    <tr style=\"text-align: right;\">\n",
       "      <th></th>\n",
       "      <th>date</th>\n",
       "      <th>date_block_num</th>\n",
       "      <th>shop_id</th>\n",
       "      <th>item_id</th>\n",
       "      <th>item_price</th>\n",
       "      <th>item_cnt_day</th>\n",
       "      <th>item_category_id</th>\n",
       "    </tr>\n",
       "  </thead>\n",
       "  <tbody>\n",
       "    <tr>\n",
       "      <th>484683</th>\n",
       "      <td>2013-05-15</td>\n",
       "      <td>4</td>\n",
       "      <td>32</td>\n",
       "      <td>2973</td>\n",
       "      <td>-1.00</td>\n",
       "      <td>1.00</td>\n",
       "      <td>19</td>\n",
       "    </tr>\n",
       "    <tr>\n",
       "      <th>1163158</th>\n",
       "      <td>2013-12-13</td>\n",
       "      <td>11</td>\n",
       "      <td>12</td>\n",
       "      <td>6066</td>\n",
       "      <td>307,980.00</td>\n",
       "      <td>1.00</td>\n",
       "      <td>75</td>\n",
       "    </tr>\n",
       "  </tbody>\n",
       "</table>\n",
       "</div>"
      ],
      "text/plain": [
       "              date  date_block_num  shop_id  item_id  item_price  \\\n",
       "484683  2013-05-15               4       32     2973       -1.00   \n",
       "1163158 2013-12-13              11       12     6066  307,980.00   \n",
       "\n",
       "         item_cnt_day  item_category_id  \n",
       "484683           1.00                19  \n",
       "1163158          1.00                75  "
      ]
     },
     "execution_count": 146,
     "metadata": {},
     "output_type": "execute_result"
    }
   ],
   "source": [
    "df_train.query(\"item_price > 100_000 | item_price < 0\")"
   ]
  },
  {
   "cell_type": "code",
   "execution_count": null,
   "id": "d4e115c3",
   "metadata": {},
   "outputs": [],
   "source": [
    "df_train.query(\"item_id==6066 | item_id== 2973\")"
   ]
  },
  {
   "cell_type": "code",
   "execution_count": 148,
   "id": "3757dd55",
   "metadata": {},
   "outputs": [
    {
     "data": {
      "text/plain": [
       "date                2013-05-15 00:00:00\n",
       "date_block_num                        4\n",
       "shop_id                              32\n",
       "item_id                            2973\n",
       "item_price                     2,499.00\n",
       "item_cnt_day                       1.00\n",
       "item_category_id                     19\n",
       "Name: 484683, dtype: object"
      ]
     },
     "execution_count": 148,
     "metadata": {},
     "output_type": "execute_result"
    }
   ],
   "source": [
    "#action\n",
    "#impute the negative price with the price with same item_id from other records\n",
    "df_train.at[484683,'item_price']=2499\n",
    "df_train.iloc[484683,:]"
   ]
  },
  {
   "cell_type": "code",
   "execution_count": 149,
   "id": "4036e3e5",
   "metadata": {},
   "outputs": [
    {
     "name": "stdout",
     "output_type": "stream",
     "text": [
      "the item_id 6066 seems abnormal, to be deteted\n"
     ]
    }
   ],
   "source": [
    "print(\"the item_id 6066 seems abnormal, to be deteted\")"
   ]
  },
  {
   "cell_type": "markdown",
   "id": "511d0619",
   "metadata": {},
   "source": [
    "**'item_cnt_day'**"
   ]
  },
  {
   "cell_type": "code",
   "execution_count": 150,
   "id": "96911f92",
   "metadata": {},
   "outputs": [
    {
     "data": {
      "text/plain": [
       "<AxesSubplot: xlabel='item_cnt_day'>"
      ]
     },
     "execution_count": 150,
     "metadata": {},
     "output_type": "execute_result"
    },
    {
     "data": {
      "image/png": "[encoded data removed]",
      "text/plain": [
       "<Figure size 640x480 with 1 Axes>"
      ]
     },
     "metadata": {},
     "output_type": "display_data"
    }
   ],
   "source": [
    "sns.boxplot(data=df_train, x=\"item_cnt_day\")"
   ]
  },
  {
   "cell_type": "code",
   "execution_count": 151,
   "id": "c084e8e1",
   "metadata": {},
   "outputs": [
    {
     "data": {
      "text/html": [
       "<div>\n",
       "<style scoped>\n",
       "    .dataframe tbody tr th:only-of-type {\n",
       "        vertical-align: middle;\n",
       "    }\n",
       "\n",
       "    .dataframe tbody tr th {\n",
       "        vertical-align: top;\n",
       "    }\n",
       "\n",
       "    .dataframe thead th {\n",
       "        text-align: right;\n",
       "    }\n",
       "</style>\n",
       "<table border=\"1\" class=\"dataframe\">\n",
       "  <thead>\n",
       "    <tr style=\"text-align: right;\">\n",
       "      <th></th>\n",
       "      <th>date</th>\n",
       "      <th>date_block_num</th>\n",
       "      <th>shop_id</th>\n",
       "      <th>item_id</th>\n",
       "      <th>item_price</th>\n",
       "      <th>item_cnt_day</th>\n",
       "      <th>item_category_id</th>\n",
       "    </tr>\n",
       "  </thead>\n",
       "  <tbody>\n",
       "    <tr>\n",
       "      <th>2326930</th>\n",
       "      <td>2015-01-15</td>\n",
       "      <td>24</td>\n",
       "      <td>12</td>\n",
       "      <td>20949</td>\n",
       "      <td>4.00</td>\n",
       "      <td>1,000.00</td>\n",
       "      <td>71</td>\n",
       "    </tr>\n",
       "    <tr>\n",
       "      <th>2909818</th>\n",
       "      <td>2015-10-28</td>\n",
       "      <td>33</td>\n",
       "      <td>12</td>\n",
       "      <td>11373</td>\n",
       "      <td>0.91</td>\n",
       "      <td>2,169.00</td>\n",
       "      <td>9</td>\n",
       "    </tr>\n",
       "  </tbody>\n",
       "</table>\n",
       "</div>"
      ],
      "text/plain": [
       "              date  date_block_num  shop_id  item_id  item_price  \\\n",
       "2326930 2015-01-15              24       12    20949        4.00   \n",
       "2909818 2015-10-28              33       12    11373        0.91   \n",
       "\n",
       "         item_cnt_day  item_category_id  \n",
       "2326930      1,000.00                71  \n",
       "2909818      2,169.00                 9  "
      ]
     },
     "execution_count": 151,
     "metadata": {},
     "output_type": "execute_result"
    }
   ],
   "source": [
    "df_train.query(\"item_cnt_day > 900\")"
   ]
  },
  {
   "cell_type": "code",
   "execution_count": 152,
   "id": "7c703106",
   "metadata": {},
   "outputs": [
    {
     "data": {
      "text/html": [
       "<div>\n",
       "<style scoped>\n",
       "    .dataframe tbody tr th:only-of-type {\n",
       "        vertical-align: middle;\n",
       "    }\n",
       "\n",
       "    .dataframe tbody tr th {\n",
       "        vertical-align: top;\n",
       "    }\n",
       "\n",
       "    .dataframe thead th {\n",
       "        text-align: right;\n",
       "    }\n",
       "</style>\n",
       "<table border=\"1\" class=\"dataframe\">\n",
       "  <thead>\n",
       "    <tr style=\"text-align: right;\">\n",
       "      <th></th>\n",
       "      <th>item_name</th>\n",
       "      <th>item_id</th>\n",
       "      <th>item_category_id</th>\n",
       "    </tr>\n",
       "  </thead>\n",
       "  <tbody>\n",
       "    <tr>\n",
       "      <th>11373</th>\n",
       "      <td>Delivery to the point of issue (Boxberry)</td>\n",
       "      <td>11373</td>\n",
       "      <td>9</td>\n",
       "    </tr>\n",
       "    <tr>\n",
       "      <th>20949</th>\n",
       "      <td>Corporate package T-shirt 1C Interest white (34*42) 45 microns</td>\n",
       "      <td>20949</td>\n",
       "      <td>71</td>\n",
       "    </tr>\n",
       "  </tbody>\n",
       "</table>\n",
       "</div>"
      ],
      "text/plain": [
       "                                                            item_name  \\\n",
       "11373                       Delivery to the point of issue (Boxberry)   \n",
       "20949  Corporate package T-shirt 1C Interest white (34*42) 45 microns   \n",
       "\n",
       "       item_id  item_category_id  \n",
       "11373    11373                 9  \n",
       "20949    20949                71  "
      ]
     },
     "execution_count": 152,
     "metadata": {},
     "output_type": "execute_result"
    }
   ],
   "source": [
    "df_items.query(\"item_id==20949 | item_id==11373 \")"
   ]
  },
  {
   "cell_type": "code",
   "execution_count": 153,
   "id": "cee2c887",
   "metadata": {},
   "outputs": [
    {
     "name": "stdout",
     "output_type": "stream",
     "text": [
      "both records above might be of some events or promotions. they might impact our model,  we just delete these first\n"
     ]
    }
   ],
   "source": [
    "print(\"both records above might be of some events or promotions. they might impact our model,  we just delete these first\")"
   ]
  },
  {
   "cell_type": "code",
   "execution_count": 154,
   "id": "4278e347",
   "metadata": {},
   "outputs": [],
   "source": [
    "#action\n",
    "#to be used in pre-process\n",
    "index_to_delete=[1163158,2326930,2909818]\n",
    "df_train = df_train.drop(index_to_delete)"
   ]
  },
  {
   "cell_type": "markdown",
   "id": "569769c5",
   "metadata": {},
   "source": [
    "****************************************************"
   ]
  },
  {
   "cell_type": "markdown",
   "id": "d6c1c6fd",
   "metadata": {},
   "source": [
    "### Our task is to predict monthly sales of each item in each shop. First of all we need to build the monthly training data set from daily data set"
   ]
  },
  {
   "cell_type": "code",
   "execution_count": 217,
   "id": "319111a6",
   "metadata": {},
   "outputs": [
    {
     "data": {
      "text/html": [
       "<div>\n",
       "<style scoped>\n",
       "    .dataframe tbody tr th:only-of-type {\n",
       "        vertical-align: middle;\n",
       "    }\n",
       "\n",
       "    .dataframe tbody tr th {\n",
       "        vertical-align: top;\n",
       "    }\n",
       "\n",
       "    .dataframe thead th {\n",
       "        text-align: right;\n",
       "    }\n",
       "</style>\n",
       "<table border=\"1\" class=\"dataframe\">\n",
       "  <thead>\n",
       "    <tr style=\"text-align: right;\">\n",
       "      <th></th>\n",
       "      <th>date_block_num</th>\n",
       "      <th>shop_id</th>\n",
       "      <th>item_category_id</th>\n",
       "      <th>item_id</th>\n",
       "      <th>date</th>\n",
       "      <th>item_price</th>\n",
       "      <th>item_cnt_day</th>\n",
       "    </tr>\n",
       "  </thead>\n",
       "  <tbody>\n",
       "    <tr>\n",
       "      <th>0</th>\n",
       "      <td>0</td>\n",
       "      <td>0</td>\n",
       "      <td>2</td>\n",
       "      <td>5572</td>\n",
       "      <td>2013-01-04</td>\n",
       "      <td>1,322.00</td>\n",
       "      <td>10.00</td>\n",
       "    </tr>\n",
       "    <tr>\n",
       "      <th>1</th>\n",
       "      <td>0</td>\n",
       "      <td>0</td>\n",
       "      <td>2</td>\n",
       "      <td>5573</td>\n",
       "      <td>2013-01-12</td>\n",
       "      <td>560.00</td>\n",
       "      <td>1.00</td>\n",
       "    </tr>\n",
       "    <tr>\n",
       "      <th>2</th>\n",
       "      <td>0</td>\n",
       "      <td>0</td>\n",
       "      <td>2</td>\n",
       "      <td>5575</td>\n",
       "      <td>2013-01-06</td>\n",
       "      <td>806.00</td>\n",
       "      <td>4.00</td>\n",
       "    </tr>\n",
       "    <tr>\n",
       "      <th>3</th>\n",
       "      <td>0</td>\n",
       "      <td>0</td>\n",
       "      <td>2</td>\n",
       "      <td>5576</td>\n",
       "      <td>2013-01-28</td>\n",
       "      <td>2,231.00</td>\n",
       "      <td>5.00</td>\n",
       "    </tr>\n",
       "    <tr>\n",
       "      <th>4</th>\n",
       "      <td>0</td>\n",
       "      <td>0</td>\n",
       "      <td>2</td>\n",
       "      <td>5609</td>\n",
       "      <td>2013-01-08</td>\n",
       "      <td>2,381.00</td>\n",
       "      <td>1.00</td>\n",
       "    </tr>\n",
       "  </tbody>\n",
       "</table>\n",
       "</div>"
      ],
      "text/plain": [
       "   date_block_num  shop_id  item_category_id  item_id       date  item_price  \\\n",
       "0               0        0                 2     5572 2013-01-04    1,322.00   \n",
       "1               0        0                 2     5573 2013-01-12      560.00   \n",
       "2               0        0                 2     5575 2013-01-06      806.00   \n",
       "3               0        0                 2     5576 2013-01-28    2,231.00   \n",
       "4               0        0                 2     5609 2013-01-08    2,381.00   \n",
       "\n",
       "   item_cnt_day  \n",
       "0         10.00  \n",
       "1          1.00  \n",
       "2          4.00  \n",
       "3          5.00  \n",
       "4          1.00  "
      ]
     },
     "execution_count": 217,
     "metadata": {},
     "output_type": "execute_result"
    }
   ],
   "source": [
    "agg_dict={'date':'first',\n",
    "          #'month':'last',\n",
    "           #'date_block_num':'first',\n",
    "           #'shop_id':'first',\n",
    "           #'item_id':'first',\n",
    "           'item_price': 'mean',\n",
    "           'item_cnt_day': \"sum\"\n",
    "           \n",
    "          }\n",
    "df_train_m = df_train.groupby(['date_block_num','shop_id', 'item_category_id','item_id']).agg(agg_dict)\n",
    "#df_train_m = df_train_m.drop(columns=['date'])\n",
    "df_train_m.reset_index(inplace=True)\n",
    "df_train_m.head()"
   ]
  },
  {
   "cell_type": "markdown",
   "id": "6062a5c5",
   "metadata": {},
   "source": [
    "### concate df_train_m and df_test into df_all"
   ]
  },
  {
   "cell_type": "code",
   "execution_count": 160,
   "id": "f171ce5a",
   "metadata": {},
   "outputs": [
    {
     "data": {
      "text/plain": [
       "item_id                 0\n",
       "date_block_num          0\n",
       "shop_id                 0\n",
       "item_category_id        0\n",
       "item_price          15246\n",
       "item_cnt_month          0\n",
       "dtype: int64"
      ]
     },
     "execution_count": 160,
     "metadata": {},
     "output_type": "execute_result"
    }
   ],
   "source": [
    "#action\n",
    "\n",
    "#merge df_train and df_test\n",
    "df_all = pd.concat([df_train_m,df_test], axis=0, ignore_index=True)\n",
    "\n",
    "#change column name\n",
    "df_all.rename(columns = {'item_cnt_day':'item_cnt_month'}, inplace = True)\n",
    "\n",
    "#drop column 'ID'\n",
    "df_all.drop(columns=['ID','date'],inplace = True)\n",
    "\n",
    "#fill null value, and convert datatype\n",
    "#df_all['test_ID'] = df_all['test_ID'].fillna(-1).astype(int)\n",
    "df_all['item_cnt_month'] = df_all['item_cnt_month'].fillna(0).astype(int)\n",
    "\n",
    "\n",
    "#fill null values of 'item_price' with last valid price of the same item\n",
    "df_all = pd.concat([\n",
    "                    df_all['item_id'],\n",
    "                    df_all.groupby(['item_id']).fillna(method='ffill')\n",
    "                    ], axis=1)\n",
    "\n",
    "df_all.isnull().sum()"
   ]
  },
  {
   "cell_type": "code",
   "execution_count": 161,
   "id": "8b5688bb",
   "metadata": {},
   "outputs": [
    {
     "name": "stdout",
     "output_type": "stream",
     "text": [
      "[34]\n"
     ]
    }
   ],
   "source": [
    "print(df_all[df_all['item_price'].isnull()==True]['date_block_num'].unique())"
   ]
  },
  {
   "cell_type": "code",
   "execution_count": 162,
   "id": "a335e4b7",
   "metadata": {},
   "outputs": [
    {
     "name": "stdout",
     "output_type": "stream",
     "text": [
      "there are some new arrival items that have no sold record, thus no item_price\n"
     ]
    }
   ],
   "source": [
    "print(\"there are some new arrival items that have no sold record, thus no item_price\")"
   ]
  },
  {
   "cell_type": "code",
   "execution_count": 163,
   "id": "07c62aca",
   "metadata": {},
   "outputs": [
    {
     "name": "stdout",
     "output_type": "stream",
     "text": [
      "printing new arrival item list:\n",
      "363\n",
      "[ 5320  5268  5826  3538  3571  3604  3407  3408  3405  3984  8551  8822\n",
      "  8823  8824  8890 10779  9767  8355  8354  6729  6731  6732  6152  6153\n",
      "  6742  7782  7862  6743  6335 13559 13804 13402 14647 14832 14959  2327\n",
      "  1732  2322  2323  2326  2569  2966 21467 20400 20401 20836  1580  1585\n",
      "  1246  1437  2328  2427  2325  3022  1193  1252  1386  1884  1885  1577\n",
      "  3627  4412  3271  3349 13558 13310 13338 12890 13805 13309 12568 13275\n",
      " 13251 13303 13250 13249 13232 13242 14648 19773 18913 21397 21708 16051\n",
      " 16141 16193 15553  1284  5269  6730  3338  4060 11974  7728  7729  7926\n",
      "  8549  8826  5812  5025  9972 11762  7669 13263 13264  8993  7727 18174\n",
      " 19219  6863 12117 13209 13273 14521  7592  7607  7646  6903  8545  5322\n",
      "  4156  5843 11385 13271 10028 10203 16139 22022  3760  3908   640   639\n",
      "   140   249   428 10507 10045 12469 14784 15665 13745 12802 12961  5844\n",
      "  6996  7730  8191  6734 20403 20560 20378 20878 16976 19155 21828  1864\n",
      " 20680  3282  3579  2324 12468 13284 13231 17858 16097 15330 15566  8676\n",
      "  8825  8821  9344  7647  8182  9537  4642  5248  4318  4310  6259  5963\n",
      "  5961  3354  1253   892 22137  6733  5541  5667 18627 18560 17929 17757\n",
      " 19085 19210 18979  3023 20996 21354 20845 20760 21453 19775 20600 20599\n",
      " 20594 20461 20439 19048 16601 15329 13445 11765   237 21196 21214  3284\n",
      "   762  6519  6521  6522  6523  6524  6525  6526  6527  6528  6529  6530\n",
      "  6520  6532 15034 20837 15564 20486 19966 13295 13313 13394 13257 13047\n",
      " 13846 11946 12409 11267 12591 16095 16096 16099 17030 17117 15667 15586\n",
      " 16498 14383 14739  5064  5441  5321  5121 10069 10054 10176 10310 10747\n",
      " 10483 10372  8337  8850  8957  8968  8969  8760  8722 13447  6533 13392\n",
      "  1254  3273    83 15467 11764 12471 12441  2426  4925  6891  6531  1683\n",
      "  2420 20561   566  6169 20879 19417 14765 14760 14662  1679 13446 15418\n",
      " 19651 20196 20880 20843 20796 16157 19252 12920  9530  9111 13096  6645\n",
      "  6439  5569  5722  5721  7766  7124  7094 16811 16813 15183   480   402\n",
      "   254   204   168  1434  1394  1184   907   900  1436  3867  1575  1574\n",
      "  2428  2722  2434 22035 21829 16675 20577 20535 20476 12574 20677 20863\n",
      " 19973 21975 21974 21953  3272   454   430   302   173 14972 15033  7572\n",
      "  9030  1867 12470]\n",
      "printing categories containing new arrival items\n",
      "39\n",
      "[55 20 65 30 28 42 40 31 23 24 29 61 16 47 19 72 49 37 64  7 56 75 77 45\n",
      " 58 63 70  3 12 25 15  0 67 54 36 76 27 78 44]\n"
     ]
    }
   ],
   "source": [
    "#action: handle new arrival items\n",
    "new_arrival_item_list = df_all[df_all['item_price'].isnull()==True]['item_id'].unique()\n",
    "print(\"printing new arrival item list:\")\n",
    "print(len(new_arrival_item_list))\n",
    "print(new_arrival_item_list)\n",
    "\n",
    "\n",
    "new_arrival_cat_list = df_all[df_all['item_price'].isnull()==True]['item_category_id'].unique()\n",
    "print('printing categories containing new arrival items')\n",
    "print(len(new_arrival_cat_list))\n",
    "print(new_arrival_cat_list)\n",
    "\n",
    "\n",
    "#create new column to reflect the new arrvial items, which don't have price\n",
    "df_all[\"is_new_arrival\"] = np.where(df_all['item_id'].isin(new_arrival_item_list), 1, 0)\n",
    "\n",
    "## set the new arrvial price as 0 first, indicating price not available\n",
    "df_all['item_price'] = df_all['item_price'].fillna(0)"
   ]
  },
  {
   "cell_type": "code",
   "execution_count": null,
   "id": "53a6b4b6",
   "metadata": {},
   "outputs": [],
   "source": []
  },
  {
   "cell_type": "code",
   "execution_count": 164,
   "id": "f33ca9cf",
   "metadata": {},
   "outputs": [
    {
     "data": {
      "text/plain": [
       "item_id             0\n",
       "date_block_num      0\n",
       "shop_id             0\n",
       "item_category_id    0\n",
       "item_price          0\n",
       "item_cnt_month      0\n",
       "is_new_arrival      0\n",
       "dtype: int64"
      ]
     },
     "execution_count": 164,
     "metadata": {},
     "output_type": "execute_result"
    }
   ],
   "source": [
    "df_all.isnull().sum()"
   ]
  },
  {
   "cell_type": "code",
   "execution_count": 165,
   "id": "0ebe1920",
   "metadata": {},
   "outputs": [
    {
     "data": {
      "text/html": [
       "<div>\n",
       "<style scoped>\n",
       "    .dataframe tbody tr th:only-of-type {\n",
       "        vertical-align: middle;\n",
       "    }\n",
       "\n",
       "    .dataframe tbody tr th {\n",
       "        vertical-align: top;\n",
       "    }\n",
       "\n",
       "    .dataframe thead th {\n",
       "        text-align: right;\n",
       "    }\n",
       "</style>\n",
       "<table border=\"1\" class=\"dataframe\">\n",
       "  <thead>\n",
       "    <tr style=\"text-align: right;\">\n",
       "      <th></th>\n",
       "      <th>item_id</th>\n",
       "      <th>date_block_num</th>\n",
       "      <th>shop_id</th>\n",
       "      <th>item_category_id</th>\n",
       "      <th>item_price</th>\n",
       "      <th>item_cnt_month</th>\n",
       "      <th>is_new_arrival</th>\n",
       "    </tr>\n",
       "  </thead>\n",
       "  <tbody>\n",
       "    <tr>\n",
       "      <th>count</th>\n",
       "      <td>1,823,322.00</td>\n",
       "      <td>1,823,322.00</td>\n",
       "      <td>1,823,322.00</td>\n",
       "      <td>1,823,322.00</td>\n",
       "      <td>1,823,322.00</td>\n",
       "      <td>1,823,322.00</td>\n",
       "      <td>1,823,322.00</td>\n",
       "    </tr>\n",
       "    <tr>\n",
       "      <th>mean</th>\n",
       "      <td>10,720.74</td>\n",
       "      <td>16.94</td>\n",
       "      <td>32.67</td>\n",
       "      <td>42.10</td>\n",
       "      <td>806.99</td>\n",
       "      <td>2.00</td>\n",
       "      <td>0.01</td>\n",
       "    </tr>\n",
       "    <tr>\n",
       "      <th>std</th>\n",
       "      <td>6,241.45</td>\n",
       "      <td>10.91</td>\n",
       "      <td>16.66</td>\n",
       "      <td>16.44</td>\n",
       "      <td>1,587.08</td>\n",
       "      <td>7.95</td>\n",
       "      <td>0.09</td>\n",
       "    </tr>\n",
       "    <tr>\n",
       "      <th>min</th>\n",
       "      <td>0.00</td>\n",
       "      <td>0.00</td>\n",
       "      <td>0.00</td>\n",
       "      <td>0.00</td>\n",
       "      <td>0.00</td>\n",
       "      <td>-22.00</td>\n",
       "      <td>0.00</td>\n",
       "    </tr>\n",
       "    <tr>\n",
       "      <th>25%</th>\n",
       "      <td>5,070.00</td>\n",
       "      <td>7.00</td>\n",
       "      <td>20.00</td>\n",
       "      <td>30.00</td>\n",
       "      <td>199.00</td>\n",
       "      <td>1.00</td>\n",
       "      <td>0.00</td>\n",
       "    </tr>\n",
       "    <tr>\n",
       "      <th>50%</th>\n",
       "      <td>10,591.00</td>\n",
       "      <td>16.00</td>\n",
       "      <td>31.00</td>\n",
       "      <td>40.00</td>\n",
       "      <td>399.00</td>\n",
       "      <td>1.00</td>\n",
       "      <td>0.00</td>\n",
       "    </tr>\n",
       "    <tr>\n",
       "      <th>75%</th>\n",
       "      <td>16,063.00</td>\n",
       "      <td>26.00</td>\n",
       "      <td>47.00</td>\n",
       "      <td>55.00</td>\n",
       "      <td>899.00</td>\n",
       "      <td>2.00</td>\n",
       "      <td>0.00</td>\n",
       "    </tr>\n",
       "    <tr>\n",
       "      <th>max</th>\n",
       "      <td>22,169.00</td>\n",
       "      <td>34.00</td>\n",
       "      <td>59.00</td>\n",
       "      <td>83.00</td>\n",
       "      <td>50,999.00</td>\n",
       "      <td>1,644.00</td>\n",
       "      <td>1.00</td>\n",
       "    </tr>\n",
       "  </tbody>\n",
       "</table>\n",
       "</div>"
      ],
      "text/plain": [
       "           item_id  date_block_num      shop_id  item_category_id  \\\n",
       "count 1,823,322.00    1,823,322.00 1,823,322.00      1,823,322.00   \n",
       "mean     10,720.74           16.94        32.67             42.10   \n",
       "std       6,241.45           10.91        16.66             16.44   \n",
       "min           0.00            0.00         0.00              0.00   \n",
       "25%       5,070.00            7.00        20.00             30.00   \n",
       "50%      10,591.00           16.00        31.00             40.00   \n",
       "75%      16,063.00           26.00        47.00             55.00   \n",
       "max      22,169.00           34.00        59.00             83.00   \n",
       "\n",
       "        item_price  item_cnt_month  is_new_arrival  \n",
       "count 1,823,322.00    1,823,322.00    1,823,322.00  \n",
       "mean        806.99            2.00            0.01  \n",
       "std       1,587.08            7.95            0.09  \n",
       "min           0.00          -22.00            0.00  \n",
       "25%         199.00            1.00            0.00  \n",
       "50%         399.00            1.00            0.00  \n",
       "75%         899.00            2.00            0.00  \n",
       "max      50,999.00        1,644.00            1.00  "
      ]
     },
     "execution_count": 165,
     "metadata": {},
     "output_type": "execute_result"
    }
   ],
   "source": [
    "df_all.describe()"
   ]
  },
  {
   "cell_type": "code",
   "execution_count": 166,
   "id": "24fb3c34",
   "metadata": {},
   "outputs": [
    {
     "data": {
      "text/html": [
       "<div>\n",
       "<style scoped>\n",
       "    .dataframe tbody tr th:only-of-type {\n",
       "        vertical-align: middle;\n",
       "    }\n",
       "\n",
       "    .dataframe tbody tr th {\n",
       "        vertical-align: top;\n",
       "    }\n",
       "\n",
       "    .dataframe thead th {\n",
       "        text-align: right;\n",
       "    }\n",
       "</style>\n",
       "<table border=\"1\" class=\"dataframe\">\n",
       "  <thead>\n",
       "    <tr style=\"text-align: right;\">\n",
       "      <th></th>\n",
       "      <th>item_id</th>\n",
       "      <th>date_block_num</th>\n",
       "      <th>shop_id</th>\n",
       "      <th>item_category_id</th>\n",
       "      <th>item_price</th>\n",
       "      <th>item_cnt_month</th>\n",
       "      <th>is_new_arrival</th>\n",
       "    </tr>\n",
       "  </thead>\n",
       "  <tbody>\n",
       "    <tr>\n",
       "      <th>324768</th>\n",
       "      <td>10229</td>\n",
       "      <td>5</td>\n",
       "      <td>31</td>\n",
       "      <td>62</td>\n",
       "      <td>2,199.00</td>\n",
       "      <td>-1</td>\n",
       "      <td>0</td>\n",
       "    </tr>\n",
       "    <tr>\n",
       "      <th>192220</th>\n",
       "      <td>17588</td>\n",
       "      <td>3</td>\n",
       "      <td>12</td>\n",
       "      <td>30</td>\n",
       "      <td>249.00</td>\n",
       "      <td>-1</td>\n",
       "      <td>0</td>\n",
       "    </tr>\n",
       "    <tr>\n",
       "      <th>266194</th>\n",
       "      <td>15711</td>\n",
       "      <td>4</td>\n",
       "      <td>30</td>\n",
       "      <td>37</td>\n",
       "      <td>499.00</td>\n",
       "      <td>-1</td>\n",
       "      <td>0</td>\n",
       "    </tr>\n",
       "    <tr>\n",
       "      <th>1325589</th>\n",
       "      <td>7880</td>\n",
       "      <td>25</td>\n",
       "      <td>37</td>\n",
       "      <td>6</td>\n",
       "      <td>549.00</td>\n",
       "      <td>-1</td>\n",
       "      <td>0</td>\n",
       "    </tr>\n",
       "    <tr>\n",
       "      <th>100897</th>\n",
       "      <td>6664</td>\n",
       "      <td>1</td>\n",
       "      <td>32</td>\n",
       "      <td>14</td>\n",
       "      <td>14,000.00</td>\n",
       "      <td>-1</td>\n",
       "      <td>0</td>\n",
       "    </tr>\n",
       "    <tr>\n",
       "      <th>1142921</th>\n",
       "      <td>10957</td>\n",
       "      <td>21</td>\n",
       "      <td>53</td>\n",
       "      <td>37</td>\n",
       "      <td>199.00</td>\n",
       "      <td>-1</td>\n",
       "      <td>0</td>\n",
       "    </tr>\n",
       "    <tr>\n",
       "      <th>984096</th>\n",
       "      <td>7797</td>\n",
       "      <td>18</td>\n",
       "      <td>18</td>\n",
       "      <td>23</td>\n",
       "      <td>4,899.00</td>\n",
       "      <td>-1</td>\n",
       "      <td>0</td>\n",
       "    </tr>\n",
       "    <tr>\n",
       "      <th>1349319</th>\n",
       "      <td>3344</td>\n",
       "      <td>26</td>\n",
       "      <td>15</td>\n",
       "      <td>24</td>\n",
       "      <td>2,999.00</td>\n",
       "      <td>-1</td>\n",
       "      <td>0</td>\n",
       "    </tr>\n",
       "    <tr>\n",
       "      <th>523847</th>\n",
       "      <td>20648</td>\n",
       "      <td>9</td>\n",
       "      <td>7</td>\n",
       "      <td>72</td>\n",
       "      <td>1,199.00</td>\n",
       "      <td>-1</td>\n",
       "      <td>0</td>\n",
       "    </tr>\n",
       "    <tr>\n",
       "      <th>188148</th>\n",
       "      <td>18978</td>\n",
       "      <td>3</td>\n",
       "      <td>4</td>\n",
       "      <td>40</td>\n",
       "      <td>149.00</td>\n",
       "      <td>-1</td>\n",
       "      <td>0</td>\n",
       "    </tr>\n",
       "  </tbody>\n",
       "</table>\n",
       "</div>"
      ],
      "text/plain": [
       "         item_id  date_block_num  shop_id  item_category_id  item_price  \\\n",
       "324768     10229               5       31                62    2,199.00   \n",
       "192220     17588               3       12                30      249.00   \n",
       "266194     15711               4       30                37      499.00   \n",
       "1325589     7880              25       37                 6      549.00   \n",
       "100897      6664               1       32                14   14,000.00   \n",
       "1142921    10957              21       53                37      199.00   \n",
       "984096      7797              18       18                23    4,899.00   \n",
       "1349319     3344              26       15                24    2,999.00   \n",
       "523847     20648               9        7                72    1,199.00   \n",
       "188148     18978               3        4                40      149.00   \n",
       "\n",
       "         item_cnt_month  is_new_arrival  \n",
       "324768               -1               0  \n",
       "192220               -1               0  \n",
       "266194               -1               0  \n",
       "1325589              -1               0  \n",
       "100897               -1               0  \n",
       "1142921              -1               0  \n",
       "984096               -1               0  \n",
       "1349319              -1               0  \n",
       "523847               -1               0  \n",
       "188148               -1               0  "
      ]
     },
     "execution_count": 166,
     "metadata": {},
     "output_type": "execute_result"
    }
   ],
   "source": [
    "df_all[df_all['item_cnt_month']<0].sample(10)"
   ]
  },
  {
   "cell_type": "markdown",
   "id": "ee339ba9",
   "metadata": {},
   "source": [
    "### plot monthly sales for each shop"
   ]
  },
  {
   "cell_type": "code",
   "execution_count": null,
   "id": "75907491",
   "metadata": {},
   "outputs": [],
   "source": [
    "#plot monthly sales for each shop\n",
    "\n",
    "df_groupby = df_all.groupby('shop_id')\n",
    "shop_name_list=df_shops['shop_name'].tolist()\n",
    "\n",
    "\n",
    "x_ticks=[4*x for x in range(9)] + [34]\n",
    "columns_in_a_row=4    \n",
    "max_length = 60\n",
    "i=0\n",
    "while i < max_length:\n",
    "    fig, axs = plt.subplots(1, columns_in_a_row,constrained_layout=True, figsize=(12,3), sharey=True, sharex=True)\n",
    "    for j in range(columns_in_a_row):\n",
    "            if i+j < max_length:\n",
    "                df = df_groupby.get_group(i+j).groupby('date_block_num').agg({'item_cnt_month':'sum'})\n",
    "                sns.scatterplot(data=df,x='date_block_num' ,y='item_cnt_month', ax=axs[j])\n",
    "                \n",
    "                #set x-axis\n",
    "                axs[j].set_xticks(x_ticks)\n",
    "                axs[j].set_xlim([0, 35])\n",
    "            \n",
    "                #plot month 34, which is the month we need to predict\n",
    "                axs[j].axvline(34, linewidth=2, ls='dashed', c='red')\n",
    "            \n",
    "                #print the shope name\n",
    "                axs[j].set_title(\"\\n\".join(wrap(f'shop_id:{i+j}, {shop_name_list[i+j]}', 30)))\n",
    "           \n",
    "    i +=columns_in_a_row\n",
    "    \n",
    "plt.show()"
   ]
  },
  {
   "cell_type": "markdown",
   "id": "a26b13d6",
   "metadata": {},
   "source": [
    "**Observations**\n",
    "- many shops seemed closed after running some months\n",
    "- stable monthly sales in some shops \n",
    "- downtrend monthly sales in many shops\n",
    "- uptrend monthly sales in 2 online shops\n",
    "- not all shops in test data\n",
    "- shop_id: 0 and 57 seem the same shop\n",
    "- shop_id: 1 and 58 seem the same shop\n",
    "- shop_id: 10 and 11 seem the same shop\n",
    "- we will merge those shop together later"
   ]
  },
  {
   "cell_type": "markdown",
   "id": "d17d9371",
   "metadata": {},
   "source": [
    "#### merge shop_id 0 and 57,  1 and 58, 10 and 11"
   ]
  },
  {
   "cell_type": "code",
   "execution_count": 168,
   "id": "be5fb09b",
   "metadata": {},
   "outputs": [],
   "source": [
    "df_all.loc[df_all.shop_id == 0, 'shop_id'] = 57\n",
    "df_all.loc[df_all.shop_id == 1, 'shop_id'] = 58\n",
    "df_all.loc[df_all.shop_id == 11, 'shop_id'] = 10"
   ]
  },
  {
   "cell_type": "code",
   "execution_count": null,
   "id": "25b1761d",
   "metadata": {},
   "outputs": [],
   "source": []
  },
  {
   "cell_type": "markdown",
   "id": "2e236943",
   "metadata": {},
   "source": [
    "### Plot monthly sales for each category"
   ]
  },
  {
   "cell_type": "code",
   "execution_count": null,
   "id": "7310c2ea",
   "metadata": {},
   "outputs": [],
   "source": [
    "#plot monthly sales for each category\n",
    "\n",
    "print('ploting monthly sales for each category')\n",
    "df_groupby = df_all.groupby('item_category_id')\n",
    "cat_name_list=df_cat['item_category_name'].tolist()\n",
    "\n",
    "\n",
    "x_ticks=[4*x for x in range(9)] + [34]\n",
    "columns_in_a_row=4    \n",
    "max_length = 84\n",
    "i=0\n",
    "while i < max_length:\n",
    "    fig, axs = plt.subplots(1, columns_in_a_row,constrained_layout=True, figsize=(12,3), sharey=True, sharex=True)\n",
    "    for j in range(columns_in_a_row):\n",
    "            if i+j < max_length:\n",
    "                df = df_groupby.get_group(i+j).groupby('date_block_num').agg({'item_cnt_month':'sum'})\n",
    "                sns.scatterplot(data=df,x='date_block_num' ,y='item_cnt_month', ax=axs[j])\n",
    "                \n",
    "                #set x-axis\n",
    "                axs[j].set_xticks(x_ticks)\n",
    "                axs[j].set_xlim([0, 35])\n",
    "               \n",
    "                #plot month 34, which is the month we need to predict\n",
    "                axs[j].axvline(34, linewidth=2, ls='dashed', c='red')\n",
    "                \n",
    "                #print the shope name\n",
    "                axs[j].set_title(\"\\n\".join(wrap(f'category {i+j}: {cat_name_list[i+j]}', 30)))\n",
    "           \n",
    "    i +=columns_in_a_row\n",
    "    \n",
    "plt.show()"
   ]
  },
  {
   "cell_type": "markdown",
   "id": "ee4cbe02",
   "metadata": {},
   "source": [
    "**Observations**\n",
    "- Different trends occur in different categories.\n",
    "- Seasonality are obvious in some categories\n",
    "- Many categories are no longer for sale, which will be not considered in modelling\n",
    "- not every category was available in every shop\n",
    "- the sales of each category varid dramatically"
   ]
  },
  {
   "cell_type": "markdown",
   "id": "5cd5b4c6",
   "metadata": {},
   "source": [
    "### EDA the shops and categories shown in df_test"
   ]
  },
  {
   "cell_type": "code",
   "execution_count": 172,
   "id": "48b3b82c",
   "metadata": {},
   "outputs": [
    {
     "name": "stdout",
     "output_type": "stream",
     "text": [
      "Number of shops:  42\n",
      "[2, 3, 4, 5, 6, 7, 10, 12, 14, 15, 16, 18, 19, 21, 22, 24, 25, 26, 28, 31, 34, 35, 36, 37, 38, 39, 41, 42, 44, 45, 46, 47, 48, 49, 50, 52, 53, 55, 56, 57, 58, 59]\n"
     ]
    }
   ],
   "source": [
    "print(\"Number of shops: \", len(test_shop_list))\n",
    "print(test_shop_list)"
   ]
  },
  {
   "cell_type": "code",
   "execution_count": 173,
   "id": "bc14253c",
   "metadata": {},
   "outputs": [
    {
     "name": "stdout",
     "output_type": "stream",
     "text": [
      "Number of categories:  62\n",
      "[0, 2, 3, 5, 6, 7, 9, 11, 12, 15, 16, 19, 20, 21, 22, 23, 24, 25, 26, 27, 28, 29, 30, 31, 33, 34, 35, 36, 37, 38, 40, 41, 42, 43, 44, 45, 47, 49, 54, 55, 56, 57, 58, 60, 61, 62, 63, 64, 65, 67, 69, 70, 71, 72, 73, 74, 75, 76, 77, 78, 79, 83]\n"
     ]
    }
   ],
   "source": [
    "print(\"Number of categories: \", len(test_cat_list))\n",
    "print(test_cat_list)"
   ]
  },
  {
   "cell_type": "code",
   "execution_count": 174,
   "id": "8ed1020f",
   "metadata": {},
   "outputs": [
    {
     "name": "stderr",
     "output_type": "stream",
     "text": [
      "C:\\Users\\olive\\AppData\\Local\\Temp\\ipykernel_4532\\1454098964.py:6: SettingWithCopyWarning: \n",
      "A value is trying to be set on a copy of a slice from a DataFrame\n",
      "\n",
      "See the caveats in the documentation: https://pandas.pydata.org/pandas-docs/stable/user_guide/indexing.html#returning-a-view-versus-a-copy\n",
      "  df_all_filtered.sort_values(by=['date_block_num','shop_id','item_category_id'], inplace=True)\n"
     ]
    }
   ],
   "source": [
    "#action\n",
    "df_all_filtered = df_all[df_all['shop_id'].isin(test_shop_list) & \n",
    "                         df_all['item_category_id'].isin(test_cat_list) &\n",
    "                         df_all['item_id'].isin(test_item_list)\n",
    "                        ]\n",
    "df_all_filtered.sort_values(by=['date_block_num','shop_id','item_category_id'], inplace=True)"
   ]
  },
  {
   "cell_type": "code",
   "execution_count": null,
   "id": "05fd8a01",
   "metadata": {},
   "outputs": [],
   "source": [
    "#plot monthly sales for each shops shown in df_test\n",
    "print('ploting monthly sales for each shops shown in df_test')\n",
    "df_groupby = df_all_filtered \n",
    "shop_name_list=df_shops.loc[df_shops['shop_id'].isin(test_shop_list),'shop_name'].tolist()\n",
    "\n",
    "\n",
    "x_ticks=[4*x for x in range(9)] + [34]\n",
    "columns_in_a_row=4    \n",
    "max_length = len(test_shop_list)\n",
    "i=0\n",
    "while i < max_length:\n",
    "    fig, axs = plt.subplots(1, columns_in_a_row,constrained_layout=True, figsize=(12,3), sharey=True, sharex=True)\n",
    "    for j in range(columns_in_a_row):\n",
    "            if i+j < max_length:\n",
    "                df = df_groupby[df_all_filtered['shop_id']==test_shop_list[i+j]]\n",
    "                df = df.groupby('date_block_num').agg({'item_cnt_month':'sum'})\n",
    "                sns.scatterplot(data=df,x='date_block_num' ,y='item_cnt_month', ax=axs[j])\n",
    "                \n",
    "                #set x-axis\n",
    "                axs[j].set_xticks(x_ticks)\n",
    "                axs[j].set_xlim([0, 35])\n",
    "                \n",
    "                #plot month 34, which is the month we need to predict\n",
    "                axs[j].axvline(34, linewidth=2, ls='dashed', c='red')\n",
    "               \n",
    "                #print the shope name\n",
    "                axs[j].set_title(\"\\n\".join(wrap(f'shop_id:{test_shop_list[i+j]}, {shop_name_list[i+j]}', 30)))\n",
    "           \n",
    "    i +=columns_in_a_row\n",
    "    \n",
    "plt.show()"
   ]
  },
  {
   "cell_type": "markdown",
   "id": "53d2223c",
   "metadata": {},
   "source": [
    "**observations**\n",
    "- all shops shown in test data seems to be the ones still operating"
   ]
  },
  {
   "cell_type": "code",
   "execution_count": null,
   "id": "073c6719",
   "metadata": {},
   "outputs": [],
   "source": [
    "#plot monthly sales for each category\n",
    "\n",
    "print('ploting monthly sales for each category shown in df_test')\n",
    "df_groupby = df_all_filtered \n",
    "#shop_name_list=df_shops.loc[df_shops['shop_id'].isin(test_shop_list),'shop_name'].tolist()\n",
    "\n",
    "\n",
    "x_ticks=[4*x for x in range(9)] + [34]\n",
    "columns_in_a_row=4    \n",
    "max_length = len(test_cat_list)\n",
    "i=0\n",
    "while i < max_length:\n",
    "    fig, axs = plt.subplots(1, columns_in_a_row,constrained_layout=True, figsize=(12,3), sharey=True, sharex=True)\n",
    "    for j in range(columns_in_a_row):\n",
    "            if i+j < max_length:\n",
    "                df = df_groupby[df_all_filtered['item_category_id']==test_cat_list[i+j]]\n",
    "                df = df.groupby('date_block_num').agg({'item_cnt_month':'sum'})\n",
    "                sns.scatterplot(data=df,x='date_block_num' ,y='item_cnt_month', ax=axs[j])\n",
    "                \n",
    "                #set x-axis\n",
    "                axs[j].set_xticks(x_ticks)\n",
    "                axs[j].set_xlim([0, 35])\n",
    "                \n",
    "                #plot month 34, which is the month we need to predict\n",
    "                axs[j].axvline(34, linewidth=2, ls='dashed', c='red')\n",
    "               \n",
    "                #print the shope name\n",
    "                axs[j].set_title(\"\\n\".join(wrap(f'category {i+j}: {cat_name_list[i+j]}', 30)))\n",
    "           \n",
    "           \n",
    "    i +=columns_in_a_row\n",
    "    \n",
    "plt.show()"
   ]
  },
  {
   "cell_type": "code",
   "execution_count": null,
   "id": "672bcad3",
   "metadata": {},
   "outputs": [],
   "source": [
    "#plot category sales for each shops shown in df_test\n",
    "\n",
    "df_groupby = df_all_filtered \n",
    "shop_name_list=df_shops.loc[df_shops['shop_id'].isin(test_shop_list),'shop_name'].tolist()\n",
    "\n",
    "\n",
    "\n",
    "x_ticks=[5*x for x in range(len(cat_name_list)//5+2)]\n",
    "columns_in_a_row=4    \n",
    "max_length = len(test_shop_list)\n",
    "i=0\n",
    "while i < max_length:\n",
    "    fig, axs = plt.subplots(1, columns_in_a_row,constrained_layout=True, figsize=(12,3), sharey=True, sharex=True)\n",
    "    for j in range(columns_in_a_row):\n",
    "            if i+j < max_length:\n",
    "                df = df_groupby[df_all_filtered['shop_id']==test_shop_list[i+j]]\n",
    "                df = df.groupby('item_category_id').agg({'item_cnt_month':'sum'})\n",
    "                sns.scatterplot(data=df,x='item_category_id' ,y='item_cnt_month', ax=axs[j])\n",
    "                \n",
    "                #set x-axis\n",
    "                axs[j].set_xticks(x_ticks)\n",
    "                axs[j].set_xlim([0, len(cat_name_list)+1])\n",
    "               \n",
    "                #print the shope name\n",
    "                axs[j].set_title(\"\\n\".join(wrap(f'shop_id:{test_shop_list[i+j]}, {shop_name_list[i+j]}', 30)))\n",
    "           \n",
    "    i +=columns_in_a_row\n",
    "    \n",
    "plt.show()"
   ]
  },
  {
   "cell_type": "markdown",
   "id": "e6d04750",
   "metadata": {},
   "source": [
    "**Observations**\n",
    "- Most categories have low transaction\n",
    "- Sales of different categories at different shops varied dramatically"
   ]
  },
  {
   "cell_type": "markdown",
   "id": "712d7514",
   "metadata": {},
   "source": [
    "# Pickle"
   ]
  },
  {
   "cell_type": "code",
   "execution_count": null,
   "id": "b015d21f",
   "metadata": {},
   "outputs": [],
   "source": []
  },
  {
   "cell_type": "code",
   "execution_count": 189,
   "id": "30fd8a8d",
   "metadata": {},
   "outputs": [],
   "source": [
    "\n",
    "#save neccessary object to pickle_dict, which will be pickled in other notebook for feature engineering and modeling\n",
    "#\n",
    "pickle_dict1 = dict()\n",
    "pickle_dict1['df_all']=df_all_filtered   #concat df_train_m and df_test\n",
    "pickle_dict1['df_train']=df_train\n",
    "pickle_dict1['df_test']=df_test\n",
    "pickle_dict1['df_items']=df_items\n",
    "pickle_dict1['df_shops']=df_shops\n",
    "pickle_dict1['df_cat']=df_cat\n",
    "pickle_dict1['new_arrival_item_list'] = new_arrival_item_list\n",
    "\n",
    "\n",
    "pickle.dump(pickle_dict1, open('../temp/data1.pkl', 'wb'))\n",
    "\n"
   ]
  },
  {
   "cell_type": "code",
   "execution_count": null,
   "id": "4e4d554f",
   "metadata": {},
   "outputs": [],
   "source": []
  },
  {
   "cell_type": "code",
   "execution_count": null,
   "id": "4b8bf4f2",
   "metadata": {},
   "outputs": [],
   "source": []
  },
  {
   "cell_type": "markdown",
   "id": "42692357",
   "metadata": {},
   "source": [
    "# Create datagrid for better modelling\n",
    "- For every month we create a grid from all shops/items combinations from that month"
   ]
  },
  {
   "cell_type": "markdown",
   "id": "58e72ce3",
   "metadata": {},
   "source": [
    "## import data from pickle file"
   ]
  },
  {
   "cell_type": "code",
   "execution_count": 190,
   "id": "65180e9e",
   "metadata": {},
   "outputs": [],
   "source": [
    "#read pickle_dict, which store everything\n",
    "pickle_dict1 = pickle.load(open('../temp/data1.pkl', 'rb'))\n",
    "df_all = pickle_dict1['df_all']   #concat df_train_m and df_test\n",
    "df_train = pickle_dict1['df_train']\n",
    "df_test = pickle_dict1['df_test']\n",
    "df_items = pickle_dict1['df_items']\n",
    "df_shops = pickle_dict1['df_shops']\n",
    "df_cat = pickle_dict1['df_cat']\n",
    "new_arrival_item_list = pickle_dict1['new_arrival_item_list']"
   ]
  },
  {
   "cell_type": "markdown",
   "id": "80f2827c",
   "metadata": {},
   "source": [
    "### create plain grid and merge df_all --> df_grid2"
   ]
  },
  {
   "cell_type": "code",
   "execution_count": 191,
   "id": "5319585a",
   "metadata": {},
   "outputs": [],
   "source": [
    "#https://www.kaggle.com/code/szhou42/predict-future-sales-top-11-solution/notebook\n",
    "# For every month we create a grid from all shops/items combinations from that month\n",
    "grid = []\n",
    "for block_num in df_all['date_block_num'].unique():\n",
    "    cur_shops = df_all[df_all['date_block_num']==block_num]['shop_id'].unique()\n",
    "    cur_items = df_all[df_all['date_block_num']==block_num]['item_id'].unique()\n",
    "    grid.append(np.array(list(product(*[cur_shops, cur_items, [block_num]])),dtype='int32'))\n",
    "index_cols = ['shop_id', 'item_id', 'date_block_num']\n",
    "\n",
    "#plain grid dataframe\n",
    "df_grid1 = pd.DataFrame(np.vstack(grid), columns = index_cols,dtype=np.int32)\n"
   ]
  },
  {
   "cell_type": "code",
   "execution_count": 192,
   "id": "4f933252",
   "metadata": {},
   "outputs": [
    {
     "name": "stdout",
     "output_type": "stream",
     "text": [
      "how many shops:  42\n",
      "how many items:  5100\n",
      "how many categories:  63\n",
      "<class 'pandas.core.frame.DataFrame'>\n",
      "Int64Index: 2953005 entries, 0 to 2953004\n",
      "Data columns (total 7 columns):\n",
      " #   Column            Dtype  \n",
      "---  ------            -----  \n",
      " 0   shop_id           int32  \n",
      " 1   item_id           int32  \n",
      " 2   date_block_num    int32  \n",
      " 3   item_category_id  float64\n",
      " 4   item_price        float64\n",
      " 5   item_cnt_month    float64\n",
      " 6   is_new_arrival    float64\n",
      "dtypes: float64(4), int32(3)\n",
      "memory usage: 146.4 MB\n"
     ]
    }
   ],
   "source": [
    "\n",
    "#merge df_all to df_grid1\n",
    "df_grid2 = pd.merge(df_grid1,df_all,how='left',on=index_cols)\n",
    "\n",
    "shop_list = df_grid2['shop_id'].unique()\n",
    "print(\"how many shops: \", len(shop_list))\n",
    "\n",
    "item_list = df_grid2['item_id'].unique()\n",
    "print(\"how many items: \", len(item_list))\n",
    "\n",
    "cat_list = df_grid2['item_category_id'].unique()\n",
    "print(\"how many categories: \", len(cat_list))\n",
    "\n",
    "df_grid2.info()"
   ]
  },
  {
   "cell_type": "markdown",
   "id": "debe0527",
   "metadata": {},
   "source": [
    "### df_grid2: handle null value, drop columns --> df_grid3\n",
    "- clip 'item_cnt_month' to [0, 20]"
   ]
  },
  {
   "cell_type": "code",
   "execution_count": 193,
   "id": "4cac6da5",
   "metadata": {},
   "outputs": [],
   "source": [
    "#handle null value\n",
    "df_grid2['item_cnt_month'] = df_grid2['item_cnt_month'].fillna(0).astype(int)\n",
    "df_grid2['item_price'] = df_grid2['item_price'].fillna(0)\n",
    "df_grid2['is_new_arrival'] = np.where(df_grid2['item_id'].isin(new_arrival_item_list), 1, 0) \n",
    "\n",
    "\n",
    "#clip 'item_cnt_month' \n",
    "df_grid2['item_cnt_month'] = df_grid2['item_cnt_month'].clip(0, 20)\n",
    "\n",
    "#drop this column\n",
    "df_grid3=df_grid2.drop(columns=['item_category_id'])\n"
   ]
  },
  {
   "cell_type": "code",
   "execution_count": null,
   "id": "52b907f4",
   "metadata": {},
   "outputs": [],
   "source": []
  },
  {
   "cell_type": "code",
   "execution_count": 194,
   "id": "1a4bf7bc",
   "metadata": {},
   "outputs": [
    {
     "data": {
      "text/plain": [
       "array(['2013-01-01T00:00:00.000000000', '2013-02-01T00:00:00.000000000',\n",
       "       '2013-03-01T00:00:00.000000000', '2013-04-01T00:00:00.000000000',\n",
       "       '2013-05-01T00:00:00.000000000', '2013-06-01T00:00:00.000000000',\n",
       "       '2013-07-01T00:00:00.000000000', '2013-08-01T00:00:00.000000000',\n",
       "       '2013-09-01T00:00:00.000000000', '2013-10-01T00:00:00.000000000',\n",
       "       '2013-11-01T00:00:00.000000000', '2013-12-01T00:00:00.000000000',\n",
       "       '2014-01-01T00:00:00.000000000', '2014-02-01T00:00:00.000000000',\n",
       "       '2014-03-01T00:00:00.000000000', '2014-04-01T00:00:00.000000000',\n",
       "       '2014-05-01T00:00:00.000000000', '2014-06-01T00:00:00.000000000',\n",
       "       '2014-07-01T00:00:00.000000000', '2014-08-01T00:00:00.000000000',\n",
       "       '2014-09-01T00:00:00.000000000', '2014-10-01T00:00:00.000000000',\n",
       "       '2014-11-01T00:00:00.000000000', '2014-12-01T00:00:00.000000000',\n",
       "       '2015-01-01T00:00:00.000000000', '2015-02-01T00:00:00.000000000',\n",
       "       '2015-03-01T00:00:00.000000000', '2015-04-01T00:00:00.000000000',\n",
       "       '2015-05-01T00:00:00.000000000', '2015-06-01T00:00:00.000000000',\n",
       "       '2015-07-01T00:00:00.000000000', '2015-08-01T00:00:00.000000000',\n",
       "       '2015-09-01T00:00:00.000000000', '2015-10-01T00:00:00.000000000',\n",
       "       '2015-11-01T00:00:00.000000000'], dtype='datetime64[ns]')"
      ]
     },
     "execution_count": 194,
     "metadata": {},
     "output_type": "execute_result"
    }
   ],
   "source": [
    "\n",
    "#create new column\n",
    "df_grid3[\"month\"] = ((df_grid3[\"date_block_num\"]+1)%12).astype(int)\n",
    "df_grid3['year'] = ((df_grid3[\"date_block_num\"]+1)//12 + 2013).astype(int)\n",
    "df_grid3['year'] = np.where(df_grid3['month']==0, df_grid3['year']-1,df_grid3['year'] )\n",
    "df_grid3['month'] = np.where(df_grid3['month']==0, 12,df_grid3['month'] )\n",
    "\n",
    "#create 'year_month'\n",
    "df_grid3['year_month'] = df_grid3.apply(lambda x:f\"{int(x.year)}-{int(x.month)}\",axis=1).apply(pd.to_datetime)\n",
    "df_grid3['year_month'].unique()\n"
   ]
  },
  {
   "cell_type": "markdown",
   "id": "920def84",
   "metadata": {},
   "source": [
    "### df_grid3: add 'item_category_id'  =>df_basegrid (final grid where we will do feature engineering and modelling)"
   ]
  },
  {
   "cell_type": "code",
   "execution_count": 195,
   "id": "5f12e425",
   "metadata": {},
   "outputs": [],
   "source": [
    "df_basegrid = pd.merge(df_grid3,df_items[['item_id','item_category_id']],how='left',on='item_id')\n"
   ]
  },
  {
   "cell_type": "markdown",
   "id": "11f4eb57",
   "metadata": {},
   "source": [
    "# pickle"
   ]
  },
  {
   "cell_type": "code",
   "execution_count": 196,
   "id": "1883d655",
   "metadata": {},
   "outputs": [],
   "source": [
    "#save neccessary object to pickle_dict, which will be pickled in other notebook for feature engineering and modeling\n",
    "#\n",
    "pickle_dict2 = dict()\n",
    "pickle_dict2['df_basegrid']=df_basegrid   #concat df_train_m and df_test\n",
    "pickle.dump(pickle_dict2, open('../temp/data2.pkl', 'wb'))\n",
    "\n"
   ]
  },
  {
   "cell_type": "code",
   "execution_count": null,
   "id": "a6f70d5f",
   "metadata": {},
   "outputs": [],
   "source": []
  }
 ],
 "metadata": {
  "kernelspec": {
   "display_name": "Python 3 (ipykernel)",
   "language": "python",
   "name": "python3"
  },
  "language_info": {
   "codemirror_mode": {
    "name": "ipython",
    "version": 3
   },
   "file_extension": ".py",
   "mimetype": "text/x-python",
   "name": "python",
   "nbconvert_exporter": "python",
   "pygments_lexer": "ipython3",
   "version": "3.9.13"
  }
 },
 "nbformat": 4,
 "nbformat_minor": 5
}
