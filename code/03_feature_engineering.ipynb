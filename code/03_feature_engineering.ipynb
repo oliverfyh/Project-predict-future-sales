{
 "cells": [
  {
   "cell_type": "code",
   "execution_count": 1,
   "id": "7de4d523",
   "metadata": {},
   "outputs": [],
   "source": [
    "import numpy as np\n",
    "import pandas as pd\n",
    "import seaborn as sns\n",
    "\n",
    "\n",
    "import matplotlib\n",
    "from matplotlib import pyplot as plt\n",
    "from textwrap import wrap\n",
    "\n",
    "\n",
    "pd.options.display.float_format = '{:,.2f}'.format\n",
    "pd.options.display.max_columns = None\n",
    "pd.options.display.max_rows = None\n",
    "pd.set_option('display.max_colwidth', None)\n",
    "\n",
    "import pickle\n",
    "import time\n",
    "\n",
    "import lightgbm as lgb\n",
    "import xgboost as xgb\n",
    "\n",
    "from itertools import product\n",
    "\n",
    "#import googletrans\n",
    "#from googletrans import Translator\n",
    "#to avoid instantiate too many translator, we created one instance for the whole notebook\n",
    "#translator = Translator()\n",
    "\n",
    "random_key=42\n",
    "\n",
    "import lightgbm as lgb\n",
    "\n",
    "from sklearn import metrics\n",
    "from sklearn.metrics import mean_squared_error\n",
    "from sklearn.metrics import confusion_matrix, plot_confusion_matrix, ConfusionMatrixDisplay, RocCurveDisplay, PrecisionRecallDisplay\n",
    "\n",
    "#from sklearn.ensemble import RandomForestClassifier, GradientBoostingClassifier\n",
    "\n",
    "from sklearn.model_selection import GridSearchCV\n",
    "#from sklearn.dummy import DummyClassifier\n",
    "\n",
    "from imblearn.pipeline import Pipeline \n",
    "\n",
    "from sklearn.ensemble import RandomForestClassifier\n",
    "\n"
   ]
  },
  {
   "cell_type": "code",
   "execution_count": null,
   "id": "31f3525f",
   "metadata": {},
   "outputs": [],
   "source": []
  },
  {
   "cell_type": "code",
   "execution_count": null,
   "id": "221b7ab6",
   "metadata": {},
   "outputs": [],
   "source": []
  },
  {
   "cell_type": "code",
   "execution_count": null,
   "id": "40eef1eb",
   "metadata": {},
   "outputs": [],
   "source": []
  },
  {
   "cell_type": "code",
   "execution_count": null,
   "id": "18a0a726",
   "metadata": {},
   "outputs": [],
   "source": []
  },
  {
   "cell_type": "code",
   "execution_count": 2,
   "id": "71cb752a",
   "metadata": {},
   "outputs": [],
   "source": [
    "# The function will:\n",
    "# 1. run the input GridSearchCV\n",
    "# 2. compute and compare the roc_auc_score, F1 score for training data and testing data\n",
    "# 3. get and print the confusion matrix\n",
    "# 4. plot the confusion matrix and P-R curve\n",
    "# 5. plot feature importance list\n",
    "\n",
    "def run_model(gs, model_name, X_train, y_train, X_test, y_test):\n",
    "    \n",
    "    # run the input GridSearchCV\n",
    "    gs.fit(X_train, y_train)\n",
    "    \n",
    "    # print(gs.best_params_)\n",
    "    if isinstance(gs, GridSearchCV):\n",
    "        print(\"best_params: \")\n",
    "        for (item, value) in gs.best_params_.items():\n",
    "            print('   ',item, ' : ', value)\n",
    "    \n",
    "    #compute and compare the auc_score for training data and testing data\n",
    "    train_auc_score = gs.score(X_train, y_train)\n",
    "    test_auc_score = gs.score(X_test, y_test)\n",
    "    auc_perc_diff = np.abs(test_auc_score/train_auc_score*100-100)\n",
    "    \n",
    "    print(f'\\nprecision_recall_auc_score on training set: {train_auc_score:.3f}')\n",
    "    print(f'precision_recall_auc_score on testing set: {test_auc_score:.3f}')\n",
    "    print(f'perc_diff: {auc_perc_diff:.1f} %\\n')\n",
    "    \n",
    "    # Get predictions\n",
    "    y_train_preds = gs.predict(X_train) \n",
    "    y_test_preds = gs.predict(X_test)\n",
    "    \n",
    "    # calculate the F1_score\n",
    "    train_f1_score =  f1_score(y_train, y_train_preds)\n",
    "    test_f1_score = f1_score(y_test, y_test_preds)\n",
    "    f1_perc_diff = np.abs(test_f1_score/train_f1_score*100-100)\n",
    "    print(f'f1_score on training set: {train_f1_score:.3f}')\n",
    "    print(f'f1_score on testing set: {test_f1_score:.3f}')\n",
    "    print(f'perc_diff: {f1_perc_diff:.1f} %\\n')\n",
    "    \n",
    "    # Save confusion matrix values\n",
    "    print(\"Confusion Matrix: \")\n",
    "    cm = confusion_matrix(y_test, y_test_preds)\n",
    "    cm_df = pd.DataFrame(cm, columns=['pred No virus', 'pred WnvPresent'], \n",
    "                         index=['actual No virus', 'actual WnvPresent'])\n",
    "    print(cm_df.head())                 \n",
    "\n",
    "    print(\"\\n Plot Confusion Matrix and PR-AUC curve\")\n",
    "    fig, (ax1, ax2) = plt.subplots(1, 2, constrained_layout=True, figsize=[15,6])\n",
    "    \n",
    "    font = {'weight' : 'bold',\n",
    "            'size'   : 16}\n",
    "    plt.rc('font', **font)\n",
    "    \n",
    "    # View confusion matrix\n",
    "    ConfusionMatrixDisplay.from_estimator(gs, X_test, y_test, ax=ax1)\n",
    "    ax1.set_title(\"Confusion Matrix\")\n",
    "    \n",
    "    # plot Precision-Recall curve\n",
    "    PrecisionRecallDisplay.from_estimator(gs, X_test, y_test, ax=ax2)\n",
    "    ax2.set_xticks(np.arange(0, 1, 20))\n",
    "    ax2.set_title(\"Precision-Recall Curve\")\n",
    "    ax2.legend(loc='upper right', fontsize=14)\n",
    "\n",
    "    # only plot the important feature list if the model is instance of (gridsearchcv)\n",
    "    if isinstance(gs,GridSearchCV):\n",
    "        # plot featureimportances\n",
    "        model = gs.best_estimator_.named_steps[\"classifier\"]\n",
    "        importances = model.feature_importances_\n",
    "        indices = np.argsort(importances)\n",
    "        fig,ax=plt.subplots(1,figsize=(10,24))\n",
    "        features = X_train.columns\n",
    "        plt.title('Feature Importance')\n",
    "        ax.barh(range(len(indices)), importances[indices], color='b', align='center')\n",
    "        plt.yticks(range(len(indices)), [features[i] for i in indices])\n",
    "        plt.xlabel('Relative Importance')\n",
    "        plt.show()\n",
    "    \n",
    "    return pd.DataFrame({'Precision Recall AUC Train': train_auc_score,\n",
    "                         'Precision Recall AUC Test': test_auc_score,\n",
    "                         'Precision Recall AUC Generalization %': auc_perc_diff,\n",
    "                         'F1 Score Train': train_f1_score,\n",
    "                         'F1 Score Test': test_f1_score,\n",
    "                         'F1 Score Generalization %' : f1_perc_diff\n",
    "                        }, index=[model_name])"
   ]
  },
  {
   "cell_type": "markdown",
   "id": "8ff70443",
   "metadata": {},
   "source": [
    "# import data from pickle file"
   ]
  },
  {
   "cell_type": "code",
   "execution_count": 3,
   "id": "7047642f",
   "metadata": {},
   "outputs": [],
   "source": [
    "#read pickle_dict, which store everything\n",
    "\n",
    "pickle_dict1 = pickle.load(open('../temp/data1.pkl', 'rb'))\n",
    "df_all = pickle_dict1['df_all']   #concat df_train_m and df_test\n",
    "df_train = pickle_dict1['df_train']\n",
    "df_test = pickle_dict1['df_test']\n",
    "df_items = pickle_dict1['df_items']\n",
    "df_shops = pickle_dict1['df_shops']\n",
    "df_cat = pickle_dict1['df_cat']\n",
    "new_arrival_item_list = pickle_dict1['new_arrival_item_list']\n",
    "\n",
    "\n",
    "pickle_dict2 = pickle.load(open('../temp/data2.pkl', 'rb'))\n",
    "df_basegrid = pickle_dict2['df_basegrid']   #concat df_train_m and df_test\n"
   ]
  },
  {
   "cell_type": "code",
   "execution_count": null,
   "id": "25316011",
   "metadata": {},
   "outputs": [],
   "source": []
  },
  {
   "cell_type": "code",
   "execution_count": 4,
   "id": "055a6e17",
   "metadata": {},
   "outputs": [
    {
     "data": {
      "text/plain": [
       "(2946018, 10)"
      ]
     },
     "execution_count": 4,
     "metadata": {},
     "output_type": "execute_result"
    }
   ],
   "source": [
    "df_basegrid.shape"
   ]
  },
  {
   "cell_type": "code",
   "execution_count": 5,
   "id": "3bbf3f90",
   "metadata": {},
   "outputs": [
    {
     "data": {
      "text/html": [
       "<div>\n",
       "<style scoped>\n",
       "    .dataframe tbody tr th:only-of-type {\n",
       "        vertical-align: middle;\n",
       "    }\n",
       "\n",
       "    .dataframe tbody tr th {\n",
       "        vertical-align: top;\n",
       "    }\n",
       "\n",
       "    .dataframe thead th {\n",
       "        text-align: right;\n",
       "    }\n",
       "</style>\n",
       "<table border=\"1\" class=\"dataframe\">\n",
       "  <thead>\n",
       "    <tr style=\"text-align: right;\">\n",
       "      <th></th>\n",
       "      <th>shop_id</th>\n",
       "      <th>item_id</th>\n",
       "      <th>date_block_num</th>\n",
       "      <th>item_price</th>\n",
       "      <th>item_cnt_month</th>\n",
       "      <th>is_new_arrival</th>\n",
       "      <th>month</th>\n",
       "      <th>year</th>\n",
       "      <th>year_month</th>\n",
       "      <th>item_category_id</th>\n",
       "    </tr>\n",
       "  </thead>\n",
       "  <tbody>\n",
       "    <tr>\n",
       "      <th>0</th>\n",
       "      <td>2</td>\n",
       "      <td>5572</td>\n",
       "      <td>0</td>\n",
       "      <td>1,533.00</td>\n",
       "      <td>9</td>\n",
       "      <td>0</td>\n",
       "      <td>1</td>\n",
       "      <td>2013</td>\n",
       "      <td>2013-01-01</td>\n",
       "      <td>2</td>\n",
       "    </tr>\n",
       "    <tr>\n",
       "      <th>1</th>\n",
       "      <td>2</td>\n",
       "      <td>5643</td>\n",
       "      <td>0</td>\n",
       "      <td>2,388.00</td>\n",
       "      <td>0</td>\n",
       "      <td>0</td>\n",
       "      <td>1</td>\n",
       "      <td>2013</td>\n",
       "      <td>2013-01-01</td>\n",
       "      <td>2</td>\n",
       "    </tr>\n",
       "    <tr>\n",
       "      <th>2</th>\n",
       "      <td>2</td>\n",
       "      <td>5583</td>\n",
       "      <td>0</td>\n",
       "      <td>594.00</td>\n",
       "      <td>2</td>\n",
       "      <td>0</td>\n",
       "      <td>1</td>\n",
       "      <td>2013</td>\n",
       "      <td>2013-01-01</td>\n",
       "      <td>5</td>\n",
       "    </tr>\n",
       "    <tr>\n",
       "      <th>3</th>\n",
       "      <td>2</td>\n",
       "      <td>7893</td>\n",
       "      <td>0</td>\n",
       "      <td>1,990.00</td>\n",
       "      <td>3</td>\n",
       "      <td>0</td>\n",
       "      <td>1</td>\n",
       "      <td>2013</td>\n",
       "      <td>2013-01-01</td>\n",
       "      <td>6</td>\n",
       "    </tr>\n",
       "    <tr>\n",
       "      <th>4</th>\n",
       "      <td>2</td>\n",
       "      <td>7894</td>\n",
       "      <td>0</td>\n",
       "      <td>1,490.00</td>\n",
       "      <td>1</td>\n",
       "      <td>0</td>\n",
       "      <td>1</td>\n",
       "      <td>2013</td>\n",
       "      <td>2013-01-01</td>\n",
       "      <td>6</td>\n",
       "    </tr>\n",
       "  </tbody>\n",
       "</table>\n",
       "</div>"
      ],
      "text/plain": [
       "   shop_id  item_id  date_block_num  item_price  item_cnt_month  \\\n",
       "0        2     5572               0    1,533.00               9   \n",
       "1        2     5643               0    2,388.00               0   \n",
       "2        2     5583               0      594.00               2   \n",
       "3        2     7893               0    1,990.00               3   \n",
       "4        2     7894               0    1,490.00               1   \n",
       "\n",
       "   is_new_arrival  month  year year_month  item_category_id  \n",
       "0               0      1  2013 2013-01-01                 2  \n",
       "1               0      1  2013 2013-01-01                 2  \n",
       "2               0      1  2013 2013-01-01                 5  \n",
       "3               0      1  2013 2013-01-01                 6  \n",
       "4               0      1  2013 2013-01-01                 6  "
      ]
     },
     "execution_count": 5,
     "metadata": {},
     "output_type": "execute_result"
    }
   ],
   "source": [
    "df_basegrid.head()"
   ]
  },
  {
   "cell_type": "code",
   "execution_count": 6,
   "id": "be94f4d7",
   "metadata": {},
   "outputs": [
    {
     "data": {
      "text/html": [
       "<div>\n",
       "<style scoped>\n",
       "    .dataframe tbody tr th:only-of-type {\n",
       "        vertical-align: middle;\n",
       "    }\n",
       "\n",
       "    .dataframe tbody tr th {\n",
       "        vertical-align: top;\n",
       "    }\n",
       "\n",
       "    .dataframe thead th {\n",
       "        text-align: right;\n",
       "    }\n",
       "</style>\n",
       "<table border=\"1\" class=\"dataframe\">\n",
       "  <thead>\n",
       "    <tr style=\"text-align: right;\">\n",
       "      <th></th>\n",
       "      <th>item_name</th>\n",
       "      <th>item_id</th>\n",
       "      <th>item_category_id</th>\n",
       "    </tr>\n",
       "  </thead>\n",
       "  <tbody>\n",
       "    <tr>\n",
       "      <th>0</th>\n",
       "      <td>! IN THE POWER OF GLAMOR (PLAST.) D</td>\n",
       "      <td>0</td>\n",
       "      <td>40</td>\n",
       "    </tr>\n",
       "    <tr>\n",
       "      <th>1</th>\n",
       "      <td>!ABBYY FineReader 12 Professional Edition Full [PC Digital]</td>\n",
       "      <td>1</td>\n",
       "      <td>76</td>\n",
       "    </tr>\n",
       "    <tr>\n",
       "      <th>2</th>\n",
       "      <td>*** IN THE RAYS OF GLORY (UNV) D</td>\n",
       "      <td>2</td>\n",
       "      <td>40</td>\n",
       "    </tr>\n",
       "    <tr>\n",
       "      <th>3</th>\n",
       "      <td>***BLUE WAVE (Univ) D</td>\n",
       "      <td>3</td>\n",
       "      <td>40</td>\n",
       "    </tr>\n",
       "    <tr>\n",
       "      <th>4</th>\n",
       "      <td>***BOX (GLASS) D</td>\n",
       "      <td>4</td>\n",
       "      <td>40</td>\n",
       "    </tr>\n",
       "  </tbody>\n",
       "</table>\n",
       "</div>"
      ],
      "text/plain": [
       "                                                     item_name  item_id  \\\n",
       "0                          ! IN THE POWER OF GLAMOR (PLAST.) D        0   \n",
       "1  !ABBYY FineReader 12 Professional Edition Full [PC Digital]        1   \n",
       "2                             *** IN THE RAYS OF GLORY (UNV) D        2   \n",
       "3                                        ***BLUE WAVE (Univ) D        3   \n",
       "4                                             ***BOX (GLASS) D        4   \n",
       "\n",
       "   item_category_id  \n",
       "0                40  \n",
       "1                76  \n",
       "2                40  \n",
       "3                40  \n",
       "4                40  "
      ]
     },
     "execution_count": 6,
     "metadata": {},
     "output_type": "execute_result"
    }
   ],
   "source": [
    "df_items.head()"
   ]
  },
  {
   "cell_type": "markdown",
   "id": "6861d11d",
   "metadata": {},
   "source": [
    "# Feature Engineering"
   ]
  },
  {
   "cell_type": "code",
   "execution_count": 7,
   "id": "250a22b7",
   "metadata": {},
   "outputs": [],
   "source": [
    "df_temp = df_basegrid"
   ]
  },
  {
   "cell_type": "code",
   "execution_count": 8,
   "id": "4d7ab5d4",
   "metadata": {},
   "outputs": [],
   "source": [
    "#feature engineerinf flag, it controls which featurs to be added to final feature list\n",
    "fe_flag=[ 0, #0, item name\n",
    "          0, #1, item category name\n",
    "          0, #2, shop name\n",
    "          0, #3, lagged item_cnt_month\n",
    "          0, #4, price, and lagged price\n",
    "          \n",
    "]\n",
    "\n",
    "#hold the features to be added to final selection\n",
    "dict_final_selected_features={}"
   ]
  },
  {
   "cell_type": "code",
   "execution_count": 9,
   "id": "ac4b70db",
   "metadata": {},
   "outputs": [],
   "source": [
    "############################ 0 item name feature engineering\n",
    "##################################################################\n",
    "if fe_flag[0] == 1:\n",
    "    list_feature_item_name =[]\n",
    "    df_temp = df_basegrid.merge(df_items, on=['item_id', 'item_category_id'])\n",
    "    list_feature_item_name.append('item_name')\n",
    "    print(list_feature_item_name)\n",
    "\n",
    "    dict_final_selected_features[0]=list_feature_item_name\n"
   ]
  },
  {
   "cell_type": "code",
   "execution_count": null,
   "id": "d05d1563",
   "metadata": {},
   "outputs": [],
   "source": []
  },
  {
   "cell_type": "code",
   "execution_count": null,
   "id": "239095db",
   "metadata": {},
   "outputs": [],
   "source": []
  },
  {
   "cell_type": "code",
   "execution_count": null,
   "id": "9e920650",
   "metadata": {},
   "outputs": [],
   "source": []
  },
  {
   "cell_type": "code",
   "execution_count": null,
   "id": "20bbcaf6",
   "metadata": {},
   "outputs": [],
   "source": []
  },
  {
   "cell_type": "code",
   "execution_count": null,
   "id": "53ea3435",
   "metadata": {},
   "outputs": [],
   "source": []
  },
  {
   "cell_type": "code",
   "execution_count": null,
   "id": "b69b51f8",
   "metadata": {},
   "outputs": [],
   "source": []
  },
  {
   "cell_type": "code",
   "execution_count": 10,
   "id": "237be398",
   "metadata": {},
   "outputs": [],
   "source": [
    "############################## 1 item category feature engineering\n",
    "#####################################################################\n",
    "if fe_flag[1] == 1:\n",
    "    list_feature_cat_anme =[]\n",
    "    df_temp =df_temp.merge(df_cat, on='item_category_id')\n",
    "    list_feature_cat_anme =['item_category_name']\n",
    "    dict_final_selected_features[1]=list_feature_cat_anme"
   ]
  },
  {
   "cell_type": "code",
   "execution_count": null,
   "id": "398f2bfa",
   "metadata": {},
   "outputs": [],
   "source": []
  },
  {
   "cell_type": "code",
   "execution_count": null,
   "id": "5d386850",
   "metadata": {},
   "outputs": [],
   "source": []
  },
  {
   "cell_type": "code",
   "execution_count": null,
   "id": "f8b93010",
   "metadata": {},
   "outputs": [],
   "source": []
  },
  {
   "cell_type": "code",
   "execution_count": 11,
   "id": "dffb8de1",
   "metadata": {},
   "outputs": [],
   "source": [
    "########################## 2 shop feature engineering\n",
    "###################################################################\n",
    "if fe_flag[2] == 1:\n",
    "    list_feature_shop_name=[]\n",
    "    df_temp =df_temp.merge(df_shops, on='shop_id')\n",
    "    list_feature_shop_name=['shop_name']\n",
    "    dict_final_selected_features[2]=list_feature_shop_name"
   ]
  },
  {
   "cell_type": "code",
   "execution_count": null,
   "id": "5c03e13a",
   "metadata": {},
   "outputs": [],
   "source": []
  },
  {
   "cell_type": "code",
   "execution_count": null,
   "id": "6ea36516",
   "metadata": {},
   "outputs": [],
   "source": []
  },
  {
   "cell_type": "code",
   "execution_count": 12,
   "id": "80abb210",
   "metadata": {},
   "outputs": [],
   "source": [
    "############################# 3 lagged item_cnt_month\n",
    "#####################################################################\n",
    "list_feature_icm=[]\n"
   ]
  },
  {
   "cell_type": "markdown",
   "id": "bb94ee3d",
   "metadata": {},
   "source": []
  },
  {
   "cell_type": "code",
   "execution_count": 13,
   "id": "feea7501",
   "metadata": {},
   "outputs": [],
   "source": [
    "############################### 4 price feature engineering\n",
    "######################################################################\n",
    "list_feature_item_price=[]\n"
   ]
  },
  {
   "cell_type": "code",
   "execution_count": null,
   "id": "03748cb5",
   "metadata": {},
   "outputs": [],
   "source": []
  },
  {
   "cell_type": "code",
   "execution_count": 14,
   "id": "0382a1cc",
   "metadata": {},
   "outputs": [],
   "source": [
    "############################# time feature engineering\n",
    "######################################################################\n",
    "list_feature_time=[]\n",
    "\n",
    "#month?"
   ]
  },
  {
   "cell_type": "markdown",
   "id": "da696da9",
   "metadata": {},
   "source": [
    "# data pre-preparation"
   ]
  },
  {
   "cell_type": "code",
   "execution_count": 15,
   "id": "cd3e57a6",
   "metadata": {},
   "outputs": [
    {
     "name": "stdout",
     "output_type": "stream",
     "text": [
      "<class 'pandas.core.frame.DataFrame'>\n",
      "Int64Index: 2946018 entries, 0 to 2946017\n",
      "Data columns (total 10 columns):\n",
      " #   Column            Dtype         \n",
      "---  ------            -----         \n",
      " 0   shop_id           int8          \n",
      " 1   item_id           int16         \n",
      " 2   date_block_num    int8          \n",
      " 3   item_price        float16       \n",
      " 4   item_cnt_month    int16         \n",
      " 5   is_new_arrival    int8          \n",
      " 6   month             int8          \n",
      " 7   year              int16         \n",
      " 8   year_month        datetime64[ns]\n",
      " 9   item_category_id  int8          \n",
      "dtypes: datetime64[ns](1), float16(1), int16(3), int8(5)\n",
      "memory usage: 81.5 MB\n"
     ]
    }
   ],
   "source": [
    "df_temp.info()"
   ]
  },
  {
   "cell_type": "code",
   "execution_count": null,
   "id": "ce7e863d",
   "metadata": {},
   "outputs": [],
   "source": []
  },
  {
   "cell_type": "code",
   "execution_count": 16,
   "id": "996bef3e",
   "metadata": {},
   "outputs": [],
   "source": [
    "#list_feature_base = ['item_id','shop_id', 'date_block_num',\n",
    "#                     'month','year','is_new_arrival', 'item_category_id'\n",
    "#                    ]\n",
    "\n",
    "list_feature_base = ['shop_id','item_id', 'item_category_id','date_block_num',\n",
    "                     #'month','year','is_new_arrival', \n",
    "                     'item_cnt_month'\n",
    "                 ]"
   ]
  },
  {
   "cell_type": "code",
   "execution_count": 17,
   "id": "e1f23950",
   "metadata": {},
   "outputs": [
    {
     "name": "stdout",
     "output_type": "stream",
     "text": [
      "[]\n"
     ]
    }
   ],
   "source": [
    "list_final_selected_features = []\n",
    "\n",
    "for i in range(len(fe_flag)):\n",
    "    if fe_flag[i]==1:\n",
    "        list_final_selected_features +=  dict_final_selected_features[i]\n",
    "        \n",
    "\n",
    "print(list_final_selected_features)\n"
   ]
  },
  {
   "cell_type": "code",
   "execution_count": 18,
   "id": "2fcbd84d",
   "metadata": {},
   "outputs": [
    {
     "name": "stdout",
     "output_type": "stream",
     "text": [
      "['shop_id', 'item_id', 'item_category_id', 'date_block_num', 'item_cnt_month']\n"
     ]
    }
   ],
   "source": [
    "list_feature_final = list_feature_base + list_final_selected_features\n",
    "print(list_feature_final)"
   ]
  },
  {
   "cell_type": "code",
   "execution_count": 19,
   "id": "375edfe2",
   "metadata": {},
   "outputs": [],
   "source": [
    "df_final = df_temp[list_feature_final]\n",
    "#y_final = df_temp['item_cnt_month']"
   ]
  },
  {
   "cell_type": "code",
   "execution_count": 20,
   "id": "7f3eed5e",
   "metadata": {},
   "outputs": [],
   "source": [
    "validation_date_block_num= 33\n",
    "test_date_block_num = 34"
   ]
  },
  {
   "cell_type": "code",
   "execution_count": 21,
   "id": "8fcff404",
   "metadata": {},
   "outputs": [],
   "source": [
    "index_train = (df_final['date_block_num'] < validation_date_block_num)\n",
    "df_train_final = df_final[index_train]\n",
    "\n",
    "index_validation = (df_final['date_block_num'] == validation_date_block_num)\n",
    "df_validation_final = df_final[index_validation]\n",
    "\n",
    "\n",
    "index_test = (df_final['date_block_num'] == test_date_block_num)\n",
    "df_test_final = df_final[index_test]\n",
    "\n",
    "\n",
    "\n",
    "X_train =  df_train_final.iloc[:, 0:-1]\n",
    "y_train =  df_train_final.iloc[:, -1]\n",
    "\n",
    "\n",
    "X_validation = df_validation_final.iloc[:, 0:-1]\n",
    "y_validation =  df_validation_final.iloc[:, -1]\n",
    "\n",
    "X_test =  df_test_final.iloc[:, 0:-1]\n",
    "y_test =  df_test_final.iloc[:, -1]\n"
   ]
  },
  {
   "cell_type": "markdown",
   "id": "968226be",
   "metadata": {},
   "source": [
    "### Baseline Model : Previous Month Sale\n",
    "- score: 1.16777"
   ]
  },
  {
   "cell_type": "code",
   "execution_count": 47,
   "id": "407f34ab",
   "metadata": {},
   "outputs": [],
   "source": [
    "################# Baseline benchmark: Previous Value \n",
    "####################################################\n",
    "\n",
    "df_valid_test = df_test.merge(df_validation_final,on=[\"shop_id\", \"item_id\"], how=\"left\")[[\"ID\", \"item_cnt_month\"]]\n",
    "\n",
    "#score: 1.16777\n",
    "df_valid_test['item_cnt_month'] = df_valid_test.item_cnt_month.fillna(0).clip(0,20)\n",
    "submission = df_valid_test.set_index('ID')\n",
    "submission.to_csv('benchmark.csv')\n"
   ]
  },
  {
   "cell_type": "markdown",
   "id": "f4b5db2e",
   "metadata": {},
   "source": [
    "#### Model: XGB + ['shop_id', 'item_id', 'item_category_id', 'date_block_num', 'item_cnt_month']\n",
    "\n",
    "- score: 1.16655"
   ]
  },
  {
   "cell_type": "code",
   "execution_count": 48,
   "id": "0a6c9f26",
   "metadata": {
    "scrolled": true
   },
   "outputs": [
    {
     "name": "stdout",
     "output_type": "stream",
     "text": [
      "rmse =  2.056363\n",
      "Wall time: 2min 8s\n"
     ]
    }
   ],
   "source": [
    "%%time\n",
    "model_xgb = xgb.XGBRegressor(max_depth = 10, min_child_weight=0.5, \n",
    "                         subsample = 1, eta = 0.3, seed = 1,eval_metric='rmse')\n",
    "model_xgb.fit(X_train, y_train)\n",
    "\n",
    "\n",
    "y_validation_preds = model_xgb.predict(X_validation)\n",
    "rmse = mean_squared_error(y_validation, y_validation_preds, squared=False)\n",
    "print(\"rmse = \", rmse)\n",
    "\n"
   ]
  },
  {
   "cell_type": "code",
   "execution_count": null,
   "id": "d7e1b1b0",
   "metadata": {},
   "outputs": [],
   "source": []
  },
  {
   "cell_type": "code",
   "execution_count": null,
   "id": "88595036",
   "metadata": {},
   "outputs": [],
   "source": []
  },
  {
   "cell_type": "markdown",
   "id": "929eaef9",
   "metadata": {},
   "source": [
    "#### Model: LGBM + ['shop_id', 'item_id', 'item_category_id', 'date_block_num', 'item_cnt_month']\n",
    "\n",
    "- Score: 1.12633"
   ]
  },
  {
   "cell_type": "code",
   "execution_count": 22,
   "id": "c4f04708",
   "metadata": {
    "scrolled": true
   },
   "outputs": [
    {
     "name": "stdout",
     "output_type": "stream",
     "text": [
      "rmse =  2.0748607706487507\n",
      "Wall time: 4.13 s\n"
     ]
    }
   ],
   "source": [
    "%%time\n",
    "model_lgb =lgb.LGBMRegressor(random_state=random_key)\n",
    "\n",
    "model_lgb.fit(X_train, y_train)\n",
    "\n",
    "\n",
    "y_validation_preds = model_lgb.predict(X_validation)\n",
    "rmse = mean_squared_error(y_validation, y_validation_preds, squared=False)\n",
    "print(\"rmse = \", rmse)\n",
    "\n"
   ]
  },
  {
   "cell_type": "code",
   "execution_count": 56,
   "id": "41630cb5",
   "metadata": {},
   "outputs": [],
   "source": [
    "features = ['shop_id', 'item_id', 'item_category_id', 'date_block_num']\n",
    "df_feature_importance=pd.DataFrame({'Value':model_lgb.feature_importances_,'Feature':features}).sort_values(by=\"Value\",ascending=False)"
   ]
  },
  {
   "cell_type": "code",
   "execution_count": 58,
   "id": "5361d881",
   "metadata": {},
   "outputs": [
    {
     "data": {
      "text/html": [
       "<div>\n",
       "<style scoped>\n",
       "    .dataframe tbody tr th:only-of-type {\n",
       "        vertical-align: middle;\n",
       "    }\n",
       "\n",
       "    .dataframe tbody tr th {\n",
       "        vertical-align: top;\n",
       "    }\n",
       "\n",
       "    .dataframe thead th {\n",
       "        text-align: right;\n",
       "    }\n",
       "</style>\n",
       "<table border=\"1\" class=\"dataframe\">\n",
       "  <thead>\n",
       "    <tr style=\"text-align: right;\">\n",
       "      <th></th>\n",
       "      <th>Value</th>\n",
       "      <th>Feature</th>\n",
       "    </tr>\n",
       "  </thead>\n",
       "  <tbody>\n",
       "    <tr>\n",
       "      <th>0</th>\n",
       "      <td>885</td>\n",
       "      <td>shop_id</td>\n",
       "    </tr>\n",
       "    <tr>\n",
       "      <th>3</th>\n",
       "      <td>779</td>\n",
       "      <td>date_block_num</td>\n",
       "    </tr>\n",
       "    <tr>\n",
       "      <th>2</th>\n",
       "      <td>694</td>\n",
       "      <td>item_category_id</td>\n",
       "    </tr>\n",
       "    <tr>\n",
       "      <th>1</th>\n",
       "      <td>642</td>\n",
       "      <td>item_id</td>\n",
       "    </tr>\n",
       "  </tbody>\n",
       "</table>\n",
       "</div>"
      ],
      "text/plain": [
       "   Value           Feature\n",
       "0    885           shop_id\n",
       "3    779    date_block_num\n",
       "2    694  item_category_id\n",
       "1    642           item_id"
      ]
     },
     "execution_count": 58,
     "metadata": {},
     "output_type": "execute_result"
    }
   ],
   "source": [
    "df_feature_importance.head(100)"
   ]
  },
  {
   "cell_type": "markdown",
   "id": "d6c04bd5",
   "metadata": {},
   "source": [
    "# production model and make predictions"
   ]
  },
  {
   "cell_type": "code",
   "execution_count": 26,
   "id": "32c90229",
   "metadata": {},
   "outputs": [],
   "source": [
    "production_model = model_lgb\n",
    "\n",
    "\n"
   ]
  },
  {
   "cell_type": "markdown",
   "id": "5ab85257",
   "metadata": {},
   "source": [
    "# pickle test_preds for model reconciliation"
   ]
  },
  {
   "cell_type": "code",
   "execution_count": 29,
   "id": "24dffa65",
   "metadata": {},
   "outputs": [
    {
     "name": "stderr",
     "output_type": "stream",
     "text": [
      "C:\\Users\\olive\\AppData\\Local\\Temp\\ipykernel_16568\\824755561.py:2: SettingWithCopyWarning: \n",
      "A value is trying to be set on a copy of a slice from a DataFrame.\n",
      "Try using .loc[row_indexer,col_indexer] = value instead\n",
      "\n",
      "See the caveats in the documentation: https://pandas.pydata.org/pandas-docs/stable/user_guide/indexing.html#returning-a-view-versus-a-copy\n",
      "  df_test_preds['item_cnt_month'] = production_model.predict(X_test)\n"
     ]
    },
    {
     "data": {
      "text/html": [
       "<div>\n",
       "<style scoped>\n",
       "    .dataframe tbody tr th:only-of-type {\n",
       "        vertical-align: middle;\n",
       "    }\n",
       "\n",
       "    .dataframe tbody tr th {\n",
       "        vertical-align: top;\n",
       "    }\n",
       "\n",
       "    .dataframe thead th {\n",
       "        text-align: right;\n",
       "    }\n",
       "</style>\n",
       "<table border=\"1\" class=\"dataframe\">\n",
       "  <thead>\n",
       "    <tr style=\"text-align: right;\">\n",
       "      <th></th>\n",
       "      <th>shop_id</th>\n",
       "      <th>item_id</th>\n",
       "      <th>item_category_id</th>\n",
       "      <th>date_block_num</th>\n",
       "      <th>item_cnt_month</th>\n",
       "    </tr>\n",
       "  </thead>\n",
       "  <tbody>\n",
       "    <tr>\n",
       "      <th>2731818</th>\n",
       "      <td>2</td>\n",
       "      <td>5441</td>\n",
       "      <td>0</td>\n",
       "      <td>34</td>\n",
       "      <td>0.36</td>\n",
       "    </tr>\n",
       "    <tr>\n",
       "      <th>2731819</th>\n",
       "      <td>2</td>\n",
       "      <td>5643</td>\n",
       "      <td>2</td>\n",
       "      <td>34</td>\n",
       "      <td>0.41</td>\n",
       "    </tr>\n",
       "    <tr>\n",
       "      <th>2731820</th>\n",
       "      <td>2</td>\n",
       "      <td>13411</td>\n",
       "      <td>2</td>\n",
       "      <td>34</td>\n",
       "      <td>0.29</td>\n",
       "    </tr>\n",
       "    <tr>\n",
       "      <th>2731821</th>\n",
       "      <td>2</td>\n",
       "      <td>5634</td>\n",
       "      <td>2</td>\n",
       "      <td>34</td>\n",
       "      <td>0.41</td>\n",
       "    </tr>\n",
       "    <tr>\n",
       "      <th>2731822</th>\n",
       "      <td>2</td>\n",
       "      <td>5638</td>\n",
       "      <td>2</td>\n",
       "      <td>34</td>\n",
       "      <td>0.41</td>\n",
       "    </tr>\n",
       "  </tbody>\n",
       "</table>\n",
       "</div>"
      ],
      "text/plain": [
       "         shop_id  item_id  item_category_id  date_block_num  item_cnt_month\n",
       "2731818        2     5441                 0              34            0.36\n",
       "2731819        2     5643                 2              34            0.41\n",
       "2731820        2    13411                 2              34            0.29\n",
       "2731821        2     5634                 2              34            0.41\n",
       "2731822        2     5638                 2              34            0.41"
      ]
     },
     "execution_count": 29,
     "metadata": {},
     "output_type": "execute_result"
    }
   ],
   "source": [
    "df_test_preds = df_test_final\n",
    "df_test_preds['item_cnt_month'] = production_model.predict(X_test)\n",
    "\n",
    "pickle_dict_preds = dict()\n",
    "pickle_dict_preds['df_test_preds']=df_test_preds\n",
    "pickle.dump(pickle_dict_preds, open(f'../temp/df_test_preds.pkl', 'wb'))\n",
    "\n",
    "pickle_dict_preds['df_test_preds'].head()"
   ]
  },
  {
   "cell_type": "code",
   "execution_count": null,
   "id": "76f98d76",
   "metadata": {},
   "outputs": [],
   "source": [
    "\n",
    "\n"
   ]
  },
  {
   "cell_type": "code",
   "execution_count": null,
   "id": "9e34f005",
   "metadata": {},
   "outputs": [],
   "source": []
  },
  {
   "cell_type": "markdown",
   "id": "046fe77e",
   "metadata": {},
   "source": [
    "# Submission"
   ]
  },
  {
   "cell_type": "code",
   "execution_count": 53,
   "id": "57ecd9e5",
   "metadata": {},
   "outputs": [
    {
     "name": "stderr",
     "output_type": "stream",
     "text": [
      "C:\\Users\\olive\\AppData\\Local\\Temp\\ipykernel_16120\\839796721.py:2: SettingWithCopyWarning: \n",
      "A value is trying to be set on a copy of a slice from a DataFrame.\n",
      "Try using .loc[row_indexer,col_indexer] = value instead\n",
      "\n",
      "See the caveats in the documentation: https://pandas.pydata.org/pandas-docs/stable/user_guide/indexing.html#returning-a-view-versus-a-copy\n",
      "  df_test_final['item_cnt_month'] = model_lgb.predict(X_test).clip(0,20)\n"
     ]
    },
    {
     "data": {
      "text/html": [
       "<div>\n",
       "<style scoped>\n",
       "    .dataframe tbody tr th:only-of-type {\n",
       "        vertical-align: middle;\n",
       "    }\n",
       "\n",
       "    .dataframe tbody tr th {\n",
       "        vertical-align: top;\n",
       "    }\n",
       "\n",
       "    .dataframe thead th {\n",
       "        text-align: right;\n",
       "    }\n",
       "</style>\n",
       "<table border=\"1\" class=\"dataframe\">\n",
       "  <thead>\n",
       "    <tr style=\"text-align: right;\">\n",
       "      <th></th>\n",
       "      <th>ID</th>\n",
       "      <th>item_cnt_month</th>\n",
       "    </tr>\n",
       "    <tr>\n",
       "      <th>ID</th>\n",
       "      <th></th>\n",
       "      <th></th>\n",
       "    </tr>\n",
       "  </thead>\n",
       "  <tbody>\n",
       "    <tr>\n",
       "      <th>0</th>\n",
       "      <td>0</td>\n",
       "      <td>0.51</td>\n",
       "    </tr>\n",
       "    <tr>\n",
       "      <th>1</th>\n",
       "      <td>1</td>\n",
       "      <td>0.09</td>\n",
       "    </tr>\n",
       "    <tr>\n",
       "      <th>2</th>\n",
       "      <td>2</td>\n",
       "      <td>0.51</td>\n",
       "    </tr>\n",
       "    <tr>\n",
       "      <th>3</th>\n",
       "      <td>3</td>\n",
       "      <td>0.35</td>\n",
       "    </tr>\n",
       "    <tr>\n",
       "      <th>4</th>\n",
       "      <td>4</td>\n",
       "      <td>0.58</td>\n",
       "    </tr>\n",
       "  </tbody>\n",
       "</table>\n",
       "</div>"
      ],
      "text/plain": [
       "    ID  item_cnt_month\n",
       "ID                    \n",
       "0    0            0.51\n",
       "1    1            0.09\n",
       "2    2            0.51\n",
       "3    3            0.35\n",
       "4    4            0.58"
      ]
     },
     "execution_count": 53,
     "metadata": {},
     "output_type": "execute_result"
    }
   ],
   "source": [
    "\n",
    "#calculate y_test and submit\n",
    "df_test_final['item_cnt_month'] = model_lgb.predict(X_test).clip(0,20)\n",
    "\n",
    "\n",
    "\n",
    "\n",
    "\n",
    "\n",
    "df_submission = df_test_final.merge(df_test, on=['shop_id', 'item_id'])[[\"ID\", \"item_cnt_month\"]]\n",
    "df_submission.set_index('ID',drop=False, inplace=True)\n",
    "df_submission.sort_index(inplace=True)\n",
    "\n",
    "df_submission.to_csv(\"../datasets/submission.csv\", index=False)\n",
    "df_submission.head()"
   ]
  },
  {
   "cell_type": "code",
   "execution_count": null,
   "id": "a213eda9",
   "metadata": {},
   "outputs": [],
   "source": [
    "\n"
   ]
  },
  {
   "cell_type": "code",
   "execution_count": null,
   "id": "c04a0d10",
   "metadata": {},
   "outputs": [],
   "source": []
  },
  {
   "cell_type": "code",
   "execution_count": null,
   "id": "af963ace",
   "metadata": {},
   "outputs": [],
   "source": []
  },
  {
   "cell_type": "markdown",
   "id": "7196475b",
   "metadata": {},
   "source": [
    "# define pipeline\n",
    "model = RandomForestClassifier(random_state=random_key)\n",
    "\n",
    "\n",
    "\n",
    "steps = [('classifier', model)]\n",
    "pipe = Pipeline(steps=steps)\n",
    "\n",
    "\n",
    "# pipeline parameters\n",
    "pipe_params = { 'classifier__num_leaves' : [40],   # The number of trees in the forest.\n",
    "                'classifier__learning_rate' : [.01],   # The number of trees in the forest.\n",
    "                'classifier__max_depth' : [4],              # The maximum depth of the tree.\n",
    "               # 'classifier__is_unbalance': ['True','False'],\n",
    "               # 'classifier__metric' : ['auc', 'binary_logloss','average_precision'] # Different metrics\n",
    "                }\n",
    "\n",
    "# Instantiate GridSearchCV.\n",
    "# tscv = TimeSeriesSplit(n_splits=3)\n",
    "gs_smlgb = GridSearchCV(pipe, # what object are we optimizing?\n",
    "                    param_grid = pipe_params, # what parameters values are we searching?\n",
    "                    cv=1, # 3-fold cross-validation.\n",
    "                    n_jobs=-1, \n",
    "                    scoring='neg_root_mean_squared_error'\n",
    "                    )\n",
    "\n",
    "#finding the best hypermeter list for the model\n",
    "result = run_model(gs_smlgb, \"LightGBM\",  X_train, y_train, X_validation, y_validation\n",
    "                  )\n",
    "#result_list.append(result)"
   ]
  },
  {
   "cell_type": "code",
   "execution_count": null,
   "id": "603402f2",
   "metadata": {},
   "outputs": [],
   "source": [
    "# define pipeline\n",
    "model = lgb.LGBMClassifier(objective='regression', random_state=random_key)\n",
    "\n",
    "\n",
    "\n",
    "steps = [('classifier', model)]\n",
    "pipe = Pipeline(steps=steps)\n",
    "\n",
    "\n",
    "# pipeline parameters\n",
    "pipe_params = { 'classifier__num_leaves' : [40],   # The number of trees in the forest.\n",
    "                'classifier__learning_rate' : [.01],   # The number of trees in the forest.\n",
    "                'classifier__max_depth' : [4],              # The maximum depth of the tree.\n",
    "               # 'classifier__is_unbalance': ['True','False'],\n",
    "               # 'classifier__metric' : ['auc', 'binary_logloss','average_precision'] # Different metrics\n",
    "                }\n",
    "\n",
    "# Instantiate GridSearchCV.\n",
    "# tscv = TimeSeriesSplit(n_splits=3)\n",
    "gs_smlgb = GridSearchCV(pipe, # what object are we optimizing?\n",
    "                    param_grid = pipe_params, # what parameters values are we searching?\n",
    "                    cv=2, # 3-fold cross-validation.\n",
    "                    n_jobs=-1, \n",
    "                    scoring='neg_root_mean_squared_error'\n",
    "                    )\n",
    "\n",
    "#finding the best hypermeter list for the model\n",
    "result = run_model(gs_smlgb, \"LightGBM\",  X_train, y_train, X_validation, y_validation\n",
    "                  )\n",
    "#result_list.append(result)"
   ]
  },
  {
   "cell_type": "markdown",
   "id": "7d04442a",
   "metadata": {},
   "source": [
    "print('Fitting...')\n",
    "model = xgb.XGBRegressor(max_depth = 11, min_child_weight=0.5, subsample = 1, eta = 0.3, num_round = 1000, seed = 1, nthread = 16)\n",
    "model.fit( X_train, y_train, eval_metric='rmse')\n"
   ]
  },
  {
   "cell_type": "code",
   "execution_count": null,
   "id": "801fc1bd",
   "metadata": {},
   "outputs": [],
   "source": []
  },
  {
   "cell_type": "code",
   "execution_count": null,
   "id": "e7f197c1",
   "metadata": {},
   "outputs": [],
   "source": [
    "\n",
    "\n"
   ]
  },
  {
   "cell_type": "code",
   "execution_count": null,
   "id": "86c9e6eb",
   "metadata": {},
   "outputs": [],
   "source": []
  }
 ],
 "metadata": {
  "kernelspec": {
   "display_name": "Python 3 (ipykernel)",
   "language": "python",
   "name": "python3"
  },
  "language_info": {
   "codemirror_mode": {
    "name": "ipython",
    "version": 3
   },
   "file_extension": ".py",
   "mimetype": "text/x-python",
   "name": "python",
   "nbconvert_exporter": "python",
   "pygments_lexer": "ipython3",
   "version": "3.9.13"
  }
 },
 "nbformat": 4,
 "nbformat_minor": 5
}
