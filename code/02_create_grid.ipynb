{
 "cells": [
  {
   "cell_type": "markdown",
   "id": "e1ead5b5",
   "metadata": {},
   "source": [
    "# intermittent time series"
   ]
  },
  {
   "cell_type": "code",
   "execution_count": 14,
   "id": "c0bf2ed8",
   "metadata": {},
   "outputs": [],
   "source": [
    "import numpy as np\n",
    "import pandas as pd\n",
    "import seaborn as sns\n",
    "\n",
    "\n",
    "import matplotlib\n",
    "from matplotlib import pyplot as plt\n",
    "from textwrap import wrap\n",
    "\n",
    "\n",
    "pd.options.display.float_format = '{:,.2f}'.format\n",
    "pd.options.display.max_columns = None\n",
    "pd.options.display.max_rows = None\n",
    "pd.set_option('display.max_colwidth', None)\n",
    "pd.options.mode.chained_assignment = None  # default='warn'\n",
    "\n",
    "import pickle\n",
    "import time\n",
    "\n",
    "from itertools import product\n",
    "\n",
    "#import googletrans\n",
    "#from googletrans import Translator\n",
    "#to avoid instantiate too many translator, we created one instance for the whole notebook\n",
    "#translator = Translator()\n",
    "\n",
    "\n",
    "from prophet import Prophet\n",
    "import itertools\n",
    "from prophet.diagnostics import cross_validation\n",
    "from prophet.diagnostics import performance_metrics\n",
    "\n",
    "import holidays\n",
    "\n",
    "\n",
    "import hts.functions\n",
    "import collections\n",
    "from hts import HTSRegressor\n",
    "from hts.hierarchy import HierarchyTree\n",
    "\n",
    "\n",
    "from sktime.transformations.hierarchical.reconcile import Reconciler\n",
    "from sktime.transformations.hierarchical.aggregate import Aggregator\n",
    "from sktime.forecasting.exp_smoothing import ExponentialSmoothing\n",
    "\n",
    "\n"
   ]
  },
  {
   "cell_type": "code",
   "execution_count": 120,
   "id": "3196d3ea",
   "metadata": {},
   "outputs": [],
   "source": [
    "#!pip install holidays"
   ]
  },
  {
   "cell_type": "code",
   "execution_count": 121,
   "id": "993c060e",
   "metadata": {},
   "outputs": [],
   "source": [
    "#!pip install prophet"
   ]
  },
  {
   "cell_type": "code",
   "execution_count": 122,
   "id": "52db3c10",
   "metadata": {},
   "outputs": [],
   "source": [
    "#https://github.com/matthiasanderer/m5-accuracy-competition/blob/main/m5-simple-fe-evaluation.ipynb\n",
    "\n",
    "## Memory Reducer\n",
    "# :df pandas dataframe to reduce size             # type: pd.DataFrame()\n",
    "# :verbose                                        # type: bool\n",
    "def reduce_mem_usage(df, verbose=True):\n",
    "    numerics = ['int16', 'int32', 'int64', 'float16', 'float32', 'float64']\n",
    "    start_mem = df.memory_usage().sum() / 1024**2    \n",
    "    for col in df.columns:\n",
    "        col_type = df[col].dtypes\n",
    "        if col_type in numerics:\n",
    "            c_min = df[col].min()\n",
    "            c_max = df[col].max()\n",
    "            if str(col_type)[:3] == 'int':\n",
    "                if c_min > np.iinfo(np.int8).min and c_max < np.iinfo(np.int8).max:\n",
    "                    df[col] = df[col].astype(np.int8)\n",
    "                elif c_min > np.iinfo(np.int16).min and c_max < np.iinfo(np.int16).max:\n",
    "                       df[col] = df[col].astype(np.int16)\n",
    "                elif c_min > np.iinfo(np.int32).min and c_max < np.iinfo(np.int32).max:\n",
    "                    df[col] = df[col].astype(np.int32)\n",
    "                elif c_min > np.iinfo(np.int64).min and c_max < np.iinfo(np.int64).max:\n",
    "                    df[col] = df[col].astype(np.int64)  \n",
    "            else:\n",
    "                if c_min > np.finfo(np.float16).min and c_max < np.finfo(np.float16).max:\n",
    "                    df[col] = df[col].astype(np.float16)\n",
    "                elif c_min > np.finfo(np.float32).min and c_max < np.finfo(np.float32).max:\n",
    "                    df[col] = df[col].astype(np.float32)\n",
    "                else:\n",
    "                    df[col] = df[col].astype(np.float64)    \n",
    "    end_mem = df.memory_usage().sum() / 1024**2\n",
    "    if verbose: print('Mem. usage decreased to {:5.2f} Mb ({:.1f}% reduction)'.format(end_mem, 100 * (start_mem - end_mem) / start_mem))\n",
    "    return df"
   ]
  },
  {
   "cell_type": "markdown",
   "id": "2154c657",
   "metadata": {},
   "source": [
    "# import data from pickle file"
   ]
  },
  {
   "cell_type": "code",
   "execution_count": 123,
   "id": "795ebe34",
   "metadata": {},
   "outputs": [],
   "source": [
    "#read pickle_dict, which store everything\n",
    "pickle_dict1 = pickle.load(open('../temp/data1.pkl', 'rb'))\n",
    "df_all = pickle_dict1['df_all']   #concat df_train_m and df_test\n",
    "df_train = pickle_dict1['df_train']\n",
    "df_test = pickle_dict1['df_test']\n",
    "df_items = pickle_dict1['df_items']\n",
    "df_shops = pickle_dict1['df_shops']\n",
    "df_cat = pickle_dict1['df_cat']\n",
    "new_arrival_item_list = pickle_dict1['new_arrival_item_list']"
   ]
  },
  {
   "cell_type": "markdown",
   "id": "527be936",
   "metadata": {},
   "source": [
    "### create plain grid and merge df_all --> df_grid2"
   ]
  },
  {
   "cell_type": "code",
   "execution_count": 124,
   "id": "341563e5",
   "metadata": {},
   "outputs": [],
   "source": [
    "#https://www.kaggle.com/code/szhou42/predict-future-sales-top-11-solution/notebook\n",
    "# For every month we create a grid from all shops/items combinations from that month\n",
    "grid = []\n",
    "for block_num in df_all['date_block_num'].unique():\n",
    "    cur_shops = df_all[df_all['date_block_num']==block_num]['shop_id'].unique()\n",
    "    cur_items = df_all[df_all['date_block_num']==block_num]['item_id'].unique()\n",
    "    grid.append(np.array(list(product(*[cur_shops, cur_items, [block_num]])),dtype='int32'))\n",
    "index_cols = ['shop_id', 'item_id', 'date_block_num']\n",
    "\n",
    "#plain grid dataframe\n",
    "df_grid1 = pd.DataFrame(np.vstack(grid), columns = index_cols,dtype=np.int32)\n"
   ]
  },
  {
   "cell_type": "code",
   "execution_count": 125,
   "id": "4d60890b",
   "metadata": {},
   "outputs": [
    {
     "name": "stdout",
     "output_type": "stream",
     "text": [
      "<class 'pandas.core.frame.DataFrame'>\n",
      "RangeIndex: 2946018 entries, 0 to 2946017\n",
      "Data columns (total 3 columns):\n",
      " #   Column          Dtype\n",
      "---  ------          -----\n",
      " 0   shop_id         int32\n",
      " 1   item_id         int32\n",
      " 2   date_block_num  int32\n",
      "dtypes: int32(3)\n",
      "memory usage: 33.7 MB\n"
     ]
    }
   ],
   "source": [
    "df_grid1.info()"
   ]
  },
  {
   "cell_type": "code",
   "execution_count": 126,
   "id": "e5bc1343",
   "metadata": {},
   "outputs": [
    {
     "name": "stdout",
     "output_type": "stream",
     "text": [
      "how many shops:  42\n",
      "how many items:  5100\n",
      "how many categories:  63\n",
      "<class 'pandas.core.frame.DataFrame'>\n",
      "Int64Index: 2946018 entries, 0 to 2946017\n",
      "Data columns (total 7 columns):\n",
      " #   Column            Dtype  \n",
      "---  ------            -----  \n",
      " 0   shop_id           int32  \n",
      " 1   item_id           int32  \n",
      " 2   date_block_num    int32  \n",
      " 3   item_category_id  float64\n",
      " 4   item_price        float64\n",
      " 5   item_cnt_month    float64\n",
      " 6   is_new_arrival    float64\n",
      "dtypes: float64(4), int32(3)\n",
      "memory usage: 146.1 MB\n"
     ]
    }
   ],
   "source": [
    "\n",
    "#merge df_all to df_grid1\n",
    "df_grid2 = pd.merge(df_grid1,df_all,how='left',on=index_cols)\n",
    "\n",
    "shop_list = df_grid2['shop_id'].unique()\n",
    "print(\"how many shops: \", len(shop_list))\n",
    "\n",
    "item_list = df_grid2['item_id'].unique()\n",
    "print(\"how many items: \", len(item_list))\n",
    "\n",
    "cat_list = df_grid2['item_category_id'].unique()\n",
    "print(\"how many categories: \", len(cat_list))\n",
    "\n",
    "df_grid2.info()"
   ]
  },
  {
   "cell_type": "code",
   "execution_count": 127,
   "id": "500c36b5",
   "metadata": {},
   "outputs": [
    {
     "data": {
      "text/plain": [
       "shop_id                   0\n",
       "item_id                   0\n",
       "date_block_num            0\n",
       "item_category_id    2131660\n",
       "item_price          2131660\n",
       "item_cnt_month      2131660\n",
       "is_new_arrival      2131660\n",
       "dtype: int64"
      ]
     },
     "execution_count": 127,
     "metadata": {},
     "output_type": "execute_result"
    }
   ],
   "source": [
    "df_grid2.isnull().sum()"
   ]
  },
  {
   "cell_type": "markdown",
   "id": "63c26a8e",
   "metadata": {},
   "source": [
    "### df_grid2: handle null value, drop columns --> df_grid3"
   ]
  },
  {
   "cell_type": "code",
   "execution_count": 128,
   "id": "4bfc9d6b",
   "metadata": {},
   "outputs": [
    {
     "data": {
      "text/plain": [
       "array(['2013-01-01T00:00:00.000000000', '2013-02-01T00:00:00.000000000',\n",
       "       '2013-03-01T00:00:00.000000000', '2013-04-01T00:00:00.000000000',\n",
       "       '2013-05-01T00:00:00.000000000', '2013-06-01T00:00:00.000000000',\n",
       "       '2013-07-01T00:00:00.000000000', '2013-08-01T00:00:00.000000000',\n",
       "       '2013-09-01T00:00:00.000000000', '2013-10-01T00:00:00.000000000',\n",
       "       '2013-11-01T00:00:00.000000000', '2013-12-01T00:00:00.000000000',\n",
       "       '2014-01-01T00:00:00.000000000', '2014-02-01T00:00:00.000000000',\n",
       "       '2014-03-01T00:00:00.000000000', '2014-04-01T00:00:00.000000000',\n",
       "       '2014-05-01T00:00:00.000000000', '2014-06-01T00:00:00.000000000',\n",
       "       '2014-07-01T00:00:00.000000000', '2014-08-01T00:00:00.000000000',\n",
       "       '2014-09-01T00:00:00.000000000', '2014-10-01T00:00:00.000000000',\n",
       "       '2014-11-01T00:00:00.000000000', '2014-12-01T00:00:00.000000000',\n",
       "       '2015-01-01T00:00:00.000000000', '2015-02-01T00:00:00.000000000',\n",
       "       '2015-03-01T00:00:00.000000000', '2015-04-01T00:00:00.000000000',\n",
       "       '2015-05-01T00:00:00.000000000', '2015-06-01T00:00:00.000000000',\n",
       "       '2015-07-01T00:00:00.000000000', '2015-08-01T00:00:00.000000000',\n",
       "       '2015-09-01T00:00:00.000000000', '2015-10-01T00:00:00.000000000',\n",
       "       '2015-11-01T00:00:00.000000000'], dtype='datetime64[ns]')"
      ]
     },
     "execution_count": 128,
     "metadata": {},
     "output_type": "execute_result"
    }
   ],
   "source": [
    "#handle null value\n",
    "df_grid2['item_cnt_month'] = df_grid2['item_cnt_month'].fillna(0).astype(int)\n",
    "df_grid2['item_price'] = df_grid2['item_price'].fillna(0)\n",
    "df_grid2['is_new_arrival'] = np.where(df_grid2['item_id'].isin(new_arrival_item_list), 1, 0) \n",
    "\n",
    "#drop this column\n",
    "df_grid3=df_grid2.drop(columns=['item_category_id'])\n",
    "\n",
    "#create new column\n",
    "df_grid3[\"month\"] = ((df_grid3[\"date_block_num\"]+1)%12).astype(int)\n",
    "df_grid3['year'] = ((df_grid3[\"date_block_num\"]+1)//12 + 2013).astype(int)\n",
    "df_grid3['year'] = np.where(df_grid3['month']==0, df_grid3['year']-1,df_grid3['year'] )\n",
    "df_grid3['month'] = np.where(df_grid3['month']==0, 12,df_grid3['month'] )\n",
    "\n",
    "#create 'year_month'\n",
    "df_grid3['year_month'] = df_grid3.apply(lambda x:f\"{int(x.year)}-{int(x.month)}\",axis=1).apply(pd.to_datetime)\n",
    "df_grid3['year_month'].unique()\n"
   ]
  },
  {
   "cell_type": "code",
   "execution_count": 129,
   "id": "fc777d6e",
   "metadata": {
    "scrolled": false
   },
   "outputs": [
    {
     "data": {
      "text/plain": [
       "shop_id           0\n",
       "item_id           0\n",
       "date_block_num    0\n",
       "item_price        0\n",
       "item_cnt_month    0\n",
       "is_new_arrival    0\n",
       "month             0\n",
       "year              0\n",
       "year_month        0\n",
       "dtype: int64"
      ]
     },
     "execution_count": 129,
     "metadata": {},
     "output_type": "execute_result"
    }
   ],
   "source": [
    "df_grid3.isnull().sum()"
   ]
  },
  {
   "cell_type": "code",
   "execution_count": 130,
   "id": "8684d568",
   "metadata": {},
   "outputs": [
    {
     "data": {
      "text/html": [
       "<div>\n",
       "<style scoped>\n",
       "    .dataframe tbody tr th:only-of-type {\n",
       "        vertical-align: middle;\n",
       "    }\n",
       "\n",
       "    .dataframe tbody tr th {\n",
       "        vertical-align: top;\n",
       "    }\n",
       "\n",
       "    .dataframe thead th {\n",
       "        text-align: right;\n",
       "    }\n",
       "</style>\n",
       "<table border=\"1\" class=\"dataframe\">\n",
       "  <thead>\n",
       "    <tr style=\"text-align: right;\">\n",
       "      <th></th>\n",
       "      <th>shop_id</th>\n",
       "      <th>item_id</th>\n",
       "      <th>date_block_num</th>\n",
       "      <th>item_price</th>\n",
       "      <th>item_cnt_month</th>\n",
       "      <th>is_new_arrival</th>\n",
       "      <th>month</th>\n",
       "      <th>year</th>\n",
       "      <th>year_month</th>\n",
       "    </tr>\n",
       "  </thead>\n",
       "  <tbody>\n",
       "    <tr>\n",
       "      <th>2065645</th>\n",
       "      <td>25</td>\n",
       "      <td>19885</td>\n",
       "      <td>29</td>\n",
       "      <td>0.00</td>\n",
       "      <td>0</td>\n",
       "      <td>0</td>\n",
       "      <td>6</td>\n",
       "      <td>2015</td>\n",
       "      <td>2015-06-01</td>\n",
       "    </tr>\n",
       "    <tr>\n",
       "      <th>2569379</th>\n",
       "      <td>2</td>\n",
       "      <td>1100</td>\n",
       "      <td>33</td>\n",
       "      <td>0.00</td>\n",
       "      <td>0</td>\n",
       "      <td>0</td>\n",
       "      <td>10</td>\n",
       "      <td>2015</td>\n",
       "      <td>2015-10-01</td>\n",
       "    </tr>\n",
       "    <tr>\n",
       "      <th>1009385</th>\n",
       "      <td>35</td>\n",
       "      <td>10300</td>\n",
       "      <td>19</td>\n",
       "      <td>499.00</td>\n",
       "      <td>1</td>\n",
       "      <td>0</td>\n",
       "      <td>8</td>\n",
       "      <td>2014</td>\n",
       "      <td>2014-08-01</td>\n",
       "    </tr>\n",
       "    <tr>\n",
       "      <th>580290</th>\n",
       "      <td>16</td>\n",
       "      <td>521</td>\n",
       "      <td>13</td>\n",
       "      <td>0.00</td>\n",
       "      <td>0</td>\n",
       "      <td>0</td>\n",
       "      <td>2</td>\n",
       "      <td>2014</td>\n",
       "      <td>2014-02-01</td>\n",
       "    </tr>\n",
       "    <tr>\n",
       "      <th>2492102</th>\n",
       "      <td>34</td>\n",
       "      <td>13573</td>\n",
       "      <td>32</td>\n",
       "      <td>0.00</td>\n",
       "      <td>0</td>\n",
       "      <td>0</td>\n",
       "      <td>9</td>\n",
       "      <td>2015</td>\n",
       "      <td>2015-09-01</td>\n",
       "    </tr>\n",
       "    <tr>\n",
       "      <th>1649342</th>\n",
       "      <td>59</td>\n",
       "      <td>4424</td>\n",
       "      <td>25</td>\n",
       "      <td>0.00</td>\n",
       "      <td>0</td>\n",
       "      <td>0</td>\n",
       "      <td>2</td>\n",
       "      <td>2015</td>\n",
       "      <td>2015-02-01</td>\n",
       "    </tr>\n",
       "    <tr>\n",
       "      <th>291291</th>\n",
       "      <td>45</td>\n",
       "      <td>18411</td>\n",
       "      <td>7</td>\n",
       "      <td>0.00</td>\n",
       "      <td>0</td>\n",
       "      <td>0</td>\n",
       "      <td>8</td>\n",
       "      <td>2013</td>\n",
       "      <td>2013-08-01</td>\n",
       "    </tr>\n",
       "    <tr>\n",
       "      <th>40279</th>\n",
       "      <td>16</td>\n",
       "      <td>15438</td>\n",
       "      <td>1</td>\n",
       "      <td>0.00</td>\n",
       "      <td>0</td>\n",
       "      <td>0</td>\n",
       "      <td>2</td>\n",
       "      <td>2013</td>\n",
       "      <td>2013-02-01</td>\n",
       "    </tr>\n",
       "    <tr>\n",
       "      <th>1587256</th>\n",
       "      <td>26</td>\n",
       "      <td>2424</td>\n",
       "      <td>25</td>\n",
       "      <td>0.00</td>\n",
       "      <td>0</td>\n",
       "      <td>0</td>\n",
       "      <td>2</td>\n",
       "      <td>2015</td>\n",
       "      <td>2015-02-01</td>\n",
       "    </tr>\n",
       "    <tr>\n",
       "      <th>1351009</th>\n",
       "      <td>16</td>\n",
       "      <td>6661</td>\n",
       "      <td>23</td>\n",
       "      <td>0.00</td>\n",
       "      <td>0</td>\n",
       "      <td>0</td>\n",
       "      <td>12</td>\n",
       "      <td>2014</td>\n",
       "      <td>2014-12-01</td>\n",
       "    </tr>\n",
       "  </tbody>\n",
       "</table>\n",
       "</div>"
      ],
      "text/plain": [
       "         shop_id  item_id  date_block_num  item_price  item_cnt_month  \\\n",
       "2065645       25    19885              29        0.00               0   \n",
       "2569379        2     1100              33        0.00               0   \n",
       "1009385       35    10300              19      499.00               1   \n",
       "580290        16      521              13        0.00               0   \n",
       "2492102       34    13573              32        0.00               0   \n",
       "1649342       59     4424              25        0.00               0   \n",
       "291291        45    18411               7        0.00               0   \n",
       "40279         16    15438               1        0.00               0   \n",
       "1587256       26     2424              25        0.00               0   \n",
       "1351009       16     6661              23        0.00               0   \n",
       "\n",
       "         is_new_arrival  month  year year_month  \n",
       "2065645               0      6  2015 2015-06-01  \n",
       "2569379               0     10  2015 2015-10-01  \n",
       "1009385               0      8  2014 2014-08-01  \n",
       "580290                0      2  2014 2014-02-01  \n",
       "2492102               0      9  2015 2015-09-01  \n",
       "1649342               0      2  2015 2015-02-01  \n",
       "291291                0      8  2013 2013-08-01  \n",
       "40279                 0      2  2013 2013-02-01  \n",
       "1587256               0      2  2015 2015-02-01  \n",
       "1351009               0     12  2014 2014-12-01  "
      ]
     },
     "execution_count": 130,
     "metadata": {},
     "output_type": "execute_result"
    }
   ],
   "source": [
    "df_grid3.sample(10)"
   ]
  },
  {
   "cell_type": "markdown",
   "id": "d38ae82c",
   "metadata": {},
   "source": []
  },
  {
   "cell_type": "markdown",
   "id": "618f18f8",
   "metadata": {},
   "source": [
    "### df_grid3: add 'item_category_id'  =>df_grid4"
   ]
  },
  {
   "cell_type": "code",
   "execution_count": 131,
   "id": "815c755c",
   "metadata": {},
   "outputs": [],
   "source": [
    "df_grid4 = pd.merge(df_grid3,df_items[['item_id','item_category_id']],how='left',on='item_id')"
   ]
  },
  {
   "cell_type": "code",
   "execution_count": 132,
   "id": "13bdf064",
   "metadata": {},
   "outputs": [
    {
     "name": "stdout",
     "output_type": "stream",
     "text": [
      "<class 'pandas.core.frame.DataFrame'>\n",
      "Int64Index: 2946018 entries, 0 to 2946017\n",
      "Data columns (total 10 columns):\n",
      " #   Column            Dtype         \n",
      "---  ------            -----         \n",
      " 0   shop_id           int32         \n",
      " 1   item_id           int32         \n",
      " 2   date_block_num    int32         \n",
      " 3   item_price        float64       \n",
      " 4   item_cnt_month    int32         \n",
      " 5   is_new_arrival    int32         \n",
      " 6   month             int32         \n",
      " 7   year              int32         \n",
      " 8   year_month        datetime64[ns]\n",
      " 9   item_category_id  int64         \n",
      "dtypes: datetime64[ns](1), float64(1), int32(7), int64(1)\n",
      "memory usage: 168.6 MB\n"
     ]
    }
   ],
   "source": [
    "df_grid4.info()"
   ]
  },
  {
   "cell_type": "code",
   "execution_count": 133,
   "id": "6c6f284e",
   "metadata": {},
   "outputs": [
    {
     "data": {
      "text/plain": [
       "shop_id             0\n",
       "item_id             0\n",
       "date_block_num      0\n",
       "item_price          0\n",
       "item_cnt_month      0\n",
       "is_new_arrival      0\n",
       "month               0\n",
       "year                0\n",
       "year_month          0\n",
       "item_category_id    0\n",
       "dtype: int64"
      ]
     },
     "execution_count": 133,
     "metadata": {},
     "output_type": "execute_result"
    }
   ],
   "source": [
    "df_grid4.isnull().sum()"
   ]
  },
  {
   "cell_type": "markdown",
   "id": "0534d541",
   "metadata": {},
   "source": [
    "### df_grid4 =>df_basegrid"
   ]
  },
  {
   "cell_type": "code",
   "execution_count": 134,
   "id": "258b1c19",
   "metadata": {},
   "outputs": [
    {
     "data": {
      "text/html": [
       "<div>\n",
       "<style scoped>\n",
       "    .dataframe tbody tr th:only-of-type {\n",
       "        vertical-align: middle;\n",
       "    }\n",
       "\n",
       "    .dataframe tbody tr th {\n",
       "        vertical-align: top;\n",
       "    }\n",
       "\n",
       "    .dataframe thead th {\n",
       "        text-align: right;\n",
       "    }\n",
       "</style>\n",
       "<table border=\"1\" class=\"dataframe\">\n",
       "  <thead>\n",
       "    <tr style=\"text-align: right;\">\n",
       "      <th></th>\n",
       "      <th>shop_id</th>\n",
       "      <th>item_id</th>\n",
       "      <th>date_block_num</th>\n",
       "      <th>item_price</th>\n",
       "      <th>item_cnt_month</th>\n",
       "      <th>is_new_arrival</th>\n",
       "      <th>month</th>\n",
       "      <th>year</th>\n",
       "      <th>year_month</th>\n",
       "      <th>item_category_id</th>\n",
       "    </tr>\n",
       "  </thead>\n",
       "  <tbody>\n",
       "    <tr>\n",
       "      <th>0</th>\n",
       "      <td>2</td>\n",
       "      <td>5572</td>\n",
       "      <td>0</td>\n",
       "      <td>1,532.86</td>\n",
       "      <td>9</td>\n",
       "      <td>0</td>\n",
       "      <td>1</td>\n",
       "      <td>2013</td>\n",
       "      <td>2013-01-01</td>\n",
       "      <td>2</td>\n",
       "    </tr>\n",
       "    <tr>\n",
       "      <th>1</th>\n",
       "      <td>2</td>\n",
       "      <td>5643</td>\n",
       "      <td>0</td>\n",
       "      <td>2,387.61</td>\n",
       "      <td>0</td>\n",
       "      <td>0</td>\n",
       "      <td>1</td>\n",
       "      <td>2013</td>\n",
       "      <td>2013-01-01</td>\n",
       "      <td>2</td>\n",
       "    </tr>\n",
       "    <tr>\n",
       "      <th>2</th>\n",
       "      <td>2</td>\n",
       "      <td>5583</td>\n",
       "      <td>0</td>\n",
       "      <td>594.15</td>\n",
       "      <td>2</td>\n",
       "      <td>0</td>\n",
       "      <td>1</td>\n",
       "      <td>2013</td>\n",
       "      <td>2013-01-01</td>\n",
       "      <td>5</td>\n",
       "    </tr>\n",
       "    <tr>\n",
       "      <th>3</th>\n",
       "      <td>2</td>\n",
       "      <td>7893</td>\n",
       "      <td>0</td>\n",
       "      <td>1,990.00</td>\n",
       "      <td>3</td>\n",
       "      <td>0</td>\n",
       "      <td>1</td>\n",
       "      <td>2013</td>\n",
       "      <td>2013-01-01</td>\n",
       "      <td>6</td>\n",
       "    </tr>\n",
       "    <tr>\n",
       "      <th>4</th>\n",
       "      <td>2</td>\n",
       "      <td>7894</td>\n",
       "      <td>0</td>\n",
       "      <td>1,490.00</td>\n",
       "      <td>1</td>\n",
       "      <td>0</td>\n",
       "      <td>1</td>\n",
       "      <td>2013</td>\n",
       "      <td>2013-01-01</td>\n",
       "      <td>6</td>\n",
       "    </tr>\n",
       "  </tbody>\n",
       "</table>\n",
       "</div>"
      ],
      "text/plain": [
       "   shop_id  item_id  date_block_num  item_price  item_cnt_month  \\\n",
       "0        2     5572               0    1,532.86               9   \n",
       "1        2     5643               0    2,387.61               0   \n",
       "2        2     5583               0      594.15               2   \n",
       "3        2     7893               0    1,990.00               3   \n",
       "4        2     7894               0    1,490.00               1   \n",
       "\n",
       "   is_new_arrival  month  year year_month  item_category_id  \n",
       "0               0      1  2013 2013-01-01                 2  \n",
       "1               0      1  2013 2013-01-01                 2  \n",
       "2               0      1  2013 2013-01-01                 5  \n",
       "3               0      1  2013 2013-01-01                 6  \n",
       "4               0      1  2013 2013-01-01                 6  "
      ]
     },
     "execution_count": 134,
     "metadata": {},
     "output_type": "execute_result"
    }
   ],
   "source": [
    "base_column_list = ['date_block_num','item_category_id','shop_id','item_id','item_cnt_month', 'year_month' \n",
    "                    #'item_price','is_new_arrival', 'year', 'month'\n",
    "                   ]\n",
    "\n",
    "df_basegrid = df_grid4\n",
    "df_basegrid.head()"
   ]
  },
  {
   "cell_type": "code",
   "execution_count": 90,
   "id": "3428f0b2",
   "metadata": {},
   "outputs": [
    {
     "data": {
      "text/plain": [
       "(2946018, 10)"
      ]
     },
     "execution_count": 90,
     "metadata": {},
     "output_type": "execute_result"
    }
   ],
   "source": [
    "df_basegrid.shape"
   ]
  },
  {
   "cell_type": "code",
   "execution_count": 135,
   "id": "8b811c8e",
   "metadata": {},
   "outputs": [
    {
     "name": "stdout",
     "output_type": "stream",
     "text": [
      "Mem. usage decreased to 81.48 Mb (51.7% reduction)\n"
     ]
    }
   ],
   "source": [
    "df_basegrid=reduce_mem_usage(df_basegrid, verbose=True)"
   ]
  },
  {
   "cell_type": "code",
   "execution_count": 136,
   "id": "f15403a7",
   "metadata": {},
   "outputs": [
    {
     "name": "stdout",
     "output_type": "stream",
     "text": [
      "<class 'pandas.core.frame.DataFrame'>\n",
      "Int64Index: 2946018 entries, 0 to 2946017\n",
      "Data columns (total 10 columns):\n",
      " #   Column            Dtype         \n",
      "---  ------            -----         \n",
      " 0   shop_id           int8          \n",
      " 1   item_id           int16         \n",
      " 2   date_block_num    int8          \n",
      " 3   item_price        float16       \n",
      " 4   item_cnt_month    int16         \n",
      " 5   is_new_arrival    int8          \n",
      " 6   month             int8          \n",
      " 7   year              int16         \n",
      " 8   year_month        datetime64[ns]\n",
      " 9   item_category_id  int8          \n",
      "dtypes: datetime64[ns](1), float16(1), int16(3), int8(5)\n",
      "memory usage: 81.5 MB\n"
     ]
    }
   ],
   "source": [
    "df_basegrid.info()"
   ]
  },
  {
   "cell_type": "code",
   "execution_count": 137,
   "id": "f20c7896",
   "metadata": {},
   "outputs": [
    {
     "data": {
      "text/html": [
       "<div>\n",
       "<style scoped>\n",
       "    .dataframe tbody tr th:only-of-type {\n",
       "        vertical-align: middle;\n",
       "    }\n",
       "\n",
       "    .dataframe tbody tr th {\n",
       "        vertical-align: top;\n",
       "    }\n",
       "\n",
       "    .dataframe thead th {\n",
       "        text-align: right;\n",
       "    }\n",
       "</style>\n",
       "<table border=\"1\" class=\"dataframe\">\n",
       "  <thead>\n",
       "    <tr style=\"text-align: right;\">\n",
       "      <th></th>\n",
       "      <th>shop_id</th>\n",
       "      <th>item_id</th>\n",
       "      <th>date_block_num</th>\n",
       "      <th>item_price</th>\n",
       "      <th>item_cnt_month</th>\n",
       "      <th>is_new_arrival</th>\n",
       "      <th>month</th>\n",
       "      <th>year</th>\n",
       "      <th>year_month</th>\n",
       "      <th>item_category_id</th>\n",
       "    </tr>\n",
       "  </thead>\n",
       "  <tbody>\n",
       "    <tr>\n",
       "      <th>2179009</th>\n",
       "      <td>18</td>\n",
       "      <td>21980</td>\n",
       "      <td>30</td>\n",
       "      <td>0.00</td>\n",
       "      <td>0</td>\n",
       "      <td>0</td>\n",
       "      <td>7</td>\n",
       "      <td>2015</td>\n",
       "      <td>2015-07-01</td>\n",
       "      <td>57</td>\n",
       "    </tr>\n",
       "    <tr>\n",
       "      <th>194611</th>\n",
       "      <td>25</td>\n",
       "      <td>849</td>\n",
       "      <td>5</td>\n",
       "      <td>0.00</td>\n",
       "      <td>0</td>\n",
       "      <td>0</td>\n",
       "      <td>6</td>\n",
       "      <td>2013</td>\n",
       "      <td>2013-06-01</td>\n",
       "      <td>78</td>\n",
       "    </tr>\n",
       "    <tr>\n",
       "      <th>2555998</th>\n",
       "      <td>57</td>\n",
       "      <td>12764</td>\n",
       "      <td>32</td>\n",
       "      <td>0.00</td>\n",
       "      <td>0</td>\n",
       "      <td>0</td>\n",
       "      <td>9</td>\n",
       "      <td>2015</td>\n",
       "      <td>2015-09-01</td>\n",
       "      <td>37</td>\n",
       "    </tr>\n",
       "    <tr>\n",
       "      <th>671185</th>\n",
       "      <td>50</td>\n",
       "      <td>12542</td>\n",
       "      <td>14</td>\n",
       "      <td>0.00</td>\n",
       "      <td>0</td>\n",
       "      <td>0</td>\n",
       "      <td>3</td>\n",
       "      <td>2014</td>\n",
       "      <td>2014-03-01</td>\n",
       "      <td>55</td>\n",
       "    </tr>\n",
       "    <tr>\n",
       "      <th>2783098</th>\n",
       "      <td>16</td>\n",
       "      <td>2698</td>\n",
       "      <td>34</td>\n",
       "      <td>2,500.00</td>\n",
       "      <td>0</td>\n",
       "      <td>0</td>\n",
       "      <td>11</td>\n",
       "      <td>2015</td>\n",
       "      <td>2015-11-01</td>\n",
       "      <td>20</td>\n",
       "    </tr>\n",
       "  </tbody>\n",
       "</table>\n",
       "</div>"
      ],
      "text/plain": [
       "         shop_id  item_id  date_block_num  item_price  item_cnt_month  \\\n",
       "2179009       18    21980              30        0.00               0   \n",
       "194611        25      849               5        0.00               0   \n",
       "2555998       57    12764              32        0.00               0   \n",
       "671185        50    12542              14        0.00               0   \n",
       "2783098       16     2698              34    2,500.00               0   \n",
       "\n",
       "         is_new_arrival  month  year year_month  item_category_id  \n",
       "2179009               0      7  2015 2015-07-01                57  \n",
       "194611                0      6  2013 2013-06-01                78  \n",
       "2555998               0      9  2015 2015-09-01                37  \n",
       "671185                0      3  2014 2014-03-01                55  \n",
       "2783098               0     11  2015 2015-11-01                20  "
      ]
     },
     "execution_count": 137,
     "metadata": {},
     "output_type": "execute_result"
    }
   ],
   "source": [
    "df_basegrid.sample(5)"
   ]
  },
  {
   "cell_type": "code",
   "execution_count": null,
   "id": "29b8c951",
   "metadata": {},
   "outputs": [],
   "source": []
  },
  {
   "cell_type": "code",
   "execution_count": null,
   "id": "0dd34a84",
   "metadata": {},
   "outputs": [],
   "source": []
  },
  {
   "cell_type": "code",
   "execution_count": null,
   "id": "077bdbf4",
   "metadata": {},
   "outputs": [],
   "source": []
  },
  {
   "cell_type": "markdown",
   "id": "96afc133",
   "metadata": {},
   "source": [
    "# pickle"
   ]
  },
  {
   "cell_type": "code",
   "execution_count": 138,
   "id": "56bb5f9b",
   "metadata": {},
   "outputs": [],
   "source": [
    "#save neccessary object to pickle_dict, which will be pickled in other notebook for feature engineering and modeling\n",
    "#\n",
    "pickle_dict2 = dict()\n",
    "pickle_dict2['df_basegrid']=df_basegrid   #concat df_train_m and df_test\n",
    "#pickle_dict2['df_train']=df_train\n",
    "#pickle_dict2['df_test']=df_test\n",
    "#pickle_dict2['df_items']=df_items\n",
    "#pickle_dict2['df_shops']=df_shops\n",
    "#pickle_dict2['df_cat']=df_cat\n",
    "pickle.dump(pickle_dict2, open('../temp/data2.pkl', 'wb'))\n",
    "\n"
   ]
  },
  {
   "cell_type": "code",
   "execution_count": null,
   "id": "dbc7c3d7",
   "metadata": {},
   "outputs": [],
   "source": []
  },
  {
   "cell_type": "code",
   "execution_count": null,
   "id": "7a273183",
   "metadata": {},
   "outputs": [],
   "source": []
  },
  {
   "cell_type": "code",
   "execution_count": null,
   "id": "26d3f510",
   "metadata": {},
   "outputs": [],
   "source": []
  },
  {
   "cell_type": "code",
   "execution_count": null,
   "id": "fec70e58",
   "metadata": {},
   "outputs": [],
   "source": []
  },
  {
   "cell_type": "code",
   "execution_count": null,
   "id": "da9806be",
   "metadata": {},
   "outputs": [],
   "source": []
  },
  {
   "cell_type": "code",
   "execution_count": null,
   "id": "4208c7c6",
   "metadata": {},
   "outputs": [],
   "source": []
  }
 ],
 "metadata": {
  "kernelspec": {
   "display_name": "Python 3 (ipykernel)",
   "language": "python",
   "name": "python3"
  },
  "language_info": {
   "codemirror_mode": {
    "name": "ipython",
    "version": 3
   },
   "file_extension": ".py",
   "mimetype": "text/x-python",
   "name": "python",
   "nbconvert_exporter": "python",
   "pygments_lexer": "ipython3",
   "version": "3.9.13"
  }
 },
 "nbformat": 4,
 "nbformat_minor": 5
}
